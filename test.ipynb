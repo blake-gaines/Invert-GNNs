{
 "cells": [
  {
   "cell_type": "code",
   "execution_count": 158,
   "metadata": {},
   "outputs": [
    {
     "name": "stdout",
     "output_type": "stream",
     "text": [
      "Shapes: (5, 1) (5, 1) (1, 5) (1, 1)\n",
      "Minimize\n",
      "  2.25 + -3.0 tj2[0,0] + [ tj2[0,0] ^ 2 ]\n",
      "Subject To\n",
      "  R0: -1.0 x[0,0] + tj1[0,0] + -1.0 sj1[0,0] = 0\n",
      "  R1: -1.0 x[0,0] + tj1[1,0] + -1.0 sj1[1,0] = -1\n",
      "  R2: -1.0 x[0,0] + tj1[2,0] + -1.0 sj1[2,0] = -2\n",
      "  R3: -1.0 x[0,0] + tj1[3,0] + -1.0 sj1[3,0] = -3\n",
      "  R4: -1.0 x[0,0] + tj1[4,0] + -1.0 sj1[4,0] = -4\n",
      "  R5: tj1[0,0] + -10000.0 zj1[0,0] <= -0\n",
      "  R6: tj1[1,0] + -10000.0 zj1[1,0] <= -0\n",
      "  R7: tj1[2,0] + -10000.0 zj1[2,0] <= -0\n",
      "  R8: tj1[3,0] + -10000.0 zj1[3,0] <= -0\n",
      "  R9: tj1[4,0] + -10000.0 zj1[4,0] <= -0\n",
      "  R10: sj1[0,0] + 10000.0 zj1[0,0] <= 10000\n",
      "  R11: sj1[1,0] + 10000.0 zj1[1,0] <= 10000\n",
      "  R12: sj1[2,0] + 10000.0 zj1[2,0] <= 10000\n",
      "  R13: sj1[3,0] + 10000.0 zj1[3,0] <= 10000\n",
      "  R14: sj1[4,0] + 10000.0 zj1[4,0] <= 10000\n",
      "R15: -3.2 tj1[0,0] + 3.0 tj1[1,0] + -1.4 tj1[2,0] + -2.2 tj1[3,0] + tj1[4,0] + tj2[0,0]\n",
      " + -1.0 sj2[0,0] = -0.2\n",
      "  R16: tj2[0,0] + -10000.0 zj2[0,0] <= -0\n",
      "  R17: sj2[0,0] + 10000.0 zj2[0,0] <= 10000\n",
      "Bounds\n",
      "  x[0,0] free\n",
      "  0 <= tj1[0,0] <= 100\n",
      "  0 <= tj1[1,0] <= 100\n",
      "  0 <= tj1[2,0] <= 100\n",
      "  0 <= tj1[3,0] <= 100\n",
      "  0 <= tj1[4,0] <= 100\n",
      "  0 <= sj1[0,0] <= 100\n",
      "  0 <= sj1[1,0] <= 100\n",
      "  0 <= sj1[2,0] <= 100\n",
      "  0 <= sj1[3,0] <= 100\n",
      "  0 <= sj1[4,0] <= 100\n",
      "  0 <= tj2[0,0] <= 100\n",
      "  0 <= sj2[0,0] <= 100\n",
      "Binaries\n",
      "  ['zj1[0,0]', 'zj1[1,0]', 'zj1[2,0]', 'zj1[3,0]', 'zj1[4,0]', 'zj2[0,0]']\n"
     ]
    }
   ],
   "source": [
    "import gurobipy as gp\n",
    "from gurobipy import GRB\n",
    "import numpy as np\n",
    "\n",
    "W1 = np.array([[1, 1, 1, 1, 1]]).T\n",
    "b1 = np.array([[0, -1, -2, -3, -4]]).T\n",
    "W2 = np.array([[3.2, -3, 1.4, 2.2, -1]])\n",
    "b2 = np.array([[-0.2]])\n",
    "print(\"Shapes:\", W1.shape, b1.shape, W2.shape, b2.shape)\n",
    "\n",
    "m = gp.Model(\"GNN Inverse\")\n",
    "\n",
    "x = m.addMVar((1, 1), lb=-float(\"inf\"), ub=float(\"inf\"), name=\"x\")\n",
    "\n",
    "activation_list = [x]\n",
    "for i, layer, bias in [(1, W1, b1), (2, W2, b2)]:\n",
    "    # print(bias)\n",
    "    ts = m.addMVar((layer.shape[0], 1), lb=0, ub=100, name=f\"tj{i}\")\n",
    "    ss = m.addMVar((layer.shape[0], 1), lb=0, ub=100, name=f\"sj{i}\")\n",
    "    zs = m.addMVar((layer.shape[0], 1), vtype=GRB.BINARY, name=f\"zj{i}\")\n",
    "\n",
    "    # m.addConstr(ts-ss==gp.quicksum(layer @ activation_list[-1] + bias)) # wrong, but something like this\n",
    "    for j in range(layer.shape[0]):\n",
    "        c = m.addConstr(ts[j]-ss[j]==gp.quicksum(layer[j, :] @ activation_list[-1] + bias[j]))\n",
    "\n",
    "    m.addConstr(ts <= 10000*zs)\n",
    "    m.addConstr(ss <= 10000*(1-zs))\n",
    "\n",
    "    activation_list.append(ts)\n",
    "# m.setObjective((ts[0][0]-1.5)*(ts[0][0]-1.5), GRB.MINIMIZE)\n",
    "m.setObjective((ts-1.5)*(ts-1.5), GRB.MINIMIZE)\n",
    "\n",
    "m.update()\n",
    "m.display()\n"
   ]
  },
  {
   "cell_type": "code",
   "execution_count": 159,
   "metadata": {},
   "outputs": [
    {
     "name": "stdout",
     "output_type": "stream",
     "text": [
      "Gurobi Optimizer version 10.0.0 build v10.0.0rc2 (linux64)\n",
      "\n",
      "CPU model: Intel(R) Xeon(R) Gold 5120 CPU @ 2.20GHz, instruction set [SSE2|AVX|AVX2|AVX512]\n",
      "Thread count: 14 physical cores, 28 logical processors, using up to 28 threads\n",
      "\n",
      "Optimize a model with 18 rows, 19 columns and 46 nonzeros\n",
      "Model fingerprint: 0x9280d1ee\n",
      "Model has 1 quadratic objective term\n",
      "Variable types: 13 continuous, 6 integer (6 binary)\n",
      "Coefficient statistics:\n",
      "  Matrix range     [1e+00, 1e+04]\n",
      "  Objective range  [3e+00, 3e+00]\n",
      "  QObjective range [2e+00, 2e+00]\n",
      "  Bounds range     [1e+00, 1e+02]\n",
      "  RHS range        [2e-01, 1e+04]\n",
      "Presolve time: 0.00s\n",
      "Presolved: 18 rows, 19 columns, 46 nonzeros\n",
      "Presolved model has 1 quadratic objective terms\n",
      "Variable types: 13 continuous, 6 integer (6 binary)\n",
      "Found heuristic solution: objective 2.2500000\n",
      "\n",
      "Root relaxation: objective 0.000000e+00, 17 iterations, 0.00 seconds (0.00 work units)\n",
      "\n",
      "    Nodes    |    Current Node    |     Objective Bounds      |     Work\n",
      " Expl Unexpl |  Obj  Depth IntInf | Incumbent    BestBd   Gap | It/Node Time\n",
      "\n",
      "     0     0    0.00000    0    2    2.25000    0.00000   100%     -    0s\n",
      "H    0     0                       0.0000000    0.00000  0.00%     -    0s\n",
      "\n",
      "Explored 1 nodes (17 simplex iterations) in 0.02 seconds (0.00 work units)\n",
      "Thread count was 28 (of 28 available processors)\n",
      "\n",
      "Solution count 2: 0 2.25 \n",
      "\n",
      "Optimal solution found (tolerance 1.00e-04)\n",
      "Best objective 0.000000000000e+00, best bound 0.000000000000e+00, gap 0.0000%\n"
     ]
    }
   ],
   "source": [
    "m.optimize()"
   ]
  },
  {
   "cell_type": "code",
   "execution_count": 160,
   "metadata": {},
   "outputs": [
    {
     "name": "stdout",
     "output_type": "stream",
     "text": [
      "x[0,0] 0.53125\n",
      "tj1[0,0] 0.53125\n",
      "tj1[1,0] 0\n",
      "tj1[2,0] 0\n",
      "tj1[3,0] 0\n",
      "tj1[4,0] 0\n",
      "sj1[0,0] 0\n",
      "sj1[1,0] 0.46875\n",
      "sj1[2,0] 1.46875\n",
      "sj1[3,0] 2.46875\n",
      "sj1[4,0] 3.46875\n",
      "zj1[0,0] 1\n",
      "zj1[1,0] -0\n",
      "zj1[2,0] -0\n",
      "zj1[3,0] -0\n",
      "zj1[4,0] -0\n",
      "tj2[0,0] 1.5\n",
      "sj2[0,0] 0\n",
      "zj2[0,0] 1\n",
      "Obj: 0\n"
     ]
    }
   ],
   "source": [
    "# m.computeIIS()\n",
    "# m.write(\"model.ilp\")\n",
    "\n",
    "for v in m.getVars():\n",
    "    print('%s %g' % (v.VarName, v.X))\n",
    "\n",
    "print('Obj: %g' % m.ObjVal)"
   ]
  }
 ],
 "metadata": {
  "kernelspec": {
   "display_name": "gurobi",
   "language": "python",
   "name": "python3"
  },
  "language_info": {
   "codemirror_mode": {
    "name": "ipython",
    "version": 3
   },
   "file_extension": ".py",
   "mimetype": "text/x-python",
   "name": "python",
   "nbconvert_exporter": "python",
   "pygments_lexer": "ipython3",
   "version": "3.8.16"
  },
  "orig_nbformat": 4
 },
 "nbformat": 4,
 "nbformat_minor": 2
}
