{
 "cells": [
  {
   "cell_type": "code",
   "execution_count": 23,
   "metadata": {},
   "outputs": [],
   "source": [
    "import torch\n",
    "from torch_geometric.datasets import TUDataset\n",
    "from torch_geometric.loader import DataLoader\n",
    "import torch\n",
    "# from tqdm import tqdm\n",
    "from torch_geometric.utils import to_networkx\n",
    "import networkx as nx\n",
    "from gnn import GNN\n",
    "import matplotlib.pyplot as plt\n",
    "import os\n",
    "import numpy as np"
   ]
  },
  {
   "cell_type": "code",
   "execution_count": 24,
   "metadata": {},
   "outputs": [],
   "source": [
    "dataset = TUDataset(root='data/TUDataset', name='MUTAG')\n",
    "atom_indices = {\n",
    "    0: \"C\",\n",
    "    1: \"N\",\n",
    "    2: \"O\",\n",
    "    3: \"F\",\n",
    "    4: \"I\",\n",
    "    5: \"Cl\",\n",
    "    6: \"Br\",\n",
    "}\n",
    "\n",
    "edge_indices = {\n",
    "    0: \"aromatic\",\n",
    "    1: \"single\",\n",
    "    2: \"double\",\n",
    "    3: \"triple\",\n",
    "}"
   ]
  },
  {
   "cell_type": "code",
   "execution_count": 25,
   "metadata": {},
   "outputs": [
    {
     "data": {
      "text/plain": [
       "GNN(\n",
       "  (conv1): SAGEConv(7, 32, aggr=mean)\n",
       "  (conv2): SAGEConv(32, 48, aggr=mean)\n",
       "  (conv3): SAGEConv(48, 64, aggr=mean)\n",
       "  (lin1): Linear(in_features=64, out_features=32, bias=True)\n",
       "  (lin2): Linear(in_features=32, out_features=32, bias=True)\n",
       "  (lin3): Linear(in_features=32, out_features=2, bias=True)\n",
       ")"
      ]
     },
     "execution_count": 25,
     "metadata": {},
     "output_type": "execute_result"
    }
   ],
   "source": [
    "model_path = \"models/MUTAG_model.pth\"\n",
    "nn = torch.load(model_path)\n",
    "nn.eval()\n",
    "nn.double()"
   ]
  },
  {
   "cell_type": "code",
   "execution_count": 26,
   "metadata": {},
   "outputs": [],
   "source": [
    "A = np.load(\"./A.npy\")\n",
    "X = np.load(\"./X.npy\")"
   ]
  },
  {
   "cell_type": "code",
   "execution_count": 27,
   "metadata": {},
   "outputs": [
    {
     "data": {
      "text/plain": [
       "((array([ 0,  1,  2,  3,  4,  5,  6,  7,  8,  9, 10, 11]),\n",
       "  array([0, 0, 2, 0, 0, 0, 0, 0, 0, 1, 2, 2])),\n",
       " (array([ 0,  1,  1,  2,  2,  3,  3,  3,  4,  4,  5,  5,  6,  6,  7,  7,  7,\n",
       "          8,  8,  8,  9,  9,  9, 10, 11]),\n",
       "  array([ 1,  0,  2,  1,  3,  2,  4,  8,  3,  5,  4,  6,  5,  7,  6,  7,  8,\n",
       "          3,  7,  9,  8, 10, 11,  9,  9])))"
      ]
     },
     "execution_count": 27,
     "metadata": {},
     "output_type": "execute_result"
    }
   ],
   "source": [
    "X.nonzero(), A.nonzero()"
   ]
  },
  {
   "cell_type": "code",
   "execution_count": 28,
   "metadata": {},
   "outputs": [
    {
     "data": {
      "text/plain": [
       "array([[-0.,  1., -0., -0., -0., -0., -0., -0., -0., -0., -0., -0.],\n",
       "       [ 1.,  0.,  1., -0., -0., -0., -0., -0., -0., -0., -0., -0.],\n",
       "       [ 0.,  1.,  0.,  1., -0., -0., -0., -0., -0., -0., -0., -0.],\n",
       "       [ 0.,  0.,  1., -0.,  1., -0., -0., -0.,  1., -0., -0., -0.],\n",
       "       [ 0.,  0.,  0.,  1., -0.,  1., -0., -0., -0., -0., -0., -0.],\n",
       "       [ 0.,  0.,  0.,  0.,  1., -0.,  1., -0., -0., -0., -0., -0.],\n",
       "       [ 0.,  0.,  0.,  0.,  0.,  1., -0.,  1., -0., -0., -0., -0.],\n",
       "       [ 0.,  0.,  0.,  0.,  0.,  0.,  1.,  1.,  1., -0., -0., -0.],\n",
       "       [ 0.,  0.,  0.,  1.,  0.,  0.,  0.,  1., -0.,  1., -0., -0.],\n",
       "       [ 0.,  0.,  0.,  0.,  0.,  0.,  0.,  0.,  1., -0.,  1.,  1.],\n",
       "       [ 0.,  0.,  0.,  0.,  0.,  0.,  0.,  0.,  0.,  1., -0., -0.],\n",
       "       [ 0.,  0.,  0.,  0.,  0.,  0.,  0.,  0.,  0.,  1.,  0., -0.]])"
      ]
     },
     "execution_count": 28,
     "metadata": {},
     "output_type": "execute_result"
    }
   ],
   "source": [
    "A"
   ]
  },
  {
   "cell_type": "code",
   "execution_count": 29,
   "metadata": {},
   "outputs": [
    {
     "data": {
      "image/png": "[encoded data removed]",
      "text/plain": [
       "<Figure size 640x480 with 1 Axes>"
      ]
     },
     "metadata": {},
     "output_type": "display_data"
    }
   ],
   "source": [
    "G = nx.from_numpy_array(A, create_using=nx.DiGraph)\n",
    "\n",
    "labels = dict(zip(range(X.shape[0]), map(atom_indices.get, np.argmax(X, axis=1))))\n",
    "fig, ax = plt.subplots()\n",
    "pos = nx.spring_layout(G, seed=7)\n",
    "x_indices = np.argmax(X, axis=1)\n",
    "nx.draw_networkx(G, pos=pos, with_labels=True, node_color = x_indices, labels=labels)"
   ]
  }
 ],
 "metadata": {
  "kernelspec": {
   "display_name": "gurobi",
   "language": "python",
   "name": "python3"
  },
  "language_info": {
   "codemirror_mode": {
    "name": "ipython",
    "version": 3
   },
   "file_extension": ".py",
   "mimetype": "text/x-python",
   "name": "python",
   "nbconvert_exporter": "python",
   "pygments_lexer": "ipython3",
   "version": "3.8.16"
  },
  "orig_nbformat": 4
 },
 "nbformat": 4,
 "nbformat_minor": 2
}
