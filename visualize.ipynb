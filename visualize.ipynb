{
 "cells": [
  {
   "cell_type": "code",
   "execution_count": 1,
   "metadata": {},
   "outputs": [],
   "source": [
    "import torch\n",
    "from torch_geometric.datasets import TUDataset, Entities\n",
    "import torch\n",
    "# from tqdm import tqdm\n",
    "from torch_geometric.utils import to_networkx\n",
    "from torch_geometric.utils.convert import from_networkx\n",
    "import networkx as nx\n",
    "from gnn import GNN\n",
    "import matplotlib.pyplot as plt\n",
    "import os\n",
    "import numpy as np\n",
    "from gnn import GNN\n",
    "from torch_geometric.utils import to_dense_adj, dense_to_sparse\n",
    "from torch_geometric.data import Data, Batch\n",
    "import plotly.express as px\n",
    "import matplotlib.colors as mcolors\n",
    "import random\n",
    "import pickle\n",
    "from utils import draw_graph, get_average_phi\n",
    "import plotly.graph_objects as go\n",
    "from tqdm.notebook import tqdm\n",
    "\n",
    "if not os.path.isdir(\"figures\"): os.mkdir(\"figures\")"
   ]
  },
  {
   "cell_type": "code",
   "execution_count": 16,
   "metadata": {},
   "outputs": [],
   "source": [
    "atom_indices = {\n",
    "    0: \"C\",\n",
    "    1: \"N\",\n",
    "    2: \"O\",\n",
    "    3: \"F\",\n",
    "    4: \"I\",\n",
    "    5: \"Cl\",\n",
    "    6: \"Br\",\n",
    "}\n",
    "\n",
    "edge_indices = {\n",
    "    0: \"aromatic\",\n",
    "    1: \"single\",\n",
    "    2: \"double\",\n",
    "    3: \"triple\",\n",
    "}\n",
    "\n",
    "atom_colors = {\n",
    "    0: \"#9b5fe0\",\n",
    "    1: \"#16a4d8\",\n",
    "    2: \"#60dbe8\",\n",
    "    3: \"#efdf48\",\n",
    "    4: \"#f9a52c\",\n",
    "    5: \"#d64e11\",\n",
    "    6: \"#8bd346\",\n",
    "}\n",
    "\n",
    "dataset = TUDataset(root='data/TUDataset', name='MUTAG')\n",
    "# dataset = Entities(root='data/Entities', name='MUTAG')\n",
    "molecules = True\n",
    "model_path = \"models/MUTAG_model.pth\""
   ]
  },
  {
   "cell_type": "code",
   "execution_count": 17,
   "metadata": {},
   "outputs": [],
   "source": [
    "# with open(\"data/OurMotifs/dataset.pkl\", \"rb\") as f:\n",
    "#     dataset = pickle.load(f)\n",
    "# molecules = False\n",
    "# model_path = \"models/OurMotifs_model_mean.pth\""
   ]
  },
  {
   "cell_type": "code",
   "execution_count": 18,
   "metadata": {},
   "outputs": [
    {
     "data": {
      "text/plain": [
       "{0: '#228B22',\n",
       " 1: '#008B8B',\n",
       " 2: '#191970',\n",
       " 3: '#8A2BE2',\n",
       " 4: '#778899',\n",
       " 5: '#008000',\n",
       " 6: '#FFEBCD'}"
      ]
     },
     "execution_count": 18,
     "metadata": {},
     "output_type": "execute_result"
    }
   ],
   "source": [
    "num_node_features = dataset[0].x.shape[1]\n",
    "node_colors = {i:c for i,c in enumerate(random.choices(list(mcolors.CSS4_COLORS.values()), k=num_node_features))}\n",
    "node_colors"
   ]
  },
  {
   "cell_type": "code",
   "execution_count": 19,
   "metadata": {},
   "outputs": [
    {
     "data": {
      "text/plain": [
       "GNN(\n",
       "  (layers): ModuleDict(\n",
       "    (Conv_0): SAGEConv(7, 32, aggr=mean)\n",
       "    (Conv_0_Relu): ReLU()\n",
       "    (Conv_1): SAGEConv(32, 32, aggr=mean)\n",
       "    (Conv_1_Relu): ReLU()\n",
       "    (Conv_2): SAGEConv(32, 32, aggr=mean)\n",
       "    (Conv_2_Relu): ReLU()\n",
       "    (Aggregation): MeanAggregation()\n",
       "    (Lin_0): Linear(in_features=32, out_features=32, bias=True)\n",
       "    (Lin_0_Relu): ReLU()\n",
       "    (Output): Linear(in_features=32, out_features=2, bias=True)\n",
       "  )\n",
       "  (softmax): Softmax(dim=0)\n",
       ")"
      ]
     },
     "execution_count": 19,
     "metadata": {},
     "output_type": "execute_result"
    }
   ],
   "source": [
    "nn = torch.load(model_path)\n",
    "nn.double()\n",
    "nn.eval()"
   ]
  },
  {
   "cell_type": "code",
   "execution_count": null,
   "metadata": {},
   "outputs": [],
   "source": [
    "phi = get_average_phi(dataset, nn, \"Aggregation\")"
   ]
  },
  {
   "cell_type": "code",
   "execution_count": 20,
   "metadata": {},
   "outputs": [],
   "source": [
    "with open(\"acyclic_solutions_l2_noinit.pkl\", \"rb\") as f:\n",
    "    solutions = pickle.load(f)"
   ]
  },
  {
   "cell_type": "code",
   "execution_count": 21,
   "metadata": {},
   "outputs": [
    {
     "name": "stdout",
     "output_type": "stream",
     "text": [
      "NN output given explanation [-14.34631944  16.53939108]\n"
     ]
    },
    {
     "data": {
      "image/png": "[encoded data removed]",
      "text/plain": [
       "<Figure size 640x480 with 1 Axes>"
      ]
     },
     "metadata": {},
     "output_type": "display_data"
    }
   ],
   "source": [
    "# index = \"Final\"\n",
    "# A = np.load(f\"./solutions/A_{index}.npy\")\n",
    "# X = np.load(f\"./solutions/X_{index}.npy\")\n",
    "final = solutions[-1]\n",
    "A = final[\"A\"]\n",
    "X = final[\"X\"]\n",
    "\n",
    "\n",
    "fig, _ = draw_graph(A, X, label_dict=(atom_indices if molecules else None), color_dict=(atom_colors if molecules else None))\n",
    "fig.show()\n",
    "\n",
    "exp_output = nn.forwardXA(X, A).detach().numpy().squeeze()\n",
    "print(\"NN output given explanation\", exp_output)\n"
   ]
  },
  {
   "cell_type": "code",
   "execution_count": null,
   "metadata": {},
   "outputs": [],
   "source": [
    "from torch.nn.functional\n",
    "\n"
   ]
  },
  {
   "cell_type": "code",
   "execution_count": 22,
   "metadata": {},
   "outputs": [],
   "source": [
    "plt.close()"
   ]
  },
  {
   "cell_type": "code",
   "execution_count": 37,
   "metadata": {},
   "outputs": [
    {
     "name": "stdout",
     "output_type": "stream",
     "text": [
      "tensor([0])\n"
     ]
    },
    {
     "data": {
      "image/png": "[encoded data removed]",
      "text/plain": [
       "<Figure size 640x480 with 1 Axes>"
      ]
     },
     "metadata": {},
     "output_type": "display_data"
    },
    {
     "name": "stdout",
     "output_type": "stream",
     "text": [
      "tensor([1])\n"
     ]
    },
    {
     "data": {
      "image/png": "[encoded data removed]",
      "text/plain": [
       "<Figure size 640x480 with 1 Axes>"
      ]
     },
     "metadata": {},
     "output_type": "display_data"
    },
    {
     "name": "stdout",
     "output_type": "stream",
     "text": [
      "tensor([0])\n"
     ]
    },
    {
     "data": {
      "image/png": "[encoded data removed]",
      "text/plain": [
       "<Figure size 640x480 with 1 Axes>"
      ]
     },
     "metadata": {},
     "output_type": "display_data"
    },
    {
     "name": "stdout",
     "output_type": "stream",
     "text": [
      "tensor([0])\n"
     ]
    },
    {
     "data": {
      "image/png": "[encoded data removed]",
      "text/plain": [
       "<Figure size 640x480 with 1 Axes>"
      ]
     },
     "metadata": {},
     "output_type": "display_data"
    },
    {
     "name": "stdout",
     "output_type": "stream",
     "text": [
      "tensor([1])\n"
     ]
    },
    {
     "data": {
      "image/png": "[encoded data removed]",
      "text/plain": [
       "<Figure size 640x480 with 1 Axes>"
      ]
     },
     "metadata": {},
     "output_type": "display_data"
    },
    {
     "name": "stdout",
     "output_type": "stream",
     "text": [
      "tensor([1])\n"
     ]
    },
    {
     "data": {
      "image/png": "[encoded data removed]",
      "text/plain": [
       "<Figure size 640x480 with 1 Axes>"
      ]
     },
     "metadata": {},
     "output_type": "display_data"
    },
    {
     "name": "stdout",
     "output_type": "stream",
     "text": [
      "tensor([0])\n"
     ]
    },
    {
     "data": {
      "image/png": "[encoded data removed]",
      "text/plain": [
       "<Figure size 640x480 with 1 Axes>"
      ]
     },
     "metadata": {},
     "output_type": "display_data"
    },
    {
     "name": "stdout",
     "output_type": "stream",
     "text": [
      "tensor([0])\n"
     ]
    },
    {
     "data": {
      "image/png": "[encoded data removed]",
      "text/plain": [
       "<Figure size 640x480 with 1 Axes>"
      ]
     },
     "metadata": {},
     "output_type": "display_data"
    },
    {
     "name": "stdout",
     "output_type": "stream",
     "text": [
      "tensor([1])\n"
     ]
    },
    {
     "data": {
      "image/png": "[encoded data removed]",
      "text/plain": [
       "<Figure size 640x480 with 1 Axes>"
      ]
     },
     "metadata": {},
     "output_type": "display_data"
    },
    {
     "name": "stdout",
     "output_type": "stream",
     "text": [
      "tensor([0])\n"
     ]
    },
    {
     "data": {
      "image/png": "[encoded data removed]",
      "text/plain": [
       "<Figure size 640x480 with 1 Axes>"
      ]
     },
     "metadata": {},
     "output_type": "display_data"
    }
   ],
   "source": [
    "for data in dataset[-10:]:\n",
    "    print(data.y)\n",
    "    fig, ax = draw_graph(to_dense_adj(data.edge_index)[0].detach().numpy(), data.x.detach().numpy(), color_dict=(atom_colors if molecules else None), label_dict=(atom_indices if molecules else None))\n",
    "    plt.show()"
   ]
  },
  {
   "cell_type": "code",
   "execution_count": 24,
   "metadata": {},
   "outputs": [],
   "source": [
    "from gnn import GNN\n",
    "class WrappedGNN(torch.nn.Module):\n",
    "    def __init__(self, gnn):\n",
    "        super().__init__()\n",
    "        self.gnn = gnn\n",
    "    \n",
    "    def forward(self, x, edge_index):\n",
    "        return self.gnn.forward(Data(x=x, edge_index=edge_index))\n",
    "    \n",
    "wrapped_nn = WrappedGNN(nn)\n",
    "wrapped_nn.double()\n",
    "\n",
    "torch.save(nn, \"models/wrapped_MUTAG_model.pth\")"
   ]
  },
  {
   "cell_type": "code",
   "execution_count": 25,
   "metadata": {},
   "outputs": [
    {
     "name": "stderr",
     "output_type": "stream",
     "text": [
      "/opt/anaconda3/envs/gurobi/lib/python3.8/site-packages/torch_geometric/deprecation.py:22: UserWarning:\n",
      "\n",
      "'data.DataLoader' is deprecated, use 'loader.DataLoader' instead\n",
      "\n"
     ]
    },
    {
     "name": "stdout",
     "output_type": "stream",
     "text": [
      "tensor([0.0000, 0.0000, 0.0000, 0.9435, 0.0000, 0.9212, 0.0000, 0.0000, 0.9369,\n",
      "        0.0000, 0.9296, 0.0000, 0.0000, 0.0000, 0.0000, 0.0000, 0.9293, 0.0000])\n",
      "tensor([[0.0000, 0.0000, 0.0000, 0.0000, 0.0000, 0.0000, 0.0000],\n",
      "        [0.0000, 0.0000, 0.0000, 0.0000, 0.0000, 0.0000, 0.0000],\n",
      "        [0.0000, 0.0000, 0.0000, 0.0000, 0.0000, 0.0000, 0.0000],\n",
      "        [0.0000, 0.0000, 0.0000, 0.0000, 0.9094, 0.0000, 0.0000],\n",
      "        [0.0000, 0.0000, 0.0000, 0.0000, 0.0000, 0.0000, 0.0000],\n",
      "        [0.9098, 0.0000, 0.0000, 0.0000, 0.0000, 0.0000, 0.0000],\n",
      "        [0.9253, 0.0000, 0.0000, 0.0000, 0.0000, 0.0000, 0.0000],\n",
      "        [0.9197, 0.0000, 0.0000, 0.0000, 0.0000, 0.0000, 0.0000],\n",
      "        [0.0000, 0.0000, 0.0000, 0.0000, 0.0000, 0.0000, 0.0000],\n",
      "        [0.0000, 0.0000, 0.0000, 0.0000, 0.0000, 0.0000, 0.0000],\n",
      "        [0.0000, 0.0000, 0.0000, 0.0000, 0.0000, 0.0000, 0.0000],\n",
      "        [0.0000, 0.0000, 0.0000, 0.0000, 0.0000, 0.0000, 0.0000],\n",
      "        [0.0000, 0.0000, 0.0000, 0.0000, 0.0000, 0.0000, 0.0000],\n",
      "        [0.0000, 0.0000, 0.0000, 0.0000, 0.0000, 0.0000, 0.0000],\n",
      "        [0.0000, 0.0000, 0.0000, 0.0000, 0.0000, 0.0000, 0.0000],\n",
      "        [0.9109, 0.0000, 0.0000, 0.0000, 0.0000, 0.0000, 0.0000],\n",
      "        [0.0000, 0.0000, 0.0000, 0.0000, 0.0000, 0.0000, 0.0000]])\n"
     ]
    },
    {
     "data": {
      "image/png": "[encoded data removed]",
      "text/plain": [
       "<Figure size 640x480 with 1 Axes>"
      ]
     },
     "metadata": {},
     "output_type": "display_data"
    }
   ],
   "source": [
    "from torch_geometric.data import Data, DataLoader\n",
    "from torch_geometric.explain import Explainer, PGExplainer, GNNExplainer\n",
    "\n",
    "loader = DataLoader(dataset, batch_size=1, shuffle=True)\n",
    "\n",
    "explainer = Explainer(\n",
    "    model=wrapped_nn,\n",
    "    algorithm=GNNExplainer(epochs=200),\n",
    "    explanation_type='model',\n",
    "    node_mask_type='attributes',\n",
    "    edge_mask_type='object',\n",
    "    model_config=dict(\n",
    "        mode='multiclass_classification',\n",
    "        task_level='graph',\n",
    "        return_type='log_probs',\n",
    "    ),\n",
    "    # Include only the top k most important edges:\n",
    "    threshold_config=dict(threshold_type='topk', value=5),\n",
    ")\n",
    "\n",
    "# Generate the explanation for a particular graph:\n",
    "explanation = explainer(x=torch.Tensor(X).double(), edge_index=dense_to_sparse(torch.Tensor(A))[0])\n",
    "print(explanation.edge_mask)\n",
    "print(explanation.node_mask)\n",
    "\n",
    "explanation\n",
    "\n",
    "explanation.visualize_graph()"
   ]
  },
  {
   "cell_type": "code",
   "execution_count": 45,
   "metadata": {},
   "outputs": [
    {
     "data": {
      "application/vnd.jupyter.widget-view+json": {
       "model_id": "edacba7a55d24097b9c1d16d754e8338",
       "version_major": 2,
       "version_minor": 0
      },
      "text/plain": [
       "  0%|          | 0/188 [00:00<?, ?it/s]"
      ]
     },
     "metadata": {},
     "output_type": "display_data"
    },
    {
     "name": "stdout",
     "output_type": "stream",
     "text": [
      "hello\n",
      "[63, 125] [1, 1] [0.015873015873015872, 0.008]\n"
     ]
    }
   ],
   "source": [
    "import networkx.algorithms.isomorphism as iso\n",
    "hypothesis_graph = nx.Graph()\n",
    "# hypothesis_graph_nodes = [(0, {\"label\": 0}), (1, {\"label\": 0}), (2, {\"label\": 0}), (3, {\"label\": 0}), (4, {\"label\": 0}), (5, {\"label\": 0})]\n",
    "# hypothesis_graph_nodes += [(6, {\"label\": 0}), (7, {\"label\": 0}), (8, {\"label\": 0}), (9, {\"label\": 0}), (10, {\"label\": 0}), (11, {\"label\": 0})]\n",
    "hypothesis_graph_nodes = [(0, {\"label\": 6})]\n",
    "hypothesis_graph.add_nodes_from(hypothesis_graph_nodes)\n",
    "# hypothesis_graph.add_edges_from([(i,i+1) for i in range(0, 5)] + [(5,0)])\n",
    "# hypothesis_graph.add_edges_from([(i,i+1) for i in range(6, 11)] + [(11,6)])\n",
    "# hypothesis_graph.add_edge(0, 1)\n",
    "# hypothesis_graph.add_edge(1, 2)\n",
    "\n",
    "total = [0 for _ in range(2)]\n",
    "total_matched = [0 for _ in range(2)]\n",
    "for data in tqdm(dataset):\n",
    "    # print(data.x)\n",
    "    data_graph = to_networkx(data, to_undirected=True)\n",
    "    x_indices = np.argmax(data.x.detach().numpy(), axis=1)\n",
    "    if 4 in x_indices: print(\"hello\")\n",
    "    label_mapping = dict(zip(range(data.x.shape[0]), x_indices)) # dict(zip(range(X.shape[0]), map(label_dict.get, x_indices)))\n",
    "    nx.set_node_attributes(data_graph, label_mapping, \"label\")\n",
    "    GM = iso.GraphMatcher(data_graph,hypothesis_graph, node_match=iso.categorical_node_match('label',None))\n",
    "    total[data.y] += 1\n",
    "    total_matched[data.y] += GM.subgraph_is_isomorphic()\n",
    "print(total, total_matched, [a/b for a,b in zip(total_matched, total)])\n",
    "\n",
    "# print({key: torch.eye(7)[value[\"label\"]] for key, value in hypothesis_graph_nodes})\n",
    "# nx.set_node_attributes(hypothesis_graph, {key: torch.eye(7)[value[\"label\"]] for key, value in hypothesis_graph_nodes}, name=\"label\")\n",
    "\n",
    "# for data in tqdm(dataset):\n",
    "#     data.x = data.x.double()\n",
    "#     original_prediction = nn(data).detach().numpy().squeeze()\n",
    "#     del data.edge_weight\n",
    "#     del data.batch\n",
    "\n",
    "#     data_graph = to_networkx(data, to_undirected=True)\n",
    "#     label_mapping = dict(zip(range(data.x.shape[0]), list(data.x)))\n",
    "#     nx.set_node_attributes(data_graph, label_mapping, \"label\")\n",
    "#     updated_graph = nx.union(data_graph, hypothesis_graph, rename=(\"h\", \"g\"))\n",
    "#     data = from_networkx(updated_graph, group_node_attrs=[\"label\"])\n",
    "\n",
    "#     # data.edge_index = torch.cat([data.edge_index, torch.Tensor([[random.choice(range(data.x.shape[0])), data.x.shape[0]]]).int().T], axis=1)\n",
    "#     # data.x = torch.cat([data.x, torch.unsqueeze(torch.eye(data.x.shape[1])[4],axis=0)], axis=0)\n",
    "#     new_prediction = nn(data).detach().numpy().squeeze()\n",
    "\n",
    "#     print(original_prediction - new_prediction)\n",
    "#     print(\"--\")\n",
    "# print(total, total_matched)"
   ]
  },
  {
   "cell_type": "code",
   "execution_count": 39,
   "metadata": {},
   "outputs": [
    {
     "name": "stdout",
     "output_type": "stream",
     "text": [
      "Max Absolute Activation Value: 85.14530396702538\n",
      "Min Class Output Value: [[ -3.89901662 -16.48418655]]\n",
      "Max Class Output Value: [[13.57019324  3.35013878]]\n"
     ]
    },
    {
     "data": {
      "application/vnd.plotly.v1+json": {
       "config": {
        "plotlyServerURL": "https://plot.ly"
       },
       "data": [
        {
         "alignmentgroup": "True",
         "bingroup": "x",
         "hovertemplate": "variable=0<br>value=%{x}<br>count=%{y}<extra></extra>",
         "legendgroup": "0",
         "marker": {
          "color": "#636efa",
          "pattern": {
           "shape": ""
          }
         },
         "name": "0",
         "offsetgroup": "0",
         "orientation": "v",
         "showlegend": true,
         "type": "histogram",
         "x": [
          17,
          13,
          13,
          19,
          11,
          28,
          16,
          20,
          12,
          17,
          17,
          20,
          22,
          13,
          19,
          22,
          11,
          17,
          13,
          18,
          18,
          17,
          23,
          27,
          17,
          13,
          23,
          17,
          23,
          23,
          22,
          24,
          23,
          13,
          17,
          14,
          17,
          15,
          15,
          13,
          17,
          13,
          19,
          17,
          12,
          23,
          22,
          17,
          20,
          16,
          26,
          26,
          19,
          19,
          14,
          17,
          21,
          25,
          23,
          19,
          17,
          11,
          23,
          20,
          16,
          16,
          20,
          23,
          19,
          14,
          26,
          16,
          16,
          23,
          18,
          10,
          16,
          16,
          17,
          19,
          12,
          25,
          16,
          11,
          23,
          23,
          16,
          12,
          13,
          23,
          25,
          19,
          23,
          19,
          19,
          25,
          18,
          13,
          15,
          16,
          23,
          26,
          19,
          23,
          17,
          20,
          25,
          19,
          28,
          24,
          11,
          15,
          13,
          16,
          12,
          10,
          21,
          23,
          21,
          13,
          25,
          21,
          17,
          11,
          19,
          20,
          21,
          15,
          14,
          11,
          19,
          11,
          21,
          22,
          11,
          20,
          22,
          13,
          11,
          16,
          11,
          20,
          12,
          11,
          16,
          16,
          13,
          15,
          20,
          12,
          12,
          22,
          15,
          12,
          14,
          12,
          20,
          20,
          20,
          14,
          26,
          24,
          22,
          22,
          19,
          23,
          22,
          11,
          13,
          17,
          24,
          12,
          21,
          22,
          22,
          12,
          20,
          13,
          22,
          28,
          11,
          14,
          22,
          22,
          13,
          12,
          21,
          16
         ],
         "xaxis": "x",
         "yaxis": "y"
        }
       ],
       "layout": {
        "barmode": "relative",
        "legend": {
         "title": {
          "text": "variable"
         },
         "tracegroupgap": 0
        },
        "template": {
         "data": {
          "bar": [
           {
            "error_x": {
             "color": "#2a3f5f"
            },
            "error_y": {
             "color": "#2a3f5f"
            },
            "marker": {
             "line": {
              "color": "#E5ECF6",
              "width": 0.5
             },
             "pattern": {
              "fillmode": "overlay",
              "size": 10,
              "solidity": 0.2
             }
            },
            "type": "bar"
           }
          ],
          "barpolar": [
           {
            "marker": {
             "line": {
              "color": "#E5ECF6",
              "width": 0.5
             },
             "pattern": {
              "fillmode": "overlay",
              "size": 10,
              "solidity": 0.2
             }
            },
            "type": "barpolar"
           }
          ],
          "carpet": [
           {
            "aaxis": {
             "endlinecolor": "#2a3f5f",
             "gridcolor": "white",
             "linecolor": "white",
             "minorgridcolor": "white",
             "startlinecolor": "#2a3f5f"
            },
            "baxis": {
             "endlinecolor": "#2a3f5f",
             "gridcolor": "white",
             "linecolor": "white",
             "minorgridcolor": "white",
             "startlinecolor": "#2a3f5f"
            },
            "type": "carpet"
           }
          ],
          "choropleth": [
           {
            "colorbar": {
             "outlinewidth": 0,
             "ticks": ""
            },
            "type": "choropleth"
           }
          ],
          "contour": [
           {
            "colorbar": {
             "outlinewidth": 0,
             "ticks": ""
            },
            "colorscale": [
             [
              0,
              "#0d0887"
             ],
             [
              0.1111111111111111,
              "#46039f"
             ],
             [
              0.2222222222222222,
              "#7201a8"
             ],
             [
              0.3333333333333333,
              "#9c179e"
             ],
             [
              0.4444444444444444,
              "#bd3786"
             ],
             [
              0.5555555555555556,
              "#d8576b"
             ],
             [
              0.6666666666666666,
              "#ed7953"
             ],
             [
              0.7777777777777778,
              "#fb9f3a"
             ],
             [
              0.8888888888888888,
              "#fdca26"
             ],
             [
              1,
              "#f0f921"
             ]
            ],
            "type": "contour"
           }
          ],
          "contourcarpet": [
           {
            "colorbar": {
             "outlinewidth": 0,
             "ticks": ""
            },
            "type": "contourcarpet"
           }
          ],
          "heatmap": [
           {
            "colorbar": {
             "outlinewidth": 0,
             "ticks": ""
            },
            "colorscale": [
             [
              0,
              "#0d0887"
             ],
             [
              0.1111111111111111,
              "#46039f"
             ],
             [
              0.2222222222222222,
              "#7201a8"
             ],
             [
              0.3333333333333333,
              "#9c179e"
             ],
             [
              0.4444444444444444,
              "#bd3786"
             ],
             [
              0.5555555555555556,
              "#d8576b"
             ],
             [
              0.6666666666666666,
              "#ed7953"
             ],
             [
              0.7777777777777778,
              "#fb9f3a"
             ],
             [
              0.8888888888888888,
              "#fdca26"
             ],
             [
              1,
              "#f0f921"
             ]
            ],
            "type": "heatmap"
           }
          ],
          "heatmapgl": [
           {
            "colorbar": {
             "outlinewidth": 0,
             "ticks": ""
            },
            "colorscale": [
             [
              0,
              "#0d0887"
             ],
             [
              0.1111111111111111,
              "#46039f"
             ],
             [
              0.2222222222222222,
              "#7201a8"
             ],
             [
              0.3333333333333333,
              "#9c179e"
             ],
             [
              0.4444444444444444,
              "#bd3786"
             ],
             [
              0.5555555555555556,
              "#d8576b"
             ],
             [
              0.6666666666666666,
              "#ed7953"
             ],
             [
              0.7777777777777778,
              "#fb9f3a"
             ],
             [
              0.8888888888888888,
              "#fdca26"
             ],
             [
              1,
              "#f0f921"
             ]
            ],
            "type": "heatmapgl"
           }
          ],
          "histogram": [
           {
            "marker": {
             "pattern": {
              "fillmode": "overlay",
              "size": 10,
              "solidity": 0.2
             }
            },
            "type": "histogram"
           }
          ],
          "histogram2d": [
           {
            "colorbar": {
             "outlinewidth": 0,
             "ticks": ""
            },
            "colorscale": [
             [
              0,
              "#0d0887"
             ],
             [
              0.1111111111111111,
              "#46039f"
             ],
             [
              0.2222222222222222,
              "#7201a8"
             ],
             [
              0.3333333333333333,
              "#9c179e"
             ],
             [
              0.4444444444444444,
              "#bd3786"
             ],
             [
              0.5555555555555556,
              "#d8576b"
             ],
             [
              0.6666666666666666,
              "#ed7953"
             ],
             [
              0.7777777777777778,
              "#fb9f3a"
             ],
             [
              0.8888888888888888,
              "#fdca26"
             ],
             [
              1,
              "#f0f921"
             ]
            ],
            "type": "histogram2d"
           }
          ],
          "histogram2dcontour": [
           {
            "colorbar": {
             "outlinewidth": 0,
             "ticks": ""
            },
            "colorscale": [
             [
              0,
              "#0d0887"
             ],
             [
              0.1111111111111111,
              "#46039f"
             ],
             [
              0.2222222222222222,
              "#7201a8"
             ],
             [
              0.3333333333333333,
              "#9c179e"
             ],
             [
              0.4444444444444444,
              "#bd3786"
             ],
             [
              0.5555555555555556,
              "#d8576b"
             ],
             [
              0.6666666666666666,
              "#ed7953"
             ],
             [
              0.7777777777777778,
              "#fb9f3a"
             ],
             [
              0.8888888888888888,
              "#fdca26"
             ],
             [
              1,
              "#f0f921"
             ]
            ],
            "type": "histogram2dcontour"
           }
          ],
          "mesh3d": [
           {
            "colorbar": {
             "outlinewidth": 0,
             "ticks": ""
            },
            "type": "mesh3d"
           }
          ],
          "parcoords": [
           {
            "line": {
             "colorbar": {
              "outlinewidth": 0,
              "ticks": ""
             }
            },
            "type": "parcoords"
           }
          ],
          "pie": [
           {
            "automargin": true,
            "type": "pie"
           }
          ],
          "scatter": [
           {
            "fillpattern": {
             "fillmode": "overlay",
             "size": 10,
             "solidity": 0.2
            },
            "type": "scatter"
           }
          ],
          "scatter3d": [
           {
            "line": {
             "colorbar": {
              "outlinewidth": 0,
              "ticks": ""
             }
            },
            "marker": {
             "colorbar": {
              "outlinewidth": 0,
              "ticks": ""
             }
            },
            "type": "scatter3d"
           }
          ],
          "scattercarpet": [
           {
            "marker": {
             "colorbar": {
              "outlinewidth": 0,
              "ticks": ""
             }
            },
            "type": "scattercarpet"
           }
          ],
          "scattergeo": [
           {
            "marker": {
             "colorbar": {
              "outlinewidth": 0,
              "ticks": ""
             }
            },
            "type": "scattergeo"
           }
          ],
          "scattergl": [
           {
            "marker": {
             "colorbar": {
              "outlinewidth": 0,
              "ticks": ""
             }
            },
            "type": "scattergl"
           }
          ],
          "scattermapbox": [
           {
            "marker": {
             "colorbar": {
              "outlinewidth": 0,
              "ticks": ""
             }
            },
            "type": "scattermapbox"
           }
          ],
          "scatterpolar": [
           {
            "marker": {
             "colorbar": {
              "outlinewidth": 0,
              "ticks": ""
             }
            },
            "type": "scatterpolar"
           }
          ],
          "scatterpolargl": [
           {
            "marker": {
             "colorbar": {
              "outlinewidth": 0,
              "ticks": ""
             }
            },
            "type": "scatterpolargl"
           }
          ],
          "scatterternary": [
           {
            "marker": {
             "colorbar": {
              "outlinewidth": 0,
              "ticks": ""
             }
            },
            "type": "scatterternary"
           }
          ],
          "surface": [
           {
            "colorbar": {
             "outlinewidth": 0,
             "ticks": ""
            },
            "colorscale": [
             [
              0,
              "#0d0887"
             ],
             [
              0.1111111111111111,
              "#46039f"
             ],
             [
              0.2222222222222222,
              "#7201a8"
             ],
             [
              0.3333333333333333,
              "#9c179e"
             ],
             [
              0.4444444444444444,
              "#bd3786"
             ],
             [
              0.5555555555555556,
              "#d8576b"
             ],
             [
              0.6666666666666666,
              "#ed7953"
             ],
             [
              0.7777777777777778,
              "#fb9f3a"
             ],
             [
              0.8888888888888888,
              "#fdca26"
             ],
             [
              1,
              "#f0f921"
             ]
            ],
            "type": "surface"
           }
          ],
          "table": [
           {
            "cells": {
             "fill": {
              "color": "#EBF0F8"
             },
             "line": {
              "color": "white"
             }
            },
            "header": {
             "fill": {
              "color": "#C8D4E3"
             },
             "line": {
              "color": "white"
             }
            },
            "type": "table"
           }
          ]
         },
         "layout": {
          "annotationdefaults": {
           "arrowcolor": "#2a3f5f",
           "arrowhead": 0,
           "arrowwidth": 1
          },
          "autotypenumbers": "strict",
          "coloraxis": {
           "colorbar": {
            "outlinewidth": 0,
            "ticks": ""
           }
          },
          "colorscale": {
           "diverging": [
            [
             0,
             "#8e0152"
            ],
            [
             0.1,
             "#c51b7d"
            ],
            [
             0.2,
             "#de77ae"
            ],
            [
             0.3,
             "#f1b6da"
            ],
            [
             0.4,
             "#fde0ef"
            ],
            [
             0.5,
             "#f7f7f7"
            ],
            [
             0.6,
             "#e6f5d0"
            ],
            [
             0.7,
             "#b8e186"
            ],
            [
             0.8,
             "#7fbc41"
            ],
            [
             0.9,
             "#4d9221"
            ],
            [
             1,
             "#276419"
            ]
           ],
           "sequential": [
            [
             0,
             "#0d0887"
            ],
            [
             0.1111111111111111,
             "#46039f"
            ],
            [
             0.2222222222222222,
             "#7201a8"
            ],
            [
             0.3333333333333333,
             "#9c179e"
            ],
            [
             0.4444444444444444,
             "#bd3786"
            ],
            [
             0.5555555555555556,
             "#d8576b"
            ],
            [
             0.6666666666666666,
             "#ed7953"
            ],
            [
             0.7777777777777778,
             "#fb9f3a"
            ],
            [
             0.8888888888888888,
             "#fdca26"
            ],
            [
             1,
             "#f0f921"
            ]
           ],
           "sequentialminus": [
            [
             0,
             "#0d0887"
            ],
            [
             0.1111111111111111,
             "#46039f"
            ],
            [
             0.2222222222222222,
             "#7201a8"
            ],
            [
             0.3333333333333333,
             "#9c179e"
            ],
            [
             0.4444444444444444,
             "#bd3786"
            ],
            [
             0.5555555555555556,
             "#d8576b"
            ],
            [
             0.6666666666666666,
             "#ed7953"
            ],
            [
             0.7777777777777778,
             "#fb9f3a"
            ],
            [
             0.8888888888888888,
             "#fdca26"
            ],
            [
             1,
             "#f0f921"
            ]
           ]
          },
          "colorway": [
           "#636efa",
           "#EF553B",
           "#00cc96",
           "#ab63fa",
           "#FFA15A",
           "#19d3f3",
           "#FF6692",
           "#B6E880",
           "#FF97FF",
           "#FECB52"
          ],
          "font": {
           "color": "#2a3f5f"
          },
          "geo": {
           "bgcolor": "white",
           "lakecolor": "white",
           "landcolor": "#E5ECF6",
           "showlakes": true,
           "showland": true,
           "subunitcolor": "white"
          },
          "hoverlabel": {
           "align": "left"
          },
          "hovermode": "closest",
          "mapbox": {
           "style": "light"
          },
          "paper_bgcolor": "white",
          "plot_bgcolor": "#E5ECF6",
          "polar": {
           "angularaxis": {
            "gridcolor": "white",
            "linecolor": "white",
            "ticks": ""
           },
           "bgcolor": "#E5ECF6",
           "radialaxis": {
            "gridcolor": "white",
            "linecolor": "white",
            "ticks": ""
           }
          },
          "scene": {
           "xaxis": {
            "backgroundcolor": "#E5ECF6",
            "gridcolor": "white",
            "gridwidth": 2,
            "linecolor": "white",
            "showbackground": true,
            "ticks": "",
            "zerolinecolor": "white"
           },
           "yaxis": {
            "backgroundcolor": "#E5ECF6",
            "gridcolor": "white",
            "gridwidth": 2,
            "linecolor": "white",
            "showbackground": true,
            "ticks": "",
            "zerolinecolor": "white"
           },
           "zaxis": {
            "backgroundcolor": "#E5ECF6",
            "gridcolor": "white",
            "gridwidth": 2,
            "linecolor": "white",
            "showbackground": true,
            "ticks": "",
            "zerolinecolor": "white"
           }
          },
          "shapedefaults": {
           "line": {
            "color": "#2a3f5f"
           }
          },
          "ternary": {
           "aaxis": {
            "gridcolor": "white",
            "linecolor": "white",
            "ticks": ""
           },
           "baxis": {
            "gridcolor": "white",
            "linecolor": "white",
            "ticks": ""
           },
           "bgcolor": "#E5ECF6",
           "caxis": {
            "gridcolor": "white",
            "linecolor": "white",
            "ticks": ""
           }
          },
          "title": {
           "x": 0.05
          },
          "xaxis": {
           "automargin": true,
           "gridcolor": "white",
           "linecolor": "white",
           "ticks": "",
           "title": {
            "standoff": 15
           },
           "zerolinecolor": "white",
           "zerolinewidth": 2
          },
          "yaxis": {
           "automargin": true,
           "gridcolor": "white",
           "linecolor": "white",
           "ticks": "",
           "title": {
            "standoff": 15
           },
           "zerolinecolor": "white",
           "zerolinewidth": 2
          }
         }
        },
        "title": {
         "text": "Number of Nodes"
        },
        "xaxis": {
         "anchor": "y",
         "domain": [
          0,
          1
         ],
         "title": {
          "text": "value"
         }
        },
        "yaxis": {
         "anchor": "x",
         "domain": [
          0,
          1
         ],
         "title": {
          "text": "count"
         }
        }
       }
      },
      "text/html": [
       "<div>                            <div id=\"2bb9e55a-52b9-477f-a77c-b718bb2b7c4b\" class=\"plotly-graph-div\" style=\"height:525px; width:100%;\"></div>            <script type=\"text/javascript\">                require([\"plotly\"], function(Plotly) {                    window.PLOTLYENV=window.PLOTLYENV || {};                                    if (document.getElementById(\"2bb9e55a-52b9-477f-a77c-b718bb2b7c4b\")) {                    Plotly.newPlot(                        \"2bb9e55a-52b9-477f-a77c-b718bb2b7c4b\",                        [{\"alignmentgroup\":\"True\",\"bingroup\":\"x\",\"hovertemplate\":\"variable=0<br>value=%{x}<br>count=%{y}<extra></extra>\",\"legendgroup\":\"0\",\"marker\":{\"color\":\"#636efa\",\"pattern\":{\"shape\":\"\"}},\"name\":\"0\",\"offsetgroup\":\"0\",\"orientation\":\"v\",\"showlegend\":true,\"x\":[17,13,13,19,11,28,16,20,12,17,17,20,22,13,19,22,11,17,13,18,18,17,23,27,17,13,23,17,23,23,22,24,23,13,17,14,17,15,15,13,17,13,19,17,12,23,22,17,20,16,26,26,19,19,14,17,21,25,23,19,17,11,23,20,16,16,20,23,19,14,26,16,16,23,18,10,16,16,17,19,12,25,16,11,23,23,16,12,13,23,25,19,23,19,19,25,18,13,15,16,23,26,19,23,17,20,25,19,28,24,11,15,13,16,12,10,21,23,21,13,25,21,17,11,19,20,21,15,14,11,19,11,21,22,11,20,22,13,11,16,11,20,12,11,16,16,13,15,20,12,12,22,15,12,14,12,20,20,20,14,26,24,22,22,19,23,22,11,13,17,24,12,21,22,22,12,20,13,22,28,11,14,22,22,13,12,21,16],\"xaxis\":\"x\",\"yaxis\":\"y\",\"type\":\"histogram\"}],                        {\"template\":{\"data\":{\"histogram2dcontour\":[{\"type\":\"histogram2dcontour\",\"colorbar\":{\"outlinewidth\":0,\"ticks\":\"\"},\"colorscale\":[[0.0,\"#0d0887\"],[0.1111111111111111,\"#46039f\"],[0.2222222222222222,\"#7201a8\"],[0.3333333333333333,\"#9c179e\"],[0.4444444444444444,\"#bd3786\"],[0.5555555555555556,\"#d8576b\"],[0.6666666666666666,\"#ed7953\"],[0.7777777777777778,\"#fb9f3a\"],[0.8888888888888888,\"#fdca26\"],[1.0,\"#f0f921\"]]}],\"choropleth\":[{\"type\":\"choropleth\",\"colorbar\":{\"outlinewidth\":0,\"ticks\":\"\"}}],\"histogram2d\":[{\"type\":\"histogram2d\",\"colorbar\":{\"outlinewidth\":0,\"ticks\":\"\"},\"colorscale\":[[0.0,\"#0d0887\"],[0.1111111111111111,\"#46039f\"],[0.2222222222222222,\"#7201a8\"],[0.3333333333333333,\"#9c179e\"],[0.4444444444444444,\"#bd3786\"],[0.5555555555555556,\"#d8576b\"],[0.6666666666666666,\"#ed7953\"],[0.7777777777777778,\"#fb9f3a\"],[0.8888888888888888,\"#fdca26\"],[1.0,\"#f0f921\"]]}],\"heatmap\":[{\"type\":\"heatmap\",\"colorbar\":{\"outlinewidth\":0,\"ticks\":\"\"},\"colorscale\":[[0.0,\"#0d0887\"],[0.1111111111111111,\"#46039f\"],[0.2222222222222222,\"#7201a8\"],[0.3333333333333333,\"#9c179e\"],[0.4444444444444444,\"#bd3786\"],[0.5555555555555556,\"#d8576b\"],[0.6666666666666666,\"#ed7953\"],[0.7777777777777778,\"#fb9f3a\"],[0.8888888888888888,\"#fdca26\"],[1.0,\"#f0f921\"]]}],\"heatmapgl\":[{\"type\":\"heatmapgl\",\"colorbar\":{\"outlinewidth\":0,\"ticks\":\"\"},\"colorscale\":[[0.0,\"#0d0887\"],[0.1111111111111111,\"#46039f\"],[0.2222222222222222,\"#7201a8\"],[0.3333333333333333,\"#9c179e\"],[0.4444444444444444,\"#bd3786\"],[0.5555555555555556,\"#d8576b\"],[0.6666666666666666,\"#ed7953\"],[0.7777777777777778,\"#fb9f3a\"],[0.8888888888888888,\"#fdca26\"],[1.0,\"#f0f921\"]]}],\"contourcarpet\":[{\"type\":\"contourcarpet\",\"colorbar\":{\"outlinewidth\":0,\"ticks\":\"\"}}],\"contour\":[{\"type\":\"contour\",\"colorbar\":{\"outlinewidth\":0,\"ticks\":\"\"},\"colorscale\":[[0.0,\"#0d0887\"],[0.1111111111111111,\"#46039f\"],[0.2222222222222222,\"#7201a8\"],[0.3333333333333333,\"#9c179e\"],[0.4444444444444444,\"#bd3786\"],[0.5555555555555556,\"#d8576b\"],[0.6666666666666666,\"#ed7953\"],[0.7777777777777778,\"#fb9f3a\"],[0.8888888888888888,\"#fdca26\"],[1.0,\"#f0f921\"]]}],\"surface\":[{\"type\":\"surface\",\"colorbar\":{\"outlinewidth\":0,\"ticks\":\"\"},\"colorscale\":[[0.0,\"#0d0887\"],[0.1111111111111111,\"#46039f\"],[0.2222222222222222,\"#7201a8\"],[0.3333333333333333,\"#9c179e\"],[0.4444444444444444,\"#bd3786\"],[0.5555555555555556,\"#d8576b\"],[0.6666666666666666,\"#ed7953\"],[0.7777777777777778,\"#fb9f3a\"],[0.8888888888888888,\"#fdca26\"],[1.0,\"#f0f921\"]]}],\"mesh3d\":[{\"type\":\"mesh3d\",\"colorbar\":{\"outlinewidth\":0,\"ticks\":\"\"}}],\"scatter\":[{\"fillpattern\":{\"fillmode\":\"overlay\",\"size\":10,\"solidity\":0.2},\"type\":\"scatter\"}],\"parcoords\":[{\"type\":\"parcoords\",\"line\":{\"colorbar\":{\"outlinewidth\":0,\"ticks\":\"\"}}}],\"scatterpolargl\":[{\"type\":\"scatterpolargl\",\"marker\":{\"colorbar\":{\"outlinewidth\":0,\"ticks\":\"\"}}}],\"bar\":[{\"error_x\":{\"color\":\"#2a3f5f\"},\"error_y\":{\"color\":\"#2a3f5f\"},\"marker\":{\"line\":{\"color\":\"#E5ECF6\",\"width\":0.5},\"pattern\":{\"fillmode\":\"overlay\",\"size\":10,\"solidity\":0.2}},\"type\":\"bar\"}],\"scattergeo\":[{\"type\":\"scattergeo\",\"marker\":{\"colorbar\":{\"outlinewidth\":0,\"ticks\":\"\"}}}],\"scatterpolar\":[{\"type\":\"scatterpolar\",\"marker\":{\"colorbar\":{\"outlinewidth\":0,\"ticks\":\"\"}}}],\"histogram\":[{\"marker\":{\"pattern\":{\"fillmode\":\"overlay\",\"size\":10,\"solidity\":0.2}},\"type\":\"histogram\"}],\"scattergl\":[{\"type\":\"scattergl\",\"marker\":{\"colorbar\":{\"outlinewidth\":0,\"ticks\":\"\"}}}],\"scatter3d\":[{\"type\":\"scatter3d\",\"line\":{\"colorbar\":{\"outlinewidth\":0,\"ticks\":\"\"}},\"marker\":{\"colorbar\":{\"outlinewidth\":0,\"ticks\":\"\"}}}],\"scattermapbox\":[{\"type\":\"scattermapbox\",\"marker\":{\"colorbar\":{\"outlinewidth\":0,\"ticks\":\"\"}}}],\"scatterternary\":[{\"type\":\"scatterternary\",\"marker\":{\"colorbar\":{\"outlinewidth\":0,\"ticks\":\"\"}}}],\"scattercarpet\":[{\"type\":\"scattercarpet\",\"marker\":{\"colorbar\":{\"outlinewidth\":0,\"ticks\":\"\"}}}],\"carpet\":[{\"aaxis\":{\"endlinecolor\":\"#2a3f5f\",\"gridcolor\":\"white\",\"linecolor\":\"white\",\"minorgridcolor\":\"white\",\"startlinecolor\":\"#2a3f5f\"},\"baxis\":{\"endlinecolor\":\"#2a3f5f\",\"gridcolor\":\"white\",\"linecolor\":\"white\",\"minorgridcolor\":\"white\",\"startlinecolor\":\"#2a3f5f\"},\"type\":\"carpet\"}],\"table\":[{\"cells\":{\"fill\":{\"color\":\"#EBF0F8\"},\"line\":{\"color\":\"white\"}},\"header\":{\"fill\":{\"color\":\"#C8D4E3\"},\"line\":{\"color\":\"white\"}},\"type\":\"table\"}],\"barpolar\":[{\"marker\":{\"line\":{\"color\":\"#E5ECF6\",\"width\":0.5},\"pattern\":{\"fillmode\":\"overlay\",\"size\":10,\"solidity\":0.2}},\"type\":\"barpolar\"}],\"pie\":[{\"automargin\":true,\"type\":\"pie\"}]},\"layout\":{\"autotypenumbers\":\"strict\",\"colorway\":[\"#636efa\",\"#EF553B\",\"#00cc96\",\"#ab63fa\",\"#FFA15A\",\"#19d3f3\",\"#FF6692\",\"#B6E880\",\"#FF97FF\",\"#FECB52\"],\"font\":{\"color\":\"#2a3f5f\"},\"hovermode\":\"closest\",\"hoverlabel\":{\"align\":\"left\"},\"paper_bgcolor\":\"white\",\"plot_bgcolor\":\"#E5ECF6\",\"polar\":{\"bgcolor\":\"#E5ECF6\",\"angularaxis\":{\"gridcolor\":\"white\",\"linecolor\":\"white\",\"ticks\":\"\"},\"radialaxis\":{\"gridcolor\":\"white\",\"linecolor\":\"white\",\"ticks\":\"\"}},\"ternary\":{\"bgcolor\":\"#E5ECF6\",\"aaxis\":{\"gridcolor\":\"white\",\"linecolor\":\"white\",\"ticks\":\"\"},\"baxis\":{\"gridcolor\":\"white\",\"linecolor\":\"white\",\"ticks\":\"\"},\"caxis\":{\"gridcolor\":\"white\",\"linecolor\":\"white\",\"ticks\":\"\"}},\"coloraxis\":{\"colorbar\":{\"outlinewidth\":0,\"ticks\":\"\"}},\"colorscale\":{\"sequential\":[[0.0,\"#0d0887\"],[0.1111111111111111,\"#46039f\"],[0.2222222222222222,\"#7201a8\"],[0.3333333333333333,\"#9c179e\"],[0.4444444444444444,\"#bd3786\"],[0.5555555555555556,\"#d8576b\"],[0.6666666666666666,\"#ed7953\"],[0.7777777777777778,\"#fb9f3a\"],[0.8888888888888888,\"#fdca26\"],[1.0,\"#f0f921\"]],\"sequentialminus\":[[0.0,\"#0d0887\"],[0.1111111111111111,\"#46039f\"],[0.2222222222222222,\"#7201a8\"],[0.3333333333333333,\"#9c179e\"],[0.4444444444444444,\"#bd3786\"],[0.5555555555555556,\"#d8576b\"],[0.6666666666666666,\"#ed7953\"],[0.7777777777777778,\"#fb9f3a\"],[0.8888888888888888,\"#fdca26\"],[1.0,\"#f0f921\"]],\"diverging\":[[0,\"#8e0152\"],[0.1,\"#c51b7d\"],[0.2,\"#de77ae\"],[0.3,\"#f1b6da\"],[0.4,\"#fde0ef\"],[0.5,\"#f7f7f7\"],[0.6,\"#e6f5d0\"],[0.7,\"#b8e186\"],[0.8,\"#7fbc41\"],[0.9,\"#4d9221\"],[1,\"#276419\"]]},\"xaxis\":{\"gridcolor\":\"white\",\"linecolor\":\"white\",\"ticks\":\"\",\"title\":{\"standoff\":15},\"zerolinecolor\":\"white\",\"automargin\":true,\"zerolinewidth\":2},\"yaxis\":{\"gridcolor\":\"white\",\"linecolor\":\"white\",\"ticks\":\"\",\"title\":{\"standoff\":15},\"zerolinecolor\":\"white\",\"automargin\":true,\"zerolinewidth\":2},\"scene\":{\"xaxis\":{\"backgroundcolor\":\"#E5ECF6\",\"gridcolor\":\"white\",\"linecolor\":\"white\",\"showbackground\":true,\"ticks\":\"\",\"zerolinecolor\":\"white\",\"gridwidth\":2},\"yaxis\":{\"backgroundcolor\":\"#E5ECF6\",\"gridcolor\":\"white\",\"linecolor\":\"white\",\"showbackground\":true,\"ticks\":\"\",\"zerolinecolor\":\"white\",\"gridwidth\":2},\"zaxis\":{\"backgroundcolor\":\"#E5ECF6\",\"gridcolor\":\"white\",\"linecolor\":\"white\",\"showbackground\":true,\"ticks\":\"\",\"zerolinecolor\":\"white\",\"gridwidth\":2}},\"shapedefaults\":{\"line\":{\"color\":\"#2a3f5f\"}},\"annotationdefaults\":{\"arrowcolor\":\"#2a3f5f\",\"arrowhead\":0,\"arrowwidth\":1},\"geo\":{\"bgcolor\":\"white\",\"landcolor\":\"#E5ECF6\",\"subunitcolor\":\"white\",\"showland\":true,\"showlakes\":true,\"lakecolor\":\"white\"},\"title\":{\"x\":0.05},\"mapbox\":{\"style\":\"light\"}}},\"xaxis\":{\"anchor\":\"y\",\"domain\":[0.0,1.0],\"title\":{\"text\":\"value\"}},\"yaxis\":{\"anchor\":\"x\",\"domain\":[0.0,1.0],\"title\":{\"text\":\"count\"}},\"legend\":{\"title\":{\"text\":\"variable\"},\"tracegroupgap\":0},\"title\":{\"text\":\"Number of Nodes\"},\"barmode\":\"relative\"},                        {\"responsive\": true}                    ).then(function(){\n",
       "                            \n",
       "var gd = document.getElementById('2bb9e55a-52b9-477f-a77c-b718bb2b7c4b');\n",
       "var x = new MutationObserver(function (mutations, observer) {{\n",
       "        var display = window.getComputedStyle(gd).display;\n",
       "        if (!display || display === 'none') {{\n",
       "            console.log([gd, 'removed!']);\n",
       "            Plotly.purge(gd);\n",
       "            observer.disconnect();\n",
       "        }}\n",
       "}});\n",
       "\n",
       "// Listen for the removal of the full notebook cells\n",
       "var notebookContainer = gd.closest('#notebook-container');\n",
       "if (notebookContainer) {{\n",
       "    x.observe(notebookContainer, {childList: true});\n",
       "}}\n",
       "\n",
       "// Listen for the clearing of the current output cell\n",
       "var outputEl = gd.closest('.output');\n",
       "if (outputEl) {{\n",
       "    x.observe(outputEl, {childList: true});\n",
       "}}\n",
       "\n",
       "                        })                };                });            </script>        </div>"
      ]
     },
     "metadata": {},
     "output_type": "display_data"
    },
    {
     "data": {
      "application/vnd.plotly.v1+json": {
       "config": {
        "plotlyServerURL": "https://plot.ly"
       },
       "data": [
        {
         "hovertemplate": "color=1<br>x=%{x}<br>y=%{y}<extra></extra>",
         "legendgroup": "1",
         "marker": {
          "color": "Blue",
          "symbol": "circle"
         },
         "mode": "markers",
         "name": "1",
         "orientation": "v",
         "showlegend": true,
         "type": "scatter",
         "x": [
          -1.1047452651696728,
          -1.3403926699573196,
          -0.5175650887427284,
          -1.7880696700247942,
          -1.1047452651696728,
          -1.1073303754921815,
          -0.9132102005288959,
          -0.8312696541930178,
          -1.3216396691980785,
          -0.9080547355511891,
          -1.0671719610398587,
          -1.0561647523457258,
          -0.622821269815441,
          -2.319558333666156,
          -1.9109950203322952,
          -2.3066159715553836,
          -1.049890713674522,
          -1.1185281134474498,
          -1.8885608469180886,
          -0.5806081025071163,
          -0.4173048053129492,
          -1.9109950203322958,
          -1.0161453140842114,
          -0.845942154158583,
          -2.482130492867541,
          -0.5406588169661756,
          -1.0958454407980183,
          -0.9937922497295251,
          -1.3521054664690138,
          -1.1047452651696728,
          -1.1438100198790089,
          -1.888560846918089,
          -0.8284525943676974,
          -1.1047452651696728,
          -2.5583686336122735,
          -0.48872434959631483,
          -0.9368940168802837,
          -1.0394705985481545,
          -0.6849404765986389,
          -0.3071026811614761,
          -3.1216775946581565,
          -0.4574554942883306,
          -2.208176518027744,
          -1.9109950203322952,
          -0.5450650097316108,
          -0.490062488060786,
          -1.6116030570379205,
          -0.5655674930088428,
          -1.862700145469046,
          -1.888560846918089,
          -0.6847405711279657,
          -0.9409166968674634,
          -1.0715107194077993,
          -1.8912940712494373,
          -0.6143185577538254,
          -1.1881017759467234,
          -1.3403926699573196,
          -1.4424020739736727,
          -0.7373288559419453,
          -0.29913054838299896,
          -1.9109950203322952,
          -1.9109950203322956,
          -0.8821154168720347,
          -1.9040524562409404,
          -2.2097285111250753,
          -1.3521054664690135,
          -1.8885608469180886,
          -1.3487968264889603,
          -0.4714868613943517,
          -0.6448620527659095,
          -1.3369191961190006,
          -1.036774692576519,
          -1.888560846918089,
          -0.7633670412471224,
          -1.3521054664690138,
          -1.9040524562409404,
          5.587660471696625,
          -1.5833326672385968,
          -0.743221746150049,
          -1.3216396691980785,
          -0.9831303840692862,
          -1.0266882249553104,
          -0.8831816267571827,
          -0.46185416390649925,
          -1.8885608469180886,
          -0.7349851082645078,
          -1.6566672659745962,
          -1.3521054664690138,
          -3.1425611322362093,
          -0.5421609189435235,
          -1.0266882249553104,
          -0.8284525943676974,
          -1.6119356851080506,
          -1.0113912377357266,
          -0.6340244179502219,
          -0.4286239397446096,
          -0.40198164469228753,
          -1.0266882249553104,
          -2.5583686336122735,
          -3.2591369813002347,
          -0.8284525943676975,
          -1.0266882249553104,
          -1.5852788884645288,
          -1.5833501923808342,
          -1.5852788884645288,
          -0.9368940168802837,
          -0.5261972261795299,
          -0.8284525943676974,
          -0.9261660860521252,
          -1.3249483091781318,
          -2.4480414713275698,
          -0.8049392168082781,
          -1.2071754061065798,
          -3.059600585818906,
          -1.3118541026336754,
          -3.899016619279157,
          -0.5348728800335674,
          -0.8098187685735273,
          -0.8831816267571827,
          -3.4879901503808015,
          -2.50426810855072,
          -0.9868657297716672,
          -0.8049392168082781,
          -0.8096932931567629,
          -1.635090036026704
         ],
         "xaxis": "x",
         "y": [
          0.8571093425512577,
          1.135006615238115,
          0.4307563778727749,
          2.549298541756751,
          0.8571093425512578,
          0.8543176496023818,
          0.8897113044220969,
          0.6296834569988524,
          1.113696202081699,
          0.6951431434896252,
          0.9452428682306253,
          0.9477762721378252,
          0.4823971482419104,
          2.2026169253159096,
          1.843734352809486,
          2.335744061481624,
          0.9258675226139026,
          1.032553459540276,
          1.8182359732581705,
          0.4987496264729595,
          0.381566693989365,
          1.843734352809487,
          0.7626515894659462,
          0.7967718623342824,
          2.085749535202997,
          0.47552659529946273,
          0.8508435628961336,
          0.7793038977352346,
          1.1495853880660447,
          0.8571093425512577,
          1.137370838847549,
          1.818235973258171,
          0.6311345122585487,
          0.8571093425512578,
          1.894699637697881,
          0.41660653914257034,
          0.7151613580897995,
          0.8037144650569819,
          0.5160249494779797,
          0.6358372391023432,
          2.8357876109247324,
          0.4107321805934779,
          2.3950383919350906,
          1.843734352809486,
          0.5023839142072608,
          0.4276260053247518,
          1.326554219126213,
          0.4543073096148298,
          1.9204859995469838,
          1.818235973258171,
          0.5127759857401899,
          0.7179932166416194,
          0.8301068280996233,
          1.822385182128706,
          0.47822554903876774,
          1.2032040481996993,
          1.135006615238115,
          1.396582513842336,
          0.5385768414477456,
          0.19930364425526825,
          1.843734352809486,
          1.8437343528094865,
          0.7217857533917025,
          1.8358402276047756,
          2.3968145549571913,
          1.1495853880660447,
          1.8182359732581705,
          1.144562661538555,
          0.42278642766544167,
          0.4932107935737206,
          1.500056032843132,
          0.796340059712378,
          1.818235973258171,
          0.755346015845906,
          1.1495853880660447,
          1.8358402276047756,
          -6.9785783710305775,
          1.5633423846804941,
          0.5421157146106179,
          1.113696202081699,
          0.7535309334122248,
          0.7892388427699039,
          0.6770925795403611,
          0.4113292289113696,
          1.8182359732581705,
          0.5374269523449846,
          1.5274423972345414,
          1.1495853880660447,
          2.6167627782799037,
          0.44282358006929073,
          0.7892388427699039,
          0.6311345122585486,
          1.595730017832649,
          0.7593048475410683,
          0.4878936349502774,
          0.379261309522472,
          0.3530644743926693,
          0.7892388427699039,
          1.894699637697881,
          2.7281367791584974,
          0.6311345122585488,
          0.7892388427699039,
          1.5668354616929896,
          1.3507244229456,
          1.5668354616929896,
          0.7151613580897995,
          0.4624956331953529,
          0.6311345122585486,
          0.7121067942738442,
          1.1187189286091885,
          3.207879056752643,
          0.6074531224035378,
          1.1529787039535018,
          2.791532841244712,
          1.2666057174534797,
          3.3501387790728088,
          0.4392479236094541,
          0.614452078506629,
          0.6770925795403611,
          3.0971288869749904,
          1.5017882909511864,
          0.7561605163532004,
          0.6074531224035378,
          0.6107998643284158,
          1.5040599722032102
         ],
         "yaxis": "y"
        },
        {
         "hovertemplate": "color=0<br>x=%{x}<br>y=%{y}<extra></extra>",
         "legendgroup": "0",
         "marker": {
          "color": "Red",
          "symbol": "circle"
         },
         "mode": "markers",
         "name": "0",
         "orientation": "v",
         "showlegend": true,
         "type": "scatter",
         "x": [
          0.517622965419033,
          1.9321303475381484,
          1.6101538441036918,
          -1.0386539158139154,
          13.57019323621403,
          0.33443531158203543,
          8.789863611667856,
          4.06593813703387,
          -0.9411290398804493,
          -0.9640545480443911,
          -1.0237584332564675,
          5.485433731263084,
          -0.9328713368931045,
          4.826478629158614,
          -0.960718309855001,
          1.2058283583663592,
          -0.6547448590699108,
          -0.42862393974460977,
          7.79717434086501,
          -0.41026926167806277,
          0.6806526220442533,
          -0.3212762976157753,
          -1.0620546560129163,
          -0.8009440463098559,
          -0.5825786973468459,
          -3.337379239053317,
          2.1110297402553924,
          -0.4552662347969319,
          -1.2529296945619004,
          -0.01787878130228235,
          0.8975811273621335,
          -0.29455182184997325,
          0.6064056202586653,
          -0.4462114497958661,
          3.0614512211110347,
          -1.0738212147283703,
          1.9246865378648037,
          3.5602356532067696,
          1.8081969701290461,
          -1.4057799645647353,
          -0.18552277521616503,
          1.285437527381609,
          3.764950779054086,
          3.0677263769643117,
          8.932735226918076,
          4.928224400380571,
          -0.17346340502877644,
          -0.39594988255262853,
          5.955476885639499,
          7.728194150867625,
          7.03580553493124,
          0.6388220143815158,
          3.4802013667996974,
          1.8319247440161002,
          0.9666072704803128,
          2.3408540093537287,
          2.9005916704932386,
          -0.6509352266095769,
          7.249674788789269,
          -0.16202268724275204,
          -1.2900208603253254,
          6.702252365619999,
          0.32330510989384786
         ],
         "xaxis": "x",
         "y": [
          -0.861084715621969,
          -2.580368871329304,
          -2.22462975859618,
          0.8020761828710439,
          -16.484186551623875,
          -1.4378128482838881,
          -10.162448250630788,
          -4.819673734825389,
          0.7241738867893648,
          0.7401027166084996,
          0.7924027614452966,
          -6.485226259536237,
          0.7123294995379797,
          -6.3706997848151055,
          0.7377534357663713,
          -1.831017397225719,
          0.49805949438868763,
          0.3792613095224721,
          -8.961627964822004,
          0.3523044895212586,
          -0.7225797054522343,
          0.26812732821767116,
          0.8234494372160538,
          0.6117675569608918,
          0.4935793720568143,
          2.556765847043703,
          -2.961373412020987,
          0.40545814465227475,
          1.2106697210721475,
          0.014717394917079796,
          -1.1872218164376012,
          0.24340491484205462,
          -0.7923057245953249,
          0.39841474250008024,
          -4.340480452029438,
          0.8307275588067126,
          -2.563278513085156,
          -4.310565916837481,
          -1.8335135995325174,
          1.3539622367056805,
          0.18414945750171013,
          -1.1803207236845576,
          -4.673749798458558,
          -4.50662593791372,
          -10.311029039918878,
          -5.999698817172032,
          0.5849006788058642,
          0.3532052585075313,
          -7.1205372809080405,
          -9.871586831329681,
          -9.880282054591166,
          -2.0157158390202126,
          -4.078939695576578,
          -2.5330849197622025,
          -1.274286690422532,
          -2.5044332179823288,
          -3.169249216092197,
          0.5214346321845874,
          -8.600281098040162,
          -0.03280620849624555,
          1.2370776879712482,
          -7.667233015402804,
          -0.3882272196699419
         ],
         "yaxis": "y"
        },
        {
         "hovertemplate": "color=2<br>x=%{x}<br>y=%{y}<extra></extra>",
         "legendgroup": "2",
         "marker": {
          "color": "Green",
          "symbol": "circle"
         },
         "mode": "markers",
         "name": "2",
         "orientation": "v",
         "showlegend": true,
         "type": "scatter",
         "x": [
          -14.346319443214032
         ],
         "xaxis": "x",
         "y": [
          16.539391077081973
         ],
         "yaxis": "y"
        }
       ],
       "layout": {
        "legend": {
         "title": {
          "text": "color"
         },
         "tracegroupgap": 0
        },
        "margin": {
         "t": 60
        },
        "template": {
         "data": {
          "bar": [
           {
            "error_x": {
             "color": "#2a3f5f"
            },
            "error_y": {
             "color": "#2a3f5f"
            },
            "marker": {
             "line": {
              "color": "#E5ECF6",
              "width": 0.5
             },
             "pattern": {
              "fillmode": "overlay",
              "size": 10,
              "solidity": 0.2
             }
            },
            "type": "bar"
           }
          ],
          "barpolar": [
           {
            "marker": {
             "line": {
              "color": "#E5ECF6",
              "width": 0.5
             },
             "pattern": {
              "fillmode": "overlay",
              "size": 10,
              "solidity": 0.2
             }
            },
            "type": "barpolar"
           }
          ],
          "carpet": [
           {
            "aaxis": {
             "endlinecolor": "#2a3f5f",
             "gridcolor": "white",
             "linecolor": "white",
             "minorgridcolor": "white",
             "startlinecolor": "#2a3f5f"
            },
            "baxis": {
             "endlinecolor": "#2a3f5f",
             "gridcolor": "white",
             "linecolor": "white",
             "minorgridcolor": "white",
             "startlinecolor": "#2a3f5f"
            },
            "type": "carpet"
           }
          ],
          "choropleth": [
           {
            "colorbar": {
             "outlinewidth": 0,
             "ticks": ""
            },
            "type": "choropleth"
           }
          ],
          "contour": [
           {
            "colorbar": {
             "outlinewidth": 0,
             "ticks": ""
            },
            "colorscale": [
             [
              0,
              "#0d0887"
             ],
             [
              0.1111111111111111,
              "#46039f"
             ],
             [
              0.2222222222222222,
              "#7201a8"
             ],
             [
              0.3333333333333333,
              "#9c179e"
             ],
             [
              0.4444444444444444,
              "#bd3786"
             ],
             [
              0.5555555555555556,
              "#d8576b"
             ],
             [
              0.6666666666666666,
              "#ed7953"
             ],
             [
              0.7777777777777778,
              "#fb9f3a"
             ],
             [
              0.8888888888888888,
              "#fdca26"
             ],
             [
              1,
              "#f0f921"
             ]
            ],
            "type": "contour"
           }
          ],
          "contourcarpet": [
           {
            "colorbar": {
             "outlinewidth": 0,
             "ticks": ""
            },
            "type": "contourcarpet"
           }
          ],
          "heatmap": [
           {
            "colorbar": {
             "outlinewidth": 0,
             "ticks": ""
            },
            "colorscale": [
             [
              0,
              "#0d0887"
             ],
             [
              0.1111111111111111,
              "#46039f"
             ],
             [
              0.2222222222222222,
              "#7201a8"
             ],
             [
              0.3333333333333333,
              "#9c179e"
             ],
             [
              0.4444444444444444,
              "#bd3786"
             ],
             [
              0.5555555555555556,
              "#d8576b"
             ],
             [
              0.6666666666666666,
              "#ed7953"
             ],
             [
              0.7777777777777778,
              "#fb9f3a"
             ],
             [
              0.8888888888888888,
              "#fdca26"
             ],
             [
              1,
              "#f0f921"
             ]
            ],
            "type": "heatmap"
           }
          ],
          "heatmapgl": [
           {
            "colorbar": {
             "outlinewidth": 0,
             "ticks": ""
            },
            "colorscale": [
             [
              0,
              "#0d0887"
             ],
             [
              0.1111111111111111,
              "#46039f"
             ],
             [
              0.2222222222222222,
              "#7201a8"
             ],
             [
              0.3333333333333333,
              "#9c179e"
             ],
             [
              0.4444444444444444,
              "#bd3786"
             ],
             [
              0.5555555555555556,
              "#d8576b"
             ],
             [
              0.6666666666666666,
              "#ed7953"
             ],
             [
              0.7777777777777778,
              "#fb9f3a"
             ],
             [
              0.8888888888888888,
              "#fdca26"
             ],
             [
              1,
              "#f0f921"
             ]
            ],
            "type": "heatmapgl"
           }
          ],
          "histogram": [
           {
            "marker": {
             "pattern": {
              "fillmode": "overlay",
              "size": 10,
              "solidity": 0.2
             }
            },
            "type": "histogram"
           }
          ],
          "histogram2d": [
           {
            "colorbar": {
             "outlinewidth": 0,
             "ticks": ""
            },
            "colorscale": [
             [
              0,
              "#0d0887"
             ],
             [
              0.1111111111111111,
              "#46039f"
             ],
             [
              0.2222222222222222,
              "#7201a8"
             ],
             [
              0.3333333333333333,
              "#9c179e"
             ],
             [
              0.4444444444444444,
              "#bd3786"
             ],
             [
              0.5555555555555556,
              "#d8576b"
             ],
             [
              0.6666666666666666,
              "#ed7953"
             ],
             [
              0.7777777777777778,
              "#fb9f3a"
             ],
             [
              0.8888888888888888,
              "#fdca26"
             ],
             [
              1,
              "#f0f921"
             ]
            ],
            "type": "histogram2d"
           }
          ],
          "histogram2dcontour": [
           {
            "colorbar": {
             "outlinewidth": 0,
             "ticks": ""
            },
            "colorscale": [
             [
              0,
              "#0d0887"
             ],
             [
              0.1111111111111111,
              "#46039f"
             ],
             [
              0.2222222222222222,
              "#7201a8"
             ],
             [
              0.3333333333333333,
              "#9c179e"
             ],
             [
              0.4444444444444444,
              "#bd3786"
             ],
             [
              0.5555555555555556,
              "#d8576b"
             ],
             [
              0.6666666666666666,
              "#ed7953"
             ],
             [
              0.7777777777777778,
              "#fb9f3a"
             ],
             [
              0.8888888888888888,
              "#fdca26"
             ],
             [
              1,
              "#f0f921"
             ]
            ],
            "type": "histogram2dcontour"
           }
          ],
          "mesh3d": [
           {
            "colorbar": {
             "outlinewidth": 0,
             "ticks": ""
            },
            "type": "mesh3d"
           }
          ],
          "parcoords": [
           {
            "line": {
             "colorbar": {
              "outlinewidth": 0,
              "ticks": ""
             }
            },
            "type": "parcoords"
           }
          ],
          "pie": [
           {
            "automargin": true,
            "type": "pie"
           }
          ],
          "scatter": [
           {
            "fillpattern": {
             "fillmode": "overlay",
             "size": 10,
             "solidity": 0.2
            },
            "type": "scatter"
           }
          ],
          "scatter3d": [
           {
            "line": {
             "colorbar": {
              "outlinewidth": 0,
              "ticks": ""
             }
            },
            "marker": {
             "colorbar": {
              "outlinewidth": 0,
              "ticks": ""
             }
            },
            "type": "scatter3d"
           }
          ],
          "scattercarpet": [
           {
            "marker": {
             "colorbar": {
              "outlinewidth": 0,
              "ticks": ""
             }
            },
            "type": "scattercarpet"
           }
          ],
          "scattergeo": [
           {
            "marker": {
             "colorbar": {
              "outlinewidth": 0,
              "ticks": ""
             }
            },
            "type": "scattergeo"
           }
          ],
          "scattergl": [
           {
            "marker": {
             "colorbar": {
              "outlinewidth": 0,
              "ticks": ""
             }
            },
            "type": "scattergl"
           }
          ],
          "scattermapbox": [
           {
            "marker": {
             "colorbar": {
              "outlinewidth": 0,
              "ticks": ""
             }
            },
            "type": "scattermapbox"
           }
          ],
          "scatterpolar": [
           {
            "marker": {
             "colorbar": {
              "outlinewidth": 0,
              "ticks": ""
             }
            },
            "type": "scatterpolar"
           }
          ],
          "scatterpolargl": [
           {
            "marker": {
             "colorbar": {
              "outlinewidth": 0,
              "ticks": ""
             }
            },
            "type": "scatterpolargl"
           }
          ],
          "scatterternary": [
           {
            "marker": {
             "colorbar": {
              "outlinewidth": 0,
              "ticks": ""
             }
            },
            "type": "scatterternary"
           }
          ],
          "surface": [
           {
            "colorbar": {
             "outlinewidth": 0,
             "ticks": ""
            },
            "colorscale": [
             [
              0,
              "#0d0887"
             ],
             [
              0.1111111111111111,
              "#46039f"
             ],
             [
              0.2222222222222222,
              "#7201a8"
             ],
             [
              0.3333333333333333,
              "#9c179e"
             ],
             [
              0.4444444444444444,
              "#bd3786"
             ],
             [
              0.5555555555555556,
              "#d8576b"
             ],
             [
              0.6666666666666666,
              "#ed7953"
             ],
             [
              0.7777777777777778,
              "#fb9f3a"
             ],
             [
              0.8888888888888888,
              "#fdca26"
             ],
             [
              1,
              "#f0f921"
             ]
            ],
            "type": "surface"
           }
          ],
          "table": [
           {
            "cells": {
             "fill": {
              "color": "#EBF0F8"
             },
             "line": {
              "color": "white"
             }
            },
            "header": {
             "fill": {
              "color": "#C8D4E3"
             },
             "line": {
              "color": "white"
             }
            },
            "type": "table"
           }
          ]
         },
         "layout": {
          "annotationdefaults": {
           "arrowcolor": "#2a3f5f",
           "arrowhead": 0,
           "arrowwidth": 1
          },
          "autotypenumbers": "strict",
          "coloraxis": {
           "colorbar": {
            "outlinewidth": 0,
            "ticks": ""
           }
          },
          "colorscale": {
           "diverging": [
            [
             0,
             "#8e0152"
            ],
            [
             0.1,
             "#c51b7d"
            ],
            [
             0.2,
             "#de77ae"
            ],
            [
             0.3,
             "#f1b6da"
            ],
            [
             0.4,
             "#fde0ef"
            ],
            [
             0.5,
             "#f7f7f7"
            ],
            [
             0.6,
             "#e6f5d0"
            ],
            [
             0.7,
             "#b8e186"
            ],
            [
             0.8,
             "#7fbc41"
            ],
            [
             0.9,
             "#4d9221"
            ],
            [
             1,
             "#276419"
            ]
           ],
           "sequential": [
            [
             0,
             "#0d0887"
            ],
            [
             0.1111111111111111,
             "#46039f"
            ],
            [
             0.2222222222222222,
             "#7201a8"
            ],
            [
             0.3333333333333333,
             "#9c179e"
            ],
            [
             0.4444444444444444,
             "#bd3786"
            ],
            [
             0.5555555555555556,
             "#d8576b"
            ],
            [
             0.6666666666666666,
             "#ed7953"
            ],
            [
             0.7777777777777778,
             "#fb9f3a"
            ],
            [
             0.8888888888888888,
             "#fdca26"
            ],
            [
             1,
             "#f0f921"
            ]
           ],
           "sequentialminus": [
            [
             0,
             "#0d0887"
            ],
            [
             0.1111111111111111,
             "#46039f"
            ],
            [
             0.2222222222222222,
             "#7201a8"
            ],
            [
             0.3333333333333333,
             "#9c179e"
            ],
            [
             0.4444444444444444,
             "#bd3786"
            ],
            [
             0.5555555555555556,
             "#d8576b"
            ],
            [
             0.6666666666666666,
             "#ed7953"
            ],
            [
             0.7777777777777778,
             "#fb9f3a"
            ],
            [
             0.8888888888888888,
             "#fdca26"
            ],
            [
             1,
             "#f0f921"
            ]
           ]
          },
          "colorway": [
           "#636efa",
           "#EF553B",
           "#00cc96",
           "#ab63fa",
           "#FFA15A",
           "#19d3f3",
           "#FF6692",
           "#B6E880",
           "#FF97FF",
           "#FECB52"
          ],
          "font": {
           "color": "#2a3f5f"
          },
          "geo": {
           "bgcolor": "white",
           "lakecolor": "white",
           "landcolor": "#E5ECF6",
           "showlakes": true,
           "showland": true,
           "subunitcolor": "white"
          },
          "hoverlabel": {
           "align": "left"
          },
          "hovermode": "closest",
          "mapbox": {
           "style": "light"
          },
          "paper_bgcolor": "white",
          "plot_bgcolor": "#E5ECF6",
          "polar": {
           "angularaxis": {
            "gridcolor": "white",
            "linecolor": "white",
            "ticks": ""
           },
           "bgcolor": "#E5ECF6",
           "radialaxis": {
            "gridcolor": "white",
            "linecolor": "white",
            "ticks": ""
           }
          },
          "scene": {
           "xaxis": {
            "backgroundcolor": "#E5ECF6",
            "gridcolor": "white",
            "gridwidth": 2,
            "linecolor": "white",
            "showbackground": true,
            "ticks": "",
            "zerolinecolor": "white"
           },
           "yaxis": {
            "backgroundcolor": "#E5ECF6",
            "gridcolor": "white",
            "gridwidth": 2,
            "linecolor": "white",
            "showbackground": true,
            "ticks": "",
            "zerolinecolor": "white"
           },
           "zaxis": {
            "backgroundcolor": "#E5ECF6",
            "gridcolor": "white",
            "gridwidth": 2,
            "linecolor": "white",
            "showbackground": true,
            "ticks": "",
            "zerolinecolor": "white"
           }
          },
          "shapedefaults": {
           "line": {
            "color": "#2a3f5f"
           }
          },
          "ternary": {
           "aaxis": {
            "gridcolor": "white",
            "linecolor": "white",
            "ticks": ""
           },
           "baxis": {
            "gridcolor": "white",
            "linecolor": "white",
            "ticks": ""
           },
           "bgcolor": "#E5ECF6",
           "caxis": {
            "gridcolor": "white",
            "linecolor": "white",
            "ticks": ""
           }
          },
          "title": {
           "x": 0.05
          },
          "xaxis": {
           "automargin": true,
           "gridcolor": "white",
           "linecolor": "white",
           "ticks": "",
           "title": {
            "standoff": 15
           },
           "zerolinecolor": "white",
           "zerolinewidth": 2
          },
          "yaxis": {
           "automargin": true,
           "gridcolor": "white",
           "linecolor": "white",
           "ticks": "",
           "title": {
            "standoff": 15
           },
           "zerolinecolor": "white",
           "zerolinewidth": 2
          }
         }
        },
        "xaxis": {
         "anchor": "y",
         "domain": [
          0,
          1
         ],
         "title": {
          "text": "x"
         }
        },
        "yaxis": {
         "anchor": "x",
         "domain": [
          0,
          1
         ],
         "title": {
          "text": "y"
         }
        }
       }
      },
      "text/html": [
       "<div>                            <div id=\"07290a3d-963e-447c-b069-2a87ed5af37a\" class=\"plotly-graph-div\" style=\"height:525px; width:100%;\"></div>            <script type=\"text/javascript\">                require([\"plotly\"], function(Plotly) {                    window.PLOTLYENV=window.PLOTLYENV || {};                                    if (document.getElementById(\"07290a3d-963e-447c-b069-2a87ed5af37a\")) {                    Plotly.newPlot(                        \"07290a3d-963e-447c-b069-2a87ed5af37a\",                        [{\"hovertemplate\":\"color=1<br>x=%{x}<br>y=%{y}<extra></extra>\",\"legendgroup\":\"1\",\"marker\":{\"color\":\"Blue\",\"symbol\":\"circle\"},\"mode\":\"markers\",\"name\":\"1\",\"orientation\":\"v\",\"showlegend\":true,\"x\":[-1.1047452651696728,-1.3403926699573196,-0.5175650887427284,-1.7880696700247942,-1.1047452651696728,-1.1073303754921815,-0.9132102005288959,-0.8312696541930178,-1.3216396691980785,-0.9080547355511891,-1.0671719610398587,-1.0561647523457258,-0.622821269815441,-2.319558333666156,-1.9109950203322952,-2.3066159715553836,-1.049890713674522,-1.1185281134474498,-1.8885608469180886,-0.5806081025071163,-0.4173048053129492,-1.9109950203322958,-1.0161453140842114,-0.845942154158583,-2.482130492867541,-0.5406588169661756,-1.0958454407980183,-0.9937922497295251,-1.3521054664690138,-1.1047452651696728,-1.1438100198790089,-1.888560846918089,-0.8284525943676974,-1.1047452651696728,-2.5583686336122735,-0.48872434959631483,-0.9368940168802837,-1.0394705985481545,-0.6849404765986389,-0.3071026811614761,-3.1216775946581565,-0.4574554942883306,-2.208176518027744,-1.9109950203322952,-0.5450650097316108,-0.490062488060786,-1.6116030570379205,-0.5655674930088428,-1.862700145469046,-1.888560846918089,-0.6847405711279657,-0.9409166968674634,-1.0715107194077993,-1.8912940712494373,-0.6143185577538254,-1.1881017759467234,-1.3403926699573196,-1.4424020739736727,-0.7373288559419453,-0.29913054838299896,-1.9109950203322952,-1.9109950203322956,-0.8821154168720347,-1.9040524562409404,-2.2097285111250753,-1.3521054664690135,-1.8885608469180886,-1.3487968264889603,-0.4714868613943517,-0.6448620527659095,-1.3369191961190006,-1.036774692576519,-1.888560846918089,-0.7633670412471224,-1.3521054664690138,-1.9040524562409404,5.587660471696625,-1.5833326672385968,-0.743221746150049,-1.3216396691980785,-0.9831303840692862,-1.0266882249553104,-0.8831816267571827,-0.46185416390649925,-1.8885608469180886,-0.7349851082645078,-1.6566672659745962,-1.3521054664690138,-3.1425611322362093,-0.5421609189435235,-1.0266882249553104,-0.8284525943676974,-1.6119356851080506,-1.0113912377357266,-0.6340244179502219,-0.4286239397446096,-0.40198164469228753,-1.0266882249553104,-2.5583686336122735,-3.2591369813002347,-0.8284525943676975,-1.0266882249553104,-1.5852788884645288,-1.5833501923808342,-1.5852788884645288,-0.9368940168802837,-0.5261972261795299,-0.8284525943676974,-0.9261660860521252,-1.3249483091781318,-2.4480414713275698,-0.8049392168082781,-1.2071754061065798,-3.059600585818906,-1.3118541026336754,-3.899016619279157,-0.5348728800335674,-0.8098187685735273,-0.8831816267571827,-3.4879901503808015,-2.50426810855072,-0.9868657297716672,-0.8049392168082781,-0.8096932931567629,-1.635090036026704],\"xaxis\":\"x\",\"y\":[0.8571093425512577,1.135006615238115,0.4307563778727749,2.549298541756751,0.8571093425512578,0.8543176496023818,0.8897113044220969,0.6296834569988524,1.113696202081699,0.6951431434896252,0.9452428682306253,0.9477762721378252,0.4823971482419104,2.2026169253159096,1.843734352809486,2.335744061481624,0.9258675226139026,1.032553459540276,1.8182359732581705,0.4987496264729595,0.381566693989365,1.843734352809487,0.7626515894659462,0.7967718623342824,2.085749535202997,0.47552659529946273,0.8508435628961336,0.7793038977352346,1.1495853880660447,0.8571093425512577,1.137370838847549,1.818235973258171,0.6311345122585487,0.8571093425512578,1.894699637697881,0.41660653914257034,0.7151613580897995,0.8037144650569819,0.5160249494779797,0.6358372391023432,2.8357876109247324,0.4107321805934779,2.3950383919350906,1.843734352809486,0.5023839142072608,0.4276260053247518,1.326554219126213,0.4543073096148298,1.9204859995469838,1.818235973258171,0.5127759857401899,0.7179932166416194,0.8301068280996233,1.822385182128706,0.47822554903876774,1.2032040481996993,1.135006615238115,1.396582513842336,0.5385768414477456,0.19930364425526825,1.843734352809486,1.8437343528094865,0.7217857533917025,1.8358402276047756,2.3968145549571913,1.1495853880660447,1.8182359732581705,1.144562661538555,0.42278642766544167,0.4932107935737206,1.500056032843132,0.796340059712378,1.818235973258171,0.755346015845906,1.1495853880660447,1.8358402276047756,-6.9785783710305775,1.5633423846804941,0.5421157146106179,1.113696202081699,0.7535309334122248,0.7892388427699039,0.6770925795403611,0.4113292289113696,1.8182359732581705,0.5374269523449846,1.5274423972345414,1.1495853880660447,2.6167627782799037,0.44282358006929073,0.7892388427699039,0.6311345122585486,1.595730017832649,0.7593048475410683,0.4878936349502774,0.379261309522472,0.3530644743926693,0.7892388427699039,1.894699637697881,2.7281367791584974,0.6311345122585488,0.7892388427699039,1.5668354616929896,1.3507244229456,1.5668354616929896,0.7151613580897995,0.4624956331953529,0.6311345122585486,0.7121067942738442,1.1187189286091885,3.207879056752643,0.6074531224035378,1.1529787039535018,2.791532841244712,1.2666057174534797,3.3501387790728088,0.4392479236094541,0.614452078506629,0.6770925795403611,3.0971288869749904,1.5017882909511864,0.7561605163532004,0.6074531224035378,0.6107998643284158,1.5040599722032102],\"yaxis\":\"y\",\"type\":\"scatter\"},{\"hovertemplate\":\"color=0<br>x=%{x}<br>y=%{y}<extra></extra>\",\"legendgroup\":\"0\",\"marker\":{\"color\":\"Red\",\"symbol\":\"circle\"},\"mode\":\"markers\",\"name\":\"0\",\"orientation\":\"v\",\"showlegend\":true,\"x\":[0.517622965419033,1.9321303475381484,1.6101538441036918,-1.0386539158139154,13.57019323621403,0.33443531158203543,8.789863611667856,4.06593813703387,-0.9411290398804493,-0.9640545480443911,-1.0237584332564675,5.485433731263084,-0.9328713368931045,4.826478629158614,-0.960718309855001,1.2058283583663592,-0.6547448590699108,-0.42862393974460977,7.79717434086501,-0.41026926167806277,0.6806526220442533,-0.3212762976157753,-1.0620546560129163,-0.8009440463098559,-0.5825786973468459,-3.337379239053317,2.1110297402553924,-0.4552662347969319,-1.2529296945619004,-0.01787878130228235,0.8975811273621335,-0.29455182184997325,0.6064056202586653,-0.4462114497958661,3.0614512211110347,-1.0738212147283703,1.9246865378648037,3.5602356532067696,1.8081969701290461,-1.4057799645647353,-0.18552277521616503,1.285437527381609,3.764950779054086,3.0677263769643117,8.932735226918076,4.928224400380571,-0.17346340502877644,-0.39594988255262853,5.955476885639499,7.728194150867625,7.03580553493124,0.6388220143815158,3.4802013667996974,1.8319247440161002,0.9666072704803128,2.3408540093537287,2.9005916704932386,-0.6509352266095769,7.249674788789269,-0.16202268724275204,-1.2900208603253254,6.702252365619999,0.32330510989384786],\"xaxis\":\"x\",\"y\":[-0.861084715621969,-2.580368871329304,-2.22462975859618,0.8020761828710439,-16.484186551623875,-1.4378128482838881,-10.162448250630788,-4.819673734825389,0.7241738867893648,0.7401027166084996,0.7924027614452966,-6.485226259536237,0.7123294995379797,-6.3706997848151055,0.7377534357663713,-1.831017397225719,0.49805949438868763,0.3792613095224721,-8.961627964822004,0.3523044895212586,-0.7225797054522343,0.26812732821767116,0.8234494372160538,0.6117675569608918,0.4935793720568143,2.556765847043703,-2.961373412020987,0.40545814465227475,1.2106697210721475,0.014717394917079796,-1.1872218164376012,0.24340491484205462,-0.7923057245953249,0.39841474250008024,-4.340480452029438,0.8307275588067126,-2.563278513085156,-4.310565916837481,-1.8335135995325174,1.3539622367056805,0.18414945750171013,-1.1803207236845576,-4.673749798458558,-4.50662593791372,-10.311029039918878,-5.999698817172032,0.5849006788058642,0.3532052585075313,-7.1205372809080405,-9.871586831329681,-9.880282054591166,-2.0157158390202126,-4.078939695576578,-2.5330849197622025,-1.274286690422532,-2.5044332179823288,-3.169249216092197,0.5214346321845874,-8.600281098040162,-0.03280620849624555,1.2370776879712482,-7.667233015402804,-0.3882272196699419],\"yaxis\":\"y\",\"type\":\"scatter\"},{\"hovertemplate\":\"color=2<br>x=%{x}<br>y=%{y}<extra></extra>\",\"legendgroup\":\"2\",\"marker\":{\"color\":\"Green\",\"symbol\":\"circle\"},\"mode\":\"markers\",\"name\":\"2\",\"orientation\":\"v\",\"showlegend\":true,\"x\":[-14.346319443214032],\"xaxis\":\"x\",\"y\":[16.539391077081973],\"yaxis\":\"y\",\"type\":\"scatter\"}],                        {\"template\":{\"data\":{\"histogram2dcontour\":[{\"type\":\"histogram2dcontour\",\"colorbar\":{\"outlinewidth\":0,\"ticks\":\"\"},\"colorscale\":[[0.0,\"#0d0887\"],[0.1111111111111111,\"#46039f\"],[0.2222222222222222,\"#7201a8\"],[0.3333333333333333,\"#9c179e\"],[0.4444444444444444,\"#bd3786\"],[0.5555555555555556,\"#d8576b\"],[0.6666666666666666,\"#ed7953\"],[0.7777777777777778,\"#fb9f3a\"],[0.8888888888888888,\"#fdca26\"],[1.0,\"#f0f921\"]]}],\"choropleth\":[{\"type\":\"choropleth\",\"colorbar\":{\"outlinewidth\":0,\"ticks\":\"\"}}],\"histogram2d\":[{\"type\":\"histogram2d\",\"colorbar\":{\"outlinewidth\":0,\"ticks\":\"\"},\"colorscale\":[[0.0,\"#0d0887\"],[0.1111111111111111,\"#46039f\"],[0.2222222222222222,\"#7201a8\"],[0.3333333333333333,\"#9c179e\"],[0.4444444444444444,\"#bd3786\"],[0.5555555555555556,\"#d8576b\"],[0.6666666666666666,\"#ed7953\"],[0.7777777777777778,\"#fb9f3a\"],[0.8888888888888888,\"#fdca26\"],[1.0,\"#f0f921\"]]}],\"heatmap\":[{\"type\":\"heatmap\",\"colorbar\":{\"outlinewidth\":0,\"ticks\":\"\"},\"colorscale\":[[0.0,\"#0d0887\"],[0.1111111111111111,\"#46039f\"],[0.2222222222222222,\"#7201a8\"],[0.3333333333333333,\"#9c179e\"],[0.4444444444444444,\"#bd3786\"],[0.5555555555555556,\"#d8576b\"],[0.6666666666666666,\"#ed7953\"],[0.7777777777777778,\"#fb9f3a\"],[0.8888888888888888,\"#fdca26\"],[1.0,\"#f0f921\"]]}],\"heatmapgl\":[{\"type\":\"heatmapgl\",\"colorbar\":{\"outlinewidth\":0,\"ticks\":\"\"},\"colorscale\":[[0.0,\"#0d0887\"],[0.1111111111111111,\"#46039f\"],[0.2222222222222222,\"#7201a8\"],[0.3333333333333333,\"#9c179e\"],[0.4444444444444444,\"#bd3786\"],[0.5555555555555556,\"#d8576b\"],[0.6666666666666666,\"#ed7953\"],[0.7777777777777778,\"#fb9f3a\"],[0.8888888888888888,\"#fdca26\"],[1.0,\"#f0f921\"]]}],\"contourcarpet\":[{\"type\":\"contourcarpet\",\"colorbar\":{\"outlinewidth\":0,\"ticks\":\"\"}}],\"contour\":[{\"type\":\"contour\",\"colorbar\":{\"outlinewidth\":0,\"ticks\":\"\"},\"colorscale\":[[0.0,\"#0d0887\"],[0.1111111111111111,\"#46039f\"],[0.2222222222222222,\"#7201a8\"],[0.3333333333333333,\"#9c179e\"],[0.4444444444444444,\"#bd3786\"],[0.5555555555555556,\"#d8576b\"],[0.6666666666666666,\"#ed7953\"],[0.7777777777777778,\"#fb9f3a\"],[0.8888888888888888,\"#fdca26\"],[1.0,\"#f0f921\"]]}],\"surface\":[{\"type\":\"surface\",\"colorbar\":{\"outlinewidth\":0,\"ticks\":\"\"},\"colorscale\":[[0.0,\"#0d0887\"],[0.1111111111111111,\"#46039f\"],[0.2222222222222222,\"#7201a8\"],[0.3333333333333333,\"#9c179e\"],[0.4444444444444444,\"#bd3786\"],[0.5555555555555556,\"#d8576b\"],[0.6666666666666666,\"#ed7953\"],[0.7777777777777778,\"#fb9f3a\"],[0.8888888888888888,\"#fdca26\"],[1.0,\"#f0f921\"]]}],\"mesh3d\":[{\"type\":\"mesh3d\",\"colorbar\":{\"outlinewidth\":0,\"ticks\":\"\"}}],\"scatter\":[{\"fillpattern\":{\"fillmode\":\"overlay\",\"size\":10,\"solidity\":0.2},\"type\":\"scatter\"}],\"parcoords\":[{\"type\":\"parcoords\",\"line\":{\"colorbar\":{\"outlinewidth\":0,\"ticks\":\"\"}}}],\"scatterpolargl\":[{\"type\":\"scatterpolargl\",\"marker\":{\"colorbar\":{\"outlinewidth\":0,\"ticks\":\"\"}}}],\"bar\":[{\"error_x\":{\"color\":\"#2a3f5f\"},\"error_y\":{\"color\":\"#2a3f5f\"},\"marker\":{\"line\":{\"color\":\"#E5ECF6\",\"width\":0.5},\"pattern\":{\"fillmode\":\"overlay\",\"size\":10,\"solidity\":0.2}},\"type\":\"bar\"}],\"scattergeo\":[{\"type\":\"scattergeo\",\"marker\":{\"colorbar\":{\"outlinewidth\":0,\"ticks\":\"\"}}}],\"scatterpolar\":[{\"type\":\"scatterpolar\",\"marker\":{\"colorbar\":{\"outlinewidth\":0,\"ticks\":\"\"}}}],\"histogram\":[{\"marker\":{\"pattern\":{\"fillmode\":\"overlay\",\"size\":10,\"solidity\":0.2}},\"type\":\"histogram\"}],\"scattergl\":[{\"type\":\"scattergl\",\"marker\":{\"colorbar\":{\"outlinewidth\":0,\"ticks\":\"\"}}}],\"scatter3d\":[{\"type\":\"scatter3d\",\"line\":{\"colorbar\":{\"outlinewidth\":0,\"ticks\":\"\"}},\"marker\":{\"colorbar\":{\"outlinewidth\":0,\"ticks\":\"\"}}}],\"scattermapbox\":[{\"type\":\"scattermapbox\",\"marker\":{\"colorbar\":{\"outlinewidth\":0,\"ticks\":\"\"}}}],\"scatterternary\":[{\"type\":\"scatterternary\",\"marker\":{\"colorbar\":{\"outlinewidth\":0,\"ticks\":\"\"}}}],\"scattercarpet\":[{\"type\":\"scattercarpet\",\"marker\":{\"colorbar\":{\"outlinewidth\":0,\"ticks\":\"\"}}}],\"carpet\":[{\"aaxis\":{\"endlinecolor\":\"#2a3f5f\",\"gridcolor\":\"white\",\"linecolor\":\"white\",\"minorgridcolor\":\"white\",\"startlinecolor\":\"#2a3f5f\"},\"baxis\":{\"endlinecolor\":\"#2a3f5f\",\"gridcolor\":\"white\",\"linecolor\":\"white\",\"minorgridcolor\":\"white\",\"startlinecolor\":\"#2a3f5f\"},\"type\":\"carpet\"}],\"table\":[{\"cells\":{\"fill\":{\"color\":\"#EBF0F8\"},\"line\":{\"color\":\"white\"}},\"header\":{\"fill\":{\"color\":\"#C8D4E3\"},\"line\":{\"color\":\"white\"}},\"type\":\"table\"}],\"barpolar\":[{\"marker\":{\"line\":{\"color\":\"#E5ECF6\",\"width\":0.5},\"pattern\":{\"fillmode\":\"overlay\",\"size\":10,\"solidity\":0.2}},\"type\":\"barpolar\"}],\"pie\":[{\"automargin\":true,\"type\":\"pie\"}]},\"layout\":{\"autotypenumbers\":\"strict\",\"colorway\":[\"#636efa\",\"#EF553B\",\"#00cc96\",\"#ab63fa\",\"#FFA15A\",\"#19d3f3\",\"#FF6692\",\"#B6E880\",\"#FF97FF\",\"#FECB52\"],\"font\":{\"color\":\"#2a3f5f\"},\"hovermode\":\"closest\",\"hoverlabel\":{\"align\":\"left\"},\"paper_bgcolor\":\"white\",\"plot_bgcolor\":\"#E5ECF6\",\"polar\":{\"bgcolor\":\"#E5ECF6\",\"angularaxis\":{\"gridcolor\":\"white\",\"linecolor\":\"white\",\"ticks\":\"\"},\"radialaxis\":{\"gridcolor\":\"white\",\"linecolor\":\"white\",\"ticks\":\"\"}},\"ternary\":{\"bgcolor\":\"#E5ECF6\",\"aaxis\":{\"gridcolor\":\"white\",\"linecolor\":\"white\",\"ticks\":\"\"},\"baxis\":{\"gridcolor\":\"white\",\"linecolor\":\"white\",\"ticks\":\"\"},\"caxis\":{\"gridcolor\":\"white\",\"linecolor\":\"white\",\"ticks\":\"\"}},\"coloraxis\":{\"colorbar\":{\"outlinewidth\":0,\"ticks\":\"\"}},\"colorscale\":{\"sequential\":[[0.0,\"#0d0887\"],[0.1111111111111111,\"#46039f\"],[0.2222222222222222,\"#7201a8\"],[0.3333333333333333,\"#9c179e\"],[0.4444444444444444,\"#bd3786\"],[0.5555555555555556,\"#d8576b\"],[0.6666666666666666,\"#ed7953\"],[0.7777777777777778,\"#fb9f3a\"],[0.8888888888888888,\"#fdca26\"],[1.0,\"#f0f921\"]],\"sequentialminus\":[[0.0,\"#0d0887\"],[0.1111111111111111,\"#46039f\"],[0.2222222222222222,\"#7201a8\"],[0.3333333333333333,\"#9c179e\"],[0.4444444444444444,\"#bd3786\"],[0.5555555555555556,\"#d8576b\"],[0.6666666666666666,\"#ed7953\"],[0.7777777777777778,\"#fb9f3a\"],[0.8888888888888888,\"#fdca26\"],[1.0,\"#f0f921\"]],\"diverging\":[[0,\"#8e0152\"],[0.1,\"#c51b7d\"],[0.2,\"#de77ae\"],[0.3,\"#f1b6da\"],[0.4,\"#fde0ef\"],[0.5,\"#f7f7f7\"],[0.6,\"#e6f5d0\"],[0.7,\"#b8e186\"],[0.8,\"#7fbc41\"],[0.9,\"#4d9221\"],[1,\"#276419\"]]},\"xaxis\":{\"gridcolor\":\"white\",\"linecolor\":\"white\",\"ticks\":\"\",\"title\":{\"standoff\":15},\"zerolinecolor\":\"white\",\"automargin\":true,\"zerolinewidth\":2},\"yaxis\":{\"gridcolor\":\"white\",\"linecolor\":\"white\",\"ticks\":\"\",\"title\":{\"standoff\":15},\"zerolinecolor\":\"white\",\"automargin\":true,\"zerolinewidth\":2},\"scene\":{\"xaxis\":{\"backgroundcolor\":\"#E5ECF6\",\"gridcolor\":\"white\",\"linecolor\":\"white\",\"showbackground\":true,\"ticks\":\"\",\"zerolinecolor\":\"white\",\"gridwidth\":2},\"yaxis\":{\"backgroundcolor\":\"#E5ECF6\",\"gridcolor\":\"white\",\"linecolor\":\"white\",\"showbackground\":true,\"ticks\":\"\",\"zerolinecolor\":\"white\",\"gridwidth\":2},\"zaxis\":{\"backgroundcolor\":\"#E5ECF6\",\"gridcolor\":\"white\",\"linecolor\":\"white\",\"showbackground\":true,\"ticks\":\"\",\"zerolinecolor\":\"white\",\"gridwidth\":2}},\"shapedefaults\":{\"line\":{\"color\":\"#2a3f5f\"}},\"annotationdefaults\":{\"arrowcolor\":\"#2a3f5f\",\"arrowhead\":0,\"arrowwidth\":1},\"geo\":{\"bgcolor\":\"white\",\"landcolor\":\"#E5ECF6\",\"subunitcolor\":\"white\",\"showland\":true,\"showlakes\":true,\"lakecolor\":\"white\"},\"title\":{\"x\":0.05},\"mapbox\":{\"style\":\"light\"}}},\"xaxis\":{\"anchor\":\"y\",\"domain\":[0.0,1.0],\"title\":{\"text\":\"x\"}},\"yaxis\":{\"anchor\":\"x\",\"domain\":[0.0,1.0],\"title\":{\"text\":\"y\"}},\"legend\":{\"title\":{\"text\":\"color\"},\"tracegroupgap\":0},\"margin\":{\"t\":60}},                        {\"responsive\": true}                    ).then(function(){\n",
       "                            \n",
       "var gd = document.getElementById('07290a3d-963e-447c-b069-2a87ed5af37a');\n",
       "var x = new MutationObserver(function (mutations, observer) {{\n",
       "        var display = window.getComputedStyle(gd).display;\n",
       "        if (!display || display === 'none') {{\n",
       "            console.log([gd, 'removed!']);\n",
       "            Plotly.purge(gd);\n",
       "            observer.disconnect();\n",
       "        }}\n",
       "}});\n",
       "\n",
       "// Listen for the removal of the full notebook cells\n",
       "var notebookContainer = gd.closest('#notebook-container');\n",
       "if (notebookContainer) {{\n",
       "    x.observe(notebookContainer, {childList: true});\n",
       "}}\n",
       "\n",
       "// Listen for the clearing of the current output cell\n",
       "var outputEl = gd.closest('.output');\n",
       "if (outputEl) {{\n",
       "    x.observe(outputEl, {childList: true});\n",
       "}}\n",
       "\n",
       "                        })                };                });            </script>        </div>"
      ]
     },
     "metadata": {},
     "output_type": "display_data"
    },
    {
     "data": {
      "application/vnd.plotly.v1+json": {
       "config": {
        "plotlyServerURL": "https://plot.ly"
       },
       "data": [
        {
         "alignmentgroup": "True",
         "bingroup": "x",
         "hovertemplate": "color=1<br>value=%{x}<br>count=%{y}<extra></extra>",
         "legendgroup": "1",
         "marker": {
          "color": "Blue",
          "pattern": {
           "shape": ""
          }
         },
         "name": "1",
         "offsetgroup": "1",
         "orientation": "v",
         "showlegend": true,
         "type": "histogram",
         "x": [
          -1.1047452651696728,
          -1.3403926699573196,
          -0.5175650887427284,
          -1.7880696700247942,
          -1.1047452651696728,
          -1.1073303754921815,
          -0.9132102005288959,
          -0.8312696541930178,
          -1.3216396691980785,
          -0.9080547355511891,
          -1.0671719610398587,
          -1.0561647523457258,
          -0.622821269815441,
          -2.319558333666156,
          -1.9109950203322952,
          -2.3066159715553836,
          -1.049890713674522,
          -1.1185281134474498,
          -1.8885608469180886,
          -0.5806081025071163,
          -0.4173048053129492,
          -1.9109950203322958,
          -1.0161453140842114,
          -0.845942154158583,
          -2.482130492867541,
          -0.5406588169661756,
          -1.0958454407980183,
          -0.9937922497295251,
          -1.3521054664690138,
          -1.1047452651696728,
          -1.1438100198790089,
          -1.888560846918089,
          -0.8284525943676974,
          -1.1047452651696728,
          -2.5583686336122735,
          -0.48872434959631483,
          -0.9368940168802837,
          -1.0394705985481545,
          -0.6849404765986389,
          -0.3071026811614761,
          -3.1216775946581565,
          -0.4574554942883306,
          -2.208176518027744,
          -1.9109950203322952,
          -0.5450650097316108,
          -0.490062488060786,
          -1.6116030570379205,
          -0.5655674930088428,
          -1.862700145469046,
          -1.888560846918089,
          -0.6847405711279657,
          -0.9409166968674634,
          -1.0715107194077993,
          -1.8912940712494373,
          -0.6143185577538254,
          -1.1881017759467234,
          -1.3403926699573196,
          -1.4424020739736727,
          -0.7373288559419453,
          -0.29913054838299896,
          -1.9109950203322952,
          -1.9109950203322956,
          -0.8821154168720347,
          -1.9040524562409404,
          -2.2097285111250753,
          -1.3521054664690135,
          -1.8885608469180886,
          -1.3487968264889603,
          -0.4714868613943517,
          -0.6448620527659095,
          -1.3369191961190006,
          -1.036774692576519,
          -1.888560846918089,
          -0.7633670412471224,
          -1.3521054664690138,
          -1.9040524562409404,
          5.587660471696625,
          -1.5833326672385968,
          -0.743221746150049,
          -1.3216396691980785,
          -0.9831303840692862,
          -1.0266882249553104,
          -0.8831816267571827,
          -0.46185416390649925,
          -1.8885608469180886,
          -0.7349851082645078,
          -1.6566672659745962,
          -1.3521054664690138,
          -3.1425611322362093,
          -0.5421609189435235,
          -1.0266882249553104,
          -0.8284525943676974,
          -1.6119356851080506,
          -1.0113912377357266,
          -0.6340244179502219,
          -0.4286239397446096,
          -0.40198164469228753,
          -1.0266882249553104,
          -2.5583686336122735,
          -3.2591369813002347,
          -0.8284525943676975,
          -1.0266882249553104,
          -1.5852788884645288,
          -1.5833501923808342,
          -1.5852788884645288,
          -0.9368940168802837,
          -0.5261972261795299,
          -0.8284525943676974,
          -0.9261660860521252,
          -1.3249483091781318,
          -2.4480414713275698,
          -0.8049392168082781,
          -1.2071754061065798,
          -3.059600585818906,
          -1.3118541026336754,
          -3.899016619279157,
          -0.5348728800335674,
          -0.8098187685735273,
          -0.8831816267571827,
          -3.4879901503808015,
          -2.50426810855072,
          -0.9868657297716672,
          -0.8049392168082781,
          -0.8096932931567629,
          -1.635090036026704
         ],
         "xaxis": "x",
         "yaxis": "y"
        },
        {
         "alignmentgroup": "True",
         "bingroup": "x",
         "hovertemplate": "color=0<br>value=%{x}<br>count=%{y}<extra></extra>",
         "legendgroup": "0",
         "marker": {
          "color": "Red",
          "pattern": {
           "shape": ""
          }
         },
         "name": "0",
         "offsetgroup": "0",
         "orientation": "v",
         "showlegend": true,
         "type": "histogram",
         "x": [
          0.517622965419033,
          1.9321303475381484,
          1.6101538441036918,
          -1.0386539158139154,
          13.57019323621403,
          0.33443531158203543,
          8.789863611667856,
          4.06593813703387,
          -0.9411290398804493,
          -0.9640545480443911,
          -1.0237584332564675,
          5.485433731263084,
          -0.9328713368931045,
          4.826478629158614,
          -0.960718309855001,
          1.2058283583663592,
          -0.6547448590699108,
          -0.42862393974460977,
          7.79717434086501,
          -0.41026926167806277,
          0.6806526220442533,
          -0.3212762976157753,
          -1.0620546560129163,
          -0.8009440463098559,
          -0.5825786973468459,
          -3.337379239053317,
          2.1110297402553924,
          -0.4552662347969319,
          -1.2529296945619004,
          -0.01787878130228235,
          0.8975811273621335,
          -0.29455182184997325,
          0.6064056202586653,
          -0.4462114497958661,
          3.0614512211110347,
          -1.0738212147283703,
          1.9246865378648037,
          3.5602356532067696,
          1.8081969701290461,
          -1.4057799645647353,
          -0.18552277521616503,
          1.285437527381609,
          3.764950779054086,
          3.0677263769643117,
          8.932735226918076,
          4.928224400380571,
          -0.17346340502877644,
          -0.39594988255262853,
          5.955476885639499,
          7.728194150867625,
          7.03580553493124,
          0.6388220143815158,
          3.4802013667996974,
          1.8319247440161002,
          0.9666072704803128,
          2.3408540093537287,
          2.9005916704932386,
          -0.6509352266095769,
          7.249674788789269,
          -0.16202268724275204,
          -1.2900208603253254,
          6.702252365619999,
          0.32330510989384786
         ],
         "xaxis": "x",
         "yaxis": "y"
        }
       ],
       "layout": {
        "annotations": [
         {
          "arrowhead": 2,
          "ax": 0,
          "font": {
           "size": 14
          },
          "showarrow": true,
          "text": "Explanation Value",
          "x": -14.346319443214032,
          "y": 0
         }
        ],
        "barmode": "relative",
        "legend": {
         "title": {
          "text": "color"
         },
         "tracegroupgap": 0
        },
        "template": {
         "data": {
          "bar": [
           {
            "error_x": {
             "color": "#2a3f5f"
            },
            "error_y": {
             "color": "#2a3f5f"
            },
            "marker": {
             "line": {
              "color": "#E5ECF6",
              "width": 0.5
             },
             "pattern": {
              "fillmode": "overlay",
              "size": 10,
              "solidity": 0.2
             }
            },
            "type": "bar"
           }
          ],
          "barpolar": [
           {
            "marker": {
             "line": {
              "color": "#E5ECF6",
              "width": 0.5
             },
             "pattern": {
              "fillmode": "overlay",
              "size": 10,
              "solidity": 0.2
             }
            },
            "type": "barpolar"
           }
          ],
          "carpet": [
           {
            "aaxis": {
             "endlinecolor": "#2a3f5f",
             "gridcolor": "white",
             "linecolor": "white",
             "minorgridcolor": "white",
             "startlinecolor": "#2a3f5f"
            },
            "baxis": {
             "endlinecolor": "#2a3f5f",
             "gridcolor": "white",
             "linecolor": "white",
             "minorgridcolor": "white",
             "startlinecolor": "#2a3f5f"
            },
            "type": "carpet"
           }
          ],
          "choropleth": [
           {
            "colorbar": {
             "outlinewidth": 0,
             "ticks": ""
            },
            "type": "choropleth"
           }
          ],
          "contour": [
           {
            "colorbar": {
             "outlinewidth": 0,
             "ticks": ""
            },
            "colorscale": [
             [
              0,
              "#0d0887"
             ],
             [
              0.1111111111111111,
              "#46039f"
             ],
             [
              0.2222222222222222,
              "#7201a8"
             ],
             [
              0.3333333333333333,
              "#9c179e"
             ],
             [
              0.4444444444444444,
              "#bd3786"
             ],
             [
              0.5555555555555556,
              "#d8576b"
             ],
             [
              0.6666666666666666,
              "#ed7953"
             ],
             [
              0.7777777777777778,
              "#fb9f3a"
             ],
             [
              0.8888888888888888,
              "#fdca26"
             ],
             [
              1,
              "#f0f921"
             ]
            ],
            "type": "contour"
           }
          ],
          "contourcarpet": [
           {
            "colorbar": {
             "outlinewidth": 0,
             "ticks": ""
            },
            "type": "contourcarpet"
           }
          ],
          "heatmap": [
           {
            "colorbar": {
             "outlinewidth": 0,
             "ticks": ""
            },
            "colorscale": [
             [
              0,
              "#0d0887"
             ],
             [
              0.1111111111111111,
              "#46039f"
             ],
             [
              0.2222222222222222,
              "#7201a8"
             ],
             [
              0.3333333333333333,
              "#9c179e"
             ],
             [
              0.4444444444444444,
              "#bd3786"
             ],
             [
              0.5555555555555556,
              "#d8576b"
             ],
             [
              0.6666666666666666,
              "#ed7953"
             ],
             [
              0.7777777777777778,
              "#fb9f3a"
             ],
             [
              0.8888888888888888,
              "#fdca26"
             ],
             [
              1,
              "#f0f921"
             ]
            ],
            "type": "heatmap"
           }
          ],
          "heatmapgl": [
           {
            "colorbar": {
             "outlinewidth": 0,
             "ticks": ""
            },
            "colorscale": [
             [
              0,
              "#0d0887"
             ],
             [
              0.1111111111111111,
              "#46039f"
             ],
             [
              0.2222222222222222,
              "#7201a8"
             ],
             [
              0.3333333333333333,
              "#9c179e"
             ],
             [
              0.4444444444444444,
              "#bd3786"
             ],
             [
              0.5555555555555556,
              "#d8576b"
             ],
             [
              0.6666666666666666,
              "#ed7953"
             ],
             [
              0.7777777777777778,
              "#fb9f3a"
             ],
             [
              0.8888888888888888,
              "#fdca26"
             ],
             [
              1,
              "#f0f921"
             ]
            ],
            "type": "heatmapgl"
           }
          ],
          "histogram": [
           {
            "marker": {
             "pattern": {
              "fillmode": "overlay",
              "size": 10,
              "solidity": 0.2
             }
            },
            "type": "histogram"
           }
          ],
          "histogram2d": [
           {
            "colorbar": {
             "outlinewidth": 0,
             "ticks": ""
            },
            "colorscale": [
             [
              0,
              "#0d0887"
             ],
             [
              0.1111111111111111,
              "#46039f"
             ],
             [
              0.2222222222222222,
              "#7201a8"
             ],
             [
              0.3333333333333333,
              "#9c179e"
             ],
             [
              0.4444444444444444,
              "#bd3786"
             ],
             [
              0.5555555555555556,
              "#d8576b"
             ],
             [
              0.6666666666666666,
              "#ed7953"
             ],
             [
              0.7777777777777778,
              "#fb9f3a"
             ],
             [
              0.8888888888888888,
              "#fdca26"
             ],
             [
              1,
              "#f0f921"
             ]
            ],
            "type": "histogram2d"
           }
          ],
          "histogram2dcontour": [
           {
            "colorbar": {
             "outlinewidth": 0,
             "ticks": ""
            },
            "colorscale": [
             [
              0,
              "#0d0887"
             ],
             [
              0.1111111111111111,
              "#46039f"
             ],
             [
              0.2222222222222222,
              "#7201a8"
             ],
             [
              0.3333333333333333,
              "#9c179e"
             ],
             [
              0.4444444444444444,
              "#bd3786"
             ],
             [
              0.5555555555555556,
              "#d8576b"
             ],
             [
              0.6666666666666666,
              "#ed7953"
             ],
             [
              0.7777777777777778,
              "#fb9f3a"
             ],
             [
              0.8888888888888888,
              "#fdca26"
             ],
             [
              1,
              "#f0f921"
             ]
            ],
            "type": "histogram2dcontour"
           }
          ],
          "mesh3d": [
           {
            "colorbar": {
             "outlinewidth": 0,
             "ticks": ""
            },
            "type": "mesh3d"
           }
          ],
          "parcoords": [
           {
            "line": {
             "colorbar": {
              "outlinewidth": 0,
              "ticks": ""
             }
            },
            "type": "parcoords"
           }
          ],
          "pie": [
           {
            "automargin": true,
            "type": "pie"
           }
          ],
          "scatter": [
           {
            "fillpattern": {
             "fillmode": "overlay",
             "size": 10,
             "solidity": 0.2
            },
            "type": "scatter"
           }
          ],
          "scatter3d": [
           {
            "line": {
             "colorbar": {
              "outlinewidth": 0,
              "ticks": ""
             }
            },
            "marker": {
             "colorbar": {
              "outlinewidth": 0,
              "ticks": ""
             }
            },
            "type": "scatter3d"
           }
          ],
          "scattercarpet": [
           {
            "marker": {
             "colorbar": {
              "outlinewidth": 0,
              "ticks": ""
             }
            },
            "type": "scattercarpet"
           }
          ],
          "scattergeo": [
           {
            "marker": {
             "colorbar": {
              "outlinewidth": 0,
              "ticks": ""
             }
            },
            "type": "scattergeo"
           }
          ],
          "scattergl": [
           {
            "marker": {
             "colorbar": {
              "outlinewidth": 0,
              "ticks": ""
             }
            },
            "type": "scattergl"
           }
          ],
          "scattermapbox": [
           {
            "marker": {
             "colorbar": {
              "outlinewidth": 0,
              "ticks": ""
             }
            },
            "type": "scattermapbox"
           }
          ],
          "scatterpolar": [
           {
            "marker": {
             "colorbar": {
              "outlinewidth": 0,
              "ticks": ""
             }
            },
            "type": "scatterpolar"
           }
          ],
          "scatterpolargl": [
           {
            "marker": {
             "colorbar": {
              "outlinewidth": 0,
              "ticks": ""
             }
            },
            "type": "scatterpolargl"
           }
          ],
          "scatterternary": [
           {
            "marker": {
             "colorbar": {
              "outlinewidth": 0,
              "ticks": ""
             }
            },
            "type": "scatterternary"
           }
          ],
          "surface": [
           {
            "colorbar": {
             "outlinewidth": 0,
             "ticks": ""
            },
            "colorscale": [
             [
              0,
              "#0d0887"
             ],
             [
              0.1111111111111111,
              "#46039f"
             ],
             [
              0.2222222222222222,
              "#7201a8"
             ],
             [
              0.3333333333333333,
              "#9c179e"
             ],
             [
              0.4444444444444444,
              "#bd3786"
             ],
             [
              0.5555555555555556,
              "#d8576b"
             ],
             [
              0.6666666666666666,
              "#ed7953"
             ],
             [
              0.7777777777777778,
              "#fb9f3a"
             ],
             [
              0.8888888888888888,
              "#fdca26"
             ],
             [
              1,
              "#f0f921"
             ]
            ],
            "type": "surface"
           }
          ],
          "table": [
           {
            "cells": {
             "fill": {
              "color": "#EBF0F8"
             },
             "line": {
              "color": "white"
             }
            },
            "header": {
             "fill": {
              "color": "#C8D4E3"
             },
             "line": {
              "color": "white"
             }
            },
            "type": "table"
           }
          ]
         },
         "layout": {
          "annotationdefaults": {
           "arrowcolor": "#2a3f5f",
           "arrowhead": 0,
           "arrowwidth": 1
          },
          "autotypenumbers": "strict",
          "coloraxis": {
           "colorbar": {
            "outlinewidth": 0,
            "ticks": ""
           }
          },
          "colorscale": {
           "diverging": [
            [
             0,
             "#8e0152"
            ],
            [
             0.1,
             "#c51b7d"
            ],
            [
             0.2,
             "#de77ae"
            ],
            [
             0.3,
             "#f1b6da"
            ],
            [
             0.4,
             "#fde0ef"
            ],
            [
             0.5,
             "#f7f7f7"
            ],
            [
             0.6,
             "#e6f5d0"
            ],
            [
             0.7,
             "#b8e186"
            ],
            [
             0.8,
             "#7fbc41"
            ],
            [
             0.9,
             "#4d9221"
            ],
            [
             1,
             "#276419"
            ]
           ],
           "sequential": [
            [
             0,
             "#0d0887"
            ],
            [
             0.1111111111111111,
             "#46039f"
            ],
            [
             0.2222222222222222,
             "#7201a8"
            ],
            [
             0.3333333333333333,
             "#9c179e"
            ],
            [
             0.4444444444444444,
             "#bd3786"
            ],
            [
             0.5555555555555556,
             "#d8576b"
            ],
            [
             0.6666666666666666,
             "#ed7953"
            ],
            [
             0.7777777777777778,
             "#fb9f3a"
            ],
            [
             0.8888888888888888,
             "#fdca26"
            ],
            [
             1,
             "#f0f921"
            ]
           ],
           "sequentialminus": [
            [
             0,
             "#0d0887"
            ],
            [
             0.1111111111111111,
             "#46039f"
            ],
            [
             0.2222222222222222,
             "#7201a8"
            ],
            [
             0.3333333333333333,
             "#9c179e"
            ],
            [
             0.4444444444444444,
             "#bd3786"
            ],
            [
             0.5555555555555556,
             "#d8576b"
            ],
            [
             0.6666666666666666,
             "#ed7953"
            ],
            [
             0.7777777777777778,
             "#fb9f3a"
            ],
            [
             0.8888888888888888,
             "#fdca26"
            ],
            [
             1,
             "#f0f921"
            ]
           ]
          },
          "colorway": [
           "#636efa",
           "#EF553B",
           "#00cc96",
           "#ab63fa",
           "#FFA15A",
           "#19d3f3",
           "#FF6692",
           "#B6E880",
           "#FF97FF",
           "#FECB52"
          ],
          "font": {
           "color": "#2a3f5f"
          },
          "geo": {
           "bgcolor": "white",
           "lakecolor": "white",
           "landcolor": "#E5ECF6",
           "showlakes": true,
           "showland": true,
           "subunitcolor": "white"
          },
          "hoverlabel": {
           "align": "left"
          },
          "hovermode": "closest",
          "mapbox": {
           "style": "light"
          },
          "paper_bgcolor": "white",
          "plot_bgcolor": "#E5ECF6",
          "polar": {
           "angularaxis": {
            "gridcolor": "white",
            "linecolor": "white",
            "ticks": ""
           },
           "bgcolor": "#E5ECF6",
           "radialaxis": {
            "gridcolor": "white",
            "linecolor": "white",
            "ticks": ""
           }
          },
          "scene": {
           "xaxis": {
            "backgroundcolor": "#E5ECF6",
            "gridcolor": "white",
            "gridwidth": 2,
            "linecolor": "white",
            "showbackground": true,
            "ticks": "",
            "zerolinecolor": "white"
           },
           "yaxis": {
            "backgroundcolor": "#E5ECF6",
            "gridcolor": "white",
            "gridwidth": 2,
            "linecolor": "white",
            "showbackground": true,
            "ticks": "",
            "zerolinecolor": "white"
           },
           "zaxis": {
            "backgroundcolor": "#E5ECF6",
            "gridcolor": "white",
            "gridwidth": 2,
            "linecolor": "white",
            "showbackground": true,
            "ticks": "",
            "zerolinecolor": "white"
           }
          },
          "shapedefaults": {
           "line": {
            "color": "#2a3f5f"
           }
          },
          "ternary": {
           "aaxis": {
            "gridcolor": "white",
            "linecolor": "white",
            "ticks": ""
           },
           "baxis": {
            "gridcolor": "white",
            "linecolor": "white",
            "ticks": ""
           },
           "bgcolor": "#E5ECF6",
           "caxis": {
            "gridcolor": "white",
            "linecolor": "white",
            "ticks": ""
           }
          },
          "title": {
           "x": 0.05
          },
          "xaxis": {
           "automargin": true,
           "gridcolor": "white",
           "linecolor": "white",
           "ticks": "",
           "title": {
            "standoff": 15
           },
           "zerolinecolor": "white",
           "zerolinewidth": 2
          },
          "yaxis": {
           "automargin": true,
           "gridcolor": "white",
           "linecolor": "white",
           "ticks": "",
           "title": {
            "standoff": 15
           },
           "zerolinecolor": "white",
           "zerolinewidth": 2
          }
         }
        },
        "title": {
         "text": "Class 0 Logit Distribution"
        },
        "xaxis": {
         "anchor": "y",
         "domain": [
          0,
          1
         ],
         "range": [
          -16.346319443214032,
          15.57019323621403
         ],
         "title": {
          "text": "Logit Value"
         }
        },
        "yaxis": {
         "anchor": "x",
         "domain": [
          0,
          1
         ],
         "title": {
          "text": "Count"
         }
        }
       }
      },
      "text/html": [
       "<div>                            <div id=\"8241ccff-c6ed-47c1-a53f-b1db30c80bfc\" class=\"plotly-graph-div\" style=\"height:525px; width:100%;\"></div>            <script type=\"text/javascript\">                require([\"plotly\"], function(Plotly) {                    window.PLOTLYENV=window.PLOTLYENV || {};                                    if (document.getElementById(\"8241ccff-c6ed-47c1-a53f-b1db30c80bfc\")) {                    Plotly.newPlot(                        \"8241ccff-c6ed-47c1-a53f-b1db30c80bfc\",                        [{\"alignmentgroup\":\"True\",\"bingroup\":\"x\",\"hovertemplate\":\"color=1<br>value=%{x}<br>count=%{y}<extra></extra>\",\"legendgroup\":\"1\",\"marker\":{\"color\":\"Blue\",\"pattern\":{\"shape\":\"\"}},\"name\":\"1\",\"offsetgroup\":\"1\",\"orientation\":\"v\",\"showlegend\":true,\"x\":[-1.1047452651696728,-1.3403926699573196,-0.5175650887427284,-1.7880696700247942,-1.1047452651696728,-1.1073303754921815,-0.9132102005288959,-0.8312696541930178,-1.3216396691980785,-0.9080547355511891,-1.0671719610398587,-1.0561647523457258,-0.622821269815441,-2.319558333666156,-1.9109950203322952,-2.3066159715553836,-1.049890713674522,-1.1185281134474498,-1.8885608469180886,-0.5806081025071163,-0.4173048053129492,-1.9109950203322958,-1.0161453140842114,-0.845942154158583,-2.482130492867541,-0.5406588169661756,-1.0958454407980183,-0.9937922497295251,-1.3521054664690138,-1.1047452651696728,-1.1438100198790089,-1.888560846918089,-0.8284525943676974,-1.1047452651696728,-2.5583686336122735,-0.48872434959631483,-0.9368940168802837,-1.0394705985481545,-0.6849404765986389,-0.3071026811614761,-3.1216775946581565,-0.4574554942883306,-2.208176518027744,-1.9109950203322952,-0.5450650097316108,-0.490062488060786,-1.6116030570379205,-0.5655674930088428,-1.862700145469046,-1.888560846918089,-0.6847405711279657,-0.9409166968674634,-1.0715107194077993,-1.8912940712494373,-0.6143185577538254,-1.1881017759467234,-1.3403926699573196,-1.4424020739736727,-0.7373288559419453,-0.29913054838299896,-1.9109950203322952,-1.9109950203322956,-0.8821154168720347,-1.9040524562409404,-2.2097285111250753,-1.3521054664690135,-1.8885608469180886,-1.3487968264889603,-0.4714868613943517,-0.6448620527659095,-1.3369191961190006,-1.036774692576519,-1.888560846918089,-0.7633670412471224,-1.3521054664690138,-1.9040524562409404,5.587660471696625,-1.5833326672385968,-0.743221746150049,-1.3216396691980785,-0.9831303840692862,-1.0266882249553104,-0.8831816267571827,-0.46185416390649925,-1.8885608469180886,-0.7349851082645078,-1.6566672659745962,-1.3521054664690138,-3.1425611322362093,-0.5421609189435235,-1.0266882249553104,-0.8284525943676974,-1.6119356851080506,-1.0113912377357266,-0.6340244179502219,-0.4286239397446096,-0.40198164469228753,-1.0266882249553104,-2.5583686336122735,-3.2591369813002347,-0.8284525943676975,-1.0266882249553104,-1.5852788884645288,-1.5833501923808342,-1.5852788884645288,-0.9368940168802837,-0.5261972261795299,-0.8284525943676974,-0.9261660860521252,-1.3249483091781318,-2.4480414713275698,-0.8049392168082781,-1.2071754061065798,-3.059600585818906,-1.3118541026336754,-3.899016619279157,-0.5348728800335674,-0.8098187685735273,-0.8831816267571827,-3.4879901503808015,-2.50426810855072,-0.9868657297716672,-0.8049392168082781,-0.8096932931567629,-1.635090036026704],\"xaxis\":\"x\",\"yaxis\":\"y\",\"type\":\"histogram\"},{\"alignmentgroup\":\"True\",\"bingroup\":\"x\",\"hovertemplate\":\"color=0<br>value=%{x}<br>count=%{y}<extra></extra>\",\"legendgroup\":\"0\",\"marker\":{\"color\":\"Red\",\"pattern\":{\"shape\":\"\"}},\"name\":\"0\",\"offsetgroup\":\"0\",\"orientation\":\"v\",\"showlegend\":true,\"x\":[0.517622965419033,1.9321303475381484,1.6101538441036918,-1.0386539158139154,13.57019323621403,0.33443531158203543,8.789863611667856,4.06593813703387,-0.9411290398804493,-0.9640545480443911,-1.0237584332564675,5.485433731263084,-0.9328713368931045,4.826478629158614,-0.960718309855001,1.2058283583663592,-0.6547448590699108,-0.42862393974460977,7.79717434086501,-0.41026926167806277,0.6806526220442533,-0.3212762976157753,-1.0620546560129163,-0.8009440463098559,-0.5825786973468459,-3.337379239053317,2.1110297402553924,-0.4552662347969319,-1.2529296945619004,-0.01787878130228235,0.8975811273621335,-0.29455182184997325,0.6064056202586653,-0.4462114497958661,3.0614512211110347,-1.0738212147283703,1.9246865378648037,3.5602356532067696,1.8081969701290461,-1.4057799645647353,-0.18552277521616503,1.285437527381609,3.764950779054086,3.0677263769643117,8.932735226918076,4.928224400380571,-0.17346340502877644,-0.39594988255262853,5.955476885639499,7.728194150867625,7.03580553493124,0.6388220143815158,3.4802013667996974,1.8319247440161002,0.9666072704803128,2.3408540093537287,2.9005916704932386,-0.6509352266095769,7.249674788789269,-0.16202268724275204,-1.2900208603253254,6.702252365619999,0.32330510989384786],\"xaxis\":\"x\",\"yaxis\":\"y\",\"type\":\"histogram\"}],                        {\"template\":{\"data\":{\"histogram2dcontour\":[{\"type\":\"histogram2dcontour\",\"colorbar\":{\"outlinewidth\":0,\"ticks\":\"\"},\"colorscale\":[[0.0,\"#0d0887\"],[0.1111111111111111,\"#46039f\"],[0.2222222222222222,\"#7201a8\"],[0.3333333333333333,\"#9c179e\"],[0.4444444444444444,\"#bd3786\"],[0.5555555555555556,\"#d8576b\"],[0.6666666666666666,\"#ed7953\"],[0.7777777777777778,\"#fb9f3a\"],[0.8888888888888888,\"#fdca26\"],[1.0,\"#f0f921\"]]}],\"choropleth\":[{\"type\":\"choropleth\",\"colorbar\":{\"outlinewidth\":0,\"ticks\":\"\"}}],\"histogram2d\":[{\"type\":\"histogram2d\",\"colorbar\":{\"outlinewidth\":0,\"ticks\":\"\"},\"colorscale\":[[0.0,\"#0d0887\"],[0.1111111111111111,\"#46039f\"],[0.2222222222222222,\"#7201a8\"],[0.3333333333333333,\"#9c179e\"],[0.4444444444444444,\"#bd3786\"],[0.5555555555555556,\"#d8576b\"],[0.6666666666666666,\"#ed7953\"],[0.7777777777777778,\"#fb9f3a\"],[0.8888888888888888,\"#fdca26\"],[1.0,\"#f0f921\"]]}],\"heatmap\":[{\"type\":\"heatmap\",\"colorbar\":{\"outlinewidth\":0,\"ticks\":\"\"},\"colorscale\":[[0.0,\"#0d0887\"],[0.1111111111111111,\"#46039f\"],[0.2222222222222222,\"#7201a8\"],[0.3333333333333333,\"#9c179e\"],[0.4444444444444444,\"#bd3786\"],[0.5555555555555556,\"#d8576b\"],[0.6666666666666666,\"#ed7953\"],[0.7777777777777778,\"#fb9f3a\"],[0.8888888888888888,\"#fdca26\"],[1.0,\"#f0f921\"]]}],\"heatmapgl\":[{\"type\":\"heatmapgl\",\"colorbar\":{\"outlinewidth\":0,\"ticks\":\"\"},\"colorscale\":[[0.0,\"#0d0887\"],[0.1111111111111111,\"#46039f\"],[0.2222222222222222,\"#7201a8\"],[0.3333333333333333,\"#9c179e\"],[0.4444444444444444,\"#bd3786\"],[0.5555555555555556,\"#d8576b\"],[0.6666666666666666,\"#ed7953\"],[0.7777777777777778,\"#fb9f3a\"],[0.8888888888888888,\"#fdca26\"],[1.0,\"#f0f921\"]]}],\"contourcarpet\":[{\"type\":\"contourcarpet\",\"colorbar\":{\"outlinewidth\":0,\"ticks\":\"\"}}],\"contour\":[{\"type\":\"contour\",\"colorbar\":{\"outlinewidth\":0,\"ticks\":\"\"},\"colorscale\":[[0.0,\"#0d0887\"],[0.1111111111111111,\"#46039f\"],[0.2222222222222222,\"#7201a8\"],[0.3333333333333333,\"#9c179e\"],[0.4444444444444444,\"#bd3786\"],[0.5555555555555556,\"#d8576b\"],[0.6666666666666666,\"#ed7953\"],[0.7777777777777778,\"#fb9f3a\"],[0.8888888888888888,\"#fdca26\"],[1.0,\"#f0f921\"]]}],\"surface\":[{\"type\":\"surface\",\"colorbar\":{\"outlinewidth\":0,\"ticks\":\"\"},\"colorscale\":[[0.0,\"#0d0887\"],[0.1111111111111111,\"#46039f\"],[0.2222222222222222,\"#7201a8\"],[0.3333333333333333,\"#9c179e\"],[0.4444444444444444,\"#bd3786\"],[0.5555555555555556,\"#d8576b\"],[0.6666666666666666,\"#ed7953\"],[0.7777777777777778,\"#fb9f3a\"],[0.8888888888888888,\"#fdca26\"],[1.0,\"#f0f921\"]]}],\"mesh3d\":[{\"type\":\"mesh3d\",\"colorbar\":{\"outlinewidth\":0,\"ticks\":\"\"}}],\"scatter\":[{\"fillpattern\":{\"fillmode\":\"overlay\",\"size\":10,\"solidity\":0.2},\"type\":\"scatter\"}],\"parcoords\":[{\"type\":\"parcoords\",\"line\":{\"colorbar\":{\"outlinewidth\":0,\"ticks\":\"\"}}}],\"scatterpolargl\":[{\"type\":\"scatterpolargl\",\"marker\":{\"colorbar\":{\"outlinewidth\":0,\"ticks\":\"\"}}}],\"bar\":[{\"error_x\":{\"color\":\"#2a3f5f\"},\"error_y\":{\"color\":\"#2a3f5f\"},\"marker\":{\"line\":{\"color\":\"#E5ECF6\",\"width\":0.5},\"pattern\":{\"fillmode\":\"overlay\",\"size\":10,\"solidity\":0.2}},\"type\":\"bar\"}],\"scattergeo\":[{\"type\":\"scattergeo\",\"marker\":{\"colorbar\":{\"outlinewidth\":0,\"ticks\":\"\"}}}],\"scatterpolar\":[{\"type\":\"scatterpolar\",\"marker\":{\"colorbar\":{\"outlinewidth\":0,\"ticks\":\"\"}}}],\"histogram\":[{\"marker\":{\"pattern\":{\"fillmode\":\"overlay\",\"size\":10,\"solidity\":0.2}},\"type\":\"histogram\"}],\"scattergl\":[{\"type\":\"scattergl\",\"marker\":{\"colorbar\":{\"outlinewidth\":0,\"ticks\":\"\"}}}],\"scatter3d\":[{\"type\":\"scatter3d\",\"line\":{\"colorbar\":{\"outlinewidth\":0,\"ticks\":\"\"}},\"marker\":{\"colorbar\":{\"outlinewidth\":0,\"ticks\":\"\"}}}],\"scattermapbox\":[{\"type\":\"scattermapbox\",\"marker\":{\"colorbar\":{\"outlinewidth\":0,\"ticks\":\"\"}}}],\"scatterternary\":[{\"type\":\"scatterternary\",\"marker\":{\"colorbar\":{\"outlinewidth\":0,\"ticks\":\"\"}}}],\"scattercarpet\":[{\"type\":\"scattercarpet\",\"marker\":{\"colorbar\":{\"outlinewidth\":0,\"ticks\":\"\"}}}],\"carpet\":[{\"aaxis\":{\"endlinecolor\":\"#2a3f5f\",\"gridcolor\":\"white\",\"linecolor\":\"white\",\"minorgridcolor\":\"white\",\"startlinecolor\":\"#2a3f5f\"},\"baxis\":{\"endlinecolor\":\"#2a3f5f\",\"gridcolor\":\"white\",\"linecolor\":\"white\",\"minorgridcolor\":\"white\",\"startlinecolor\":\"#2a3f5f\"},\"type\":\"carpet\"}],\"table\":[{\"cells\":{\"fill\":{\"color\":\"#EBF0F8\"},\"line\":{\"color\":\"white\"}},\"header\":{\"fill\":{\"color\":\"#C8D4E3\"},\"line\":{\"color\":\"white\"}},\"type\":\"table\"}],\"barpolar\":[{\"marker\":{\"line\":{\"color\":\"#E5ECF6\",\"width\":0.5},\"pattern\":{\"fillmode\":\"overlay\",\"size\":10,\"solidity\":0.2}},\"type\":\"barpolar\"}],\"pie\":[{\"automargin\":true,\"type\":\"pie\"}]},\"layout\":{\"autotypenumbers\":\"strict\",\"colorway\":[\"#636efa\",\"#EF553B\",\"#00cc96\",\"#ab63fa\",\"#FFA15A\",\"#19d3f3\",\"#FF6692\",\"#B6E880\",\"#FF97FF\",\"#FECB52\"],\"font\":{\"color\":\"#2a3f5f\"},\"hovermode\":\"closest\",\"hoverlabel\":{\"align\":\"left\"},\"paper_bgcolor\":\"white\",\"plot_bgcolor\":\"#E5ECF6\",\"polar\":{\"bgcolor\":\"#E5ECF6\",\"angularaxis\":{\"gridcolor\":\"white\",\"linecolor\":\"white\",\"ticks\":\"\"},\"radialaxis\":{\"gridcolor\":\"white\",\"linecolor\":\"white\",\"ticks\":\"\"}},\"ternary\":{\"bgcolor\":\"#E5ECF6\",\"aaxis\":{\"gridcolor\":\"white\",\"linecolor\":\"white\",\"ticks\":\"\"},\"baxis\":{\"gridcolor\":\"white\",\"linecolor\":\"white\",\"ticks\":\"\"},\"caxis\":{\"gridcolor\":\"white\",\"linecolor\":\"white\",\"ticks\":\"\"}},\"coloraxis\":{\"colorbar\":{\"outlinewidth\":0,\"ticks\":\"\"}},\"colorscale\":{\"sequential\":[[0.0,\"#0d0887\"],[0.1111111111111111,\"#46039f\"],[0.2222222222222222,\"#7201a8\"],[0.3333333333333333,\"#9c179e\"],[0.4444444444444444,\"#bd3786\"],[0.5555555555555556,\"#d8576b\"],[0.6666666666666666,\"#ed7953\"],[0.7777777777777778,\"#fb9f3a\"],[0.8888888888888888,\"#fdca26\"],[1.0,\"#f0f921\"]],\"sequentialminus\":[[0.0,\"#0d0887\"],[0.1111111111111111,\"#46039f\"],[0.2222222222222222,\"#7201a8\"],[0.3333333333333333,\"#9c179e\"],[0.4444444444444444,\"#bd3786\"],[0.5555555555555556,\"#d8576b\"],[0.6666666666666666,\"#ed7953\"],[0.7777777777777778,\"#fb9f3a\"],[0.8888888888888888,\"#fdca26\"],[1.0,\"#f0f921\"]],\"diverging\":[[0,\"#8e0152\"],[0.1,\"#c51b7d\"],[0.2,\"#de77ae\"],[0.3,\"#f1b6da\"],[0.4,\"#fde0ef\"],[0.5,\"#f7f7f7\"],[0.6,\"#e6f5d0\"],[0.7,\"#b8e186\"],[0.8,\"#7fbc41\"],[0.9,\"#4d9221\"],[1,\"#276419\"]]},\"xaxis\":{\"gridcolor\":\"white\",\"linecolor\":\"white\",\"ticks\":\"\",\"title\":{\"standoff\":15},\"zerolinecolor\":\"white\",\"automargin\":true,\"zerolinewidth\":2},\"yaxis\":{\"gridcolor\":\"white\",\"linecolor\":\"white\",\"ticks\":\"\",\"title\":{\"standoff\":15},\"zerolinecolor\":\"white\",\"automargin\":true,\"zerolinewidth\":2},\"scene\":{\"xaxis\":{\"backgroundcolor\":\"#E5ECF6\",\"gridcolor\":\"white\",\"linecolor\":\"white\",\"showbackground\":true,\"ticks\":\"\",\"zerolinecolor\":\"white\",\"gridwidth\":2},\"yaxis\":{\"backgroundcolor\":\"#E5ECF6\",\"gridcolor\":\"white\",\"linecolor\":\"white\",\"showbackground\":true,\"ticks\":\"\",\"zerolinecolor\":\"white\",\"gridwidth\":2},\"zaxis\":{\"backgroundcolor\":\"#E5ECF6\",\"gridcolor\":\"white\",\"linecolor\":\"white\",\"showbackground\":true,\"ticks\":\"\",\"zerolinecolor\":\"white\",\"gridwidth\":2}},\"shapedefaults\":{\"line\":{\"color\":\"#2a3f5f\"}},\"annotationdefaults\":{\"arrowcolor\":\"#2a3f5f\",\"arrowhead\":0,\"arrowwidth\":1},\"geo\":{\"bgcolor\":\"white\",\"landcolor\":\"#E5ECF6\",\"subunitcolor\":\"white\",\"showland\":true,\"showlakes\":true,\"lakecolor\":\"white\"},\"title\":{\"x\":0.05},\"mapbox\":{\"style\":\"light\"}}},\"xaxis\":{\"anchor\":\"y\",\"domain\":[0.0,1.0],\"title\":{\"text\":\"Logit Value\"},\"range\":[-16.346319443214032,15.57019323621403]},\"yaxis\":{\"anchor\":\"x\",\"domain\":[0.0,1.0],\"title\":{\"text\":\"Count\"}},\"legend\":{\"title\":{\"text\":\"color\"},\"tracegroupgap\":0},\"title\":{\"text\":\"Class 0 Logit Distribution\"},\"barmode\":\"relative\",\"annotations\":[{\"arrowhead\":2,\"ax\":0,\"font\":{\"size\":14},\"showarrow\":true,\"text\":\"Explanation Value\",\"x\":-14.346319443214032,\"y\":0}]},                        {\"responsive\": true}                    ).then(function(){\n",
       "                            \n",
       "var gd = document.getElementById('8241ccff-c6ed-47c1-a53f-b1db30c80bfc');\n",
       "var x = new MutationObserver(function (mutations, observer) {{\n",
       "        var display = window.getComputedStyle(gd).display;\n",
       "        if (!display || display === 'none') {{\n",
       "            console.log([gd, 'removed!']);\n",
       "            Plotly.purge(gd);\n",
       "            observer.disconnect();\n",
       "        }}\n",
       "}});\n",
       "\n",
       "// Listen for the removal of the full notebook cells\n",
       "var notebookContainer = gd.closest('#notebook-container');\n",
       "if (notebookContainer) {{\n",
       "    x.observe(notebookContainer, {childList: true});\n",
       "}}\n",
       "\n",
       "// Listen for the clearing of the current output cell\n",
       "var outputEl = gd.closest('.output');\n",
       "if (outputEl) {{\n",
       "    x.observe(outputEl, {childList: true});\n",
       "}}\n",
       "\n",
       "                        })                };                });            </script>        </div>"
      ]
     },
     "metadata": {},
     "output_type": "display_data"
    },
    {
     "data": {
      "application/vnd.plotly.v1+json": {
       "config": {
        "plotlyServerURL": "https://plot.ly"
       },
       "data": [
        {
         "alignmentgroup": "True",
         "bingroup": "x",
         "hovertemplate": "color=1<br>value=%{x}<br>count=%{y}<extra></extra>",
         "legendgroup": "1",
         "marker": {
          "color": "Blue",
          "pattern": {
           "shape": ""
          }
         },
         "name": "1",
         "offsetgroup": "1",
         "orientation": "v",
         "showlegend": true,
         "type": "histogram",
         "x": [
          0.8571093425512577,
          1.135006615238115,
          0.4307563778727749,
          2.549298541756751,
          0.8571093425512578,
          0.8543176496023818,
          0.8897113044220969,
          0.6296834569988524,
          1.113696202081699,
          0.6951431434896252,
          0.9452428682306253,
          0.9477762721378252,
          0.4823971482419104,
          2.2026169253159096,
          1.843734352809486,
          2.335744061481624,
          0.9258675226139026,
          1.032553459540276,
          1.8182359732581705,
          0.4987496264729595,
          0.381566693989365,
          1.843734352809487,
          0.7626515894659462,
          0.7967718623342824,
          2.085749535202997,
          0.47552659529946273,
          0.8508435628961336,
          0.7793038977352346,
          1.1495853880660447,
          0.8571093425512577,
          1.137370838847549,
          1.818235973258171,
          0.6311345122585487,
          0.8571093425512578,
          1.894699637697881,
          0.41660653914257034,
          0.7151613580897995,
          0.8037144650569819,
          0.5160249494779797,
          0.6358372391023432,
          2.8357876109247324,
          0.4107321805934779,
          2.3950383919350906,
          1.843734352809486,
          0.5023839142072608,
          0.4276260053247518,
          1.326554219126213,
          0.4543073096148298,
          1.9204859995469838,
          1.818235973258171,
          0.5127759857401899,
          0.7179932166416194,
          0.8301068280996233,
          1.822385182128706,
          0.47822554903876774,
          1.2032040481996993,
          1.135006615238115,
          1.396582513842336,
          0.5385768414477456,
          0.19930364425526825,
          1.843734352809486,
          1.8437343528094865,
          0.7217857533917025,
          1.8358402276047756,
          2.3968145549571913,
          1.1495853880660447,
          1.8182359732581705,
          1.144562661538555,
          0.42278642766544167,
          0.4932107935737206,
          1.500056032843132,
          0.796340059712378,
          1.818235973258171,
          0.755346015845906,
          1.1495853880660447,
          1.8358402276047756,
          -6.9785783710305775,
          1.5633423846804941,
          0.5421157146106179,
          1.113696202081699,
          0.7535309334122248,
          0.7892388427699039,
          0.6770925795403611,
          0.4113292289113696,
          1.8182359732581705,
          0.5374269523449846,
          1.5274423972345414,
          1.1495853880660447,
          2.6167627782799037,
          0.44282358006929073,
          0.7892388427699039,
          0.6311345122585486,
          1.595730017832649,
          0.7593048475410683,
          0.4878936349502774,
          0.379261309522472,
          0.3530644743926693,
          0.7892388427699039,
          1.894699637697881,
          2.7281367791584974,
          0.6311345122585488,
          0.7892388427699039,
          1.5668354616929896,
          1.3507244229456,
          1.5668354616929896,
          0.7151613580897995,
          0.4624956331953529,
          0.6311345122585486,
          0.7121067942738442,
          1.1187189286091885,
          3.207879056752643,
          0.6074531224035378,
          1.1529787039535018,
          2.791532841244712,
          1.2666057174534797,
          3.3501387790728088,
          0.4392479236094541,
          0.614452078506629,
          0.6770925795403611,
          3.0971288869749904,
          1.5017882909511864,
          0.7561605163532004,
          0.6074531224035378,
          0.6107998643284158,
          1.5040599722032102
         ],
         "xaxis": "x",
         "yaxis": "y"
        },
        {
         "alignmentgroup": "True",
         "bingroup": "x",
         "hovertemplate": "color=0<br>value=%{x}<br>count=%{y}<extra></extra>",
         "legendgroup": "0",
         "marker": {
          "color": "Red",
          "pattern": {
           "shape": ""
          }
         },
         "name": "0",
         "offsetgroup": "0",
         "orientation": "v",
         "showlegend": true,
         "type": "histogram",
         "x": [
          -0.861084715621969,
          -2.580368871329304,
          -2.22462975859618,
          0.8020761828710439,
          -16.484186551623875,
          -1.4378128482838881,
          -10.162448250630788,
          -4.819673734825389,
          0.7241738867893648,
          0.7401027166084996,
          0.7924027614452966,
          -6.485226259536237,
          0.7123294995379797,
          -6.3706997848151055,
          0.7377534357663713,
          -1.831017397225719,
          0.49805949438868763,
          0.3792613095224721,
          -8.961627964822004,
          0.3523044895212586,
          -0.7225797054522343,
          0.26812732821767116,
          0.8234494372160538,
          0.6117675569608918,
          0.4935793720568143,
          2.556765847043703,
          -2.961373412020987,
          0.40545814465227475,
          1.2106697210721475,
          0.014717394917079796,
          -1.1872218164376012,
          0.24340491484205462,
          -0.7923057245953249,
          0.39841474250008024,
          -4.340480452029438,
          0.8307275588067126,
          -2.563278513085156,
          -4.310565916837481,
          -1.8335135995325174,
          1.3539622367056805,
          0.18414945750171013,
          -1.1803207236845576,
          -4.673749798458558,
          -4.50662593791372,
          -10.311029039918878,
          -5.999698817172032,
          0.5849006788058642,
          0.3532052585075313,
          -7.1205372809080405,
          -9.871586831329681,
          -9.880282054591166,
          -2.0157158390202126,
          -4.078939695576578,
          -2.5330849197622025,
          -1.274286690422532,
          -2.5044332179823288,
          -3.169249216092197,
          0.5214346321845874,
          -8.600281098040162,
          -0.03280620849624555,
          1.2370776879712482,
          -7.667233015402804,
          -0.3882272196699419
         ],
         "xaxis": "x",
         "yaxis": "y"
        }
       ],
       "layout": {
        "annotations": [
         {
          "arrowhead": 2,
          "ax": 0,
          "font": {
           "size": 14
          },
          "showarrow": true,
          "text": "Explanation Value",
          "x": 16.539391077081973,
          "y": 0
         }
        ],
        "barmode": "relative",
        "legend": {
         "title": {
          "text": "color"
         },
         "tracegroupgap": 0
        },
        "template": {
         "data": {
          "bar": [
           {
            "error_x": {
             "color": "#2a3f5f"
            },
            "error_y": {
             "color": "#2a3f5f"
            },
            "marker": {
             "line": {
              "color": "#E5ECF6",
              "width": 0.5
             },
             "pattern": {
              "fillmode": "overlay",
              "size": 10,
              "solidity": 0.2
             }
            },
            "type": "bar"
           }
          ],
          "barpolar": [
           {
            "marker": {
             "line": {
              "color": "#E5ECF6",
              "width": 0.5
             },
             "pattern": {
              "fillmode": "overlay",
              "size": 10,
              "solidity": 0.2
             }
            },
            "type": "barpolar"
           }
          ],
          "carpet": [
           {
            "aaxis": {
             "endlinecolor": "#2a3f5f",
             "gridcolor": "white",
             "linecolor": "white",
             "minorgridcolor": "white",
             "startlinecolor": "#2a3f5f"
            },
            "baxis": {
             "endlinecolor": "#2a3f5f",
             "gridcolor": "white",
             "linecolor": "white",
             "minorgridcolor": "white",
             "startlinecolor": "#2a3f5f"
            },
            "type": "carpet"
           }
          ],
          "choropleth": [
           {
            "colorbar": {
             "outlinewidth": 0,
             "ticks": ""
            },
            "type": "choropleth"
           }
          ],
          "contour": [
           {
            "colorbar": {
             "outlinewidth": 0,
             "ticks": ""
            },
            "colorscale": [
             [
              0,
              "#0d0887"
             ],
             [
              0.1111111111111111,
              "#46039f"
             ],
             [
              0.2222222222222222,
              "#7201a8"
             ],
             [
              0.3333333333333333,
              "#9c179e"
             ],
             [
              0.4444444444444444,
              "#bd3786"
             ],
             [
              0.5555555555555556,
              "#d8576b"
             ],
             [
              0.6666666666666666,
              "#ed7953"
             ],
             [
              0.7777777777777778,
              "#fb9f3a"
             ],
             [
              0.8888888888888888,
              "#fdca26"
             ],
             [
              1,
              "#f0f921"
             ]
            ],
            "type": "contour"
           }
          ],
          "contourcarpet": [
           {
            "colorbar": {
             "outlinewidth": 0,
             "ticks": ""
            },
            "type": "contourcarpet"
           }
          ],
          "heatmap": [
           {
            "colorbar": {
             "outlinewidth": 0,
             "ticks": ""
            },
            "colorscale": [
             [
              0,
              "#0d0887"
             ],
             [
              0.1111111111111111,
              "#46039f"
             ],
             [
              0.2222222222222222,
              "#7201a8"
             ],
             [
              0.3333333333333333,
              "#9c179e"
             ],
             [
              0.4444444444444444,
              "#bd3786"
             ],
             [
              0.5555555555555556,
              "#d8576b"
             ],
             [
              0.6666666666666666,
              "#ed7953"
             ],
             [
              0.7777777777777778,
              "#fb9f3a"
             ],
             [
              0.8888888888888888,
              "#fdca26"
             ],
             [
              1,
              "#f0f921"
             ]
            ],
            "type": "heatmap"
           }
          ],
          "heatmapgl": [
           {
            "colorbar": {
             "outlinewidth": 0,
             "ticks": ""
            },
            "colorscale": [
             [
              0,
              "#0d0887"
             ],
             [
              0.1111111111111111,
              "#46039f"
             ],
             [
              0.2222222222222222,
              "#7201a8"
             ],
             [
              0.3333333333333333,
              "#9c179e"
             ],
             [
              0.4444444444444444,
              "#bd3786"
             ],
             [
              0.5555555555555556,
              "#d8576b"
             ],
             [
              0.6666666666666666,
              "#ed7953"
             ],
             [
              0.7777777777777778,
              "#fb9f3a"
             ],
             [
              0.8888888888888888,
              "#fdca26"
             ],
             [
              1,
              "#f0f921"
             ]
            ],
            "type": "heatmapgl"
           }
          ],
          "histogram": [
           {
            "marker": {
             "pattern": {
              "fillmode": "overlay",
              "size": 10,
              "solidity": 0.2
             }
            },
            "type": "histogram"
           }
          ],
          "histogram2d": [
           {
            "colorbar": {
             "outlinewidth": 0,
             "ticks": ""
            },
            "colorscale": [
             [
              0,
              "#0d0887"
             ],
             [
              0.1111111111111111,
              "#46039f"
             ],
             [
              0.2222222222222222,
              "#7201a8"
             ],
             [
              0.3333333333333333,
              "#9c179e"
             ],
             [
              0.4444444444444444,
              "#bd3786"
             ],
             [
              0.5555555555555556,
              "#d8576b"
             ],
             [
              0.6666666666666666,
              "#ed7953"
             ],
             [
              0.7777777777777778,
              "#fb9f3a"
             ],
             [
              0.8888888888888888,
              "#fdca26"
             ],
             [
              1,
              "#f0f921"
             ]
            ],
            "type": "histogram2d"
           }
          ],
          "histogram2dcontour": [
           {
            "colorbar": {
             "outlinewidth": 0,
             "ticks": ""
            },
            "colorscale": [
             [
              0,
              "#0d0887"
             ],
             [
              0.1111111111111111,
              "#46039f"
             ],
             [
              0.2222222222222222,
              "#7201a8"
             ],
             [
              0.3333333333333333,
              "#9c179e"
             ],
             [
              0.4444444444444444,
              "#bd3786"
             ],
             [
              0.5555555555555556,
              "#d8576b"
             ],
             [
              0.6666666666666666,
              "#ed7953"
             ],
             [
              0.7777777777777778,
              "#fb9f3a"
             ],
             [
              0.8888888888888888,
              "#fdca26"
             ],
             [
              1,
              "#f0f921"
             ]
            ],
            "type": "histogram2dcontour"
           }
          ],
          "mesh3d": [
           {
            "colorbar": {
             "outlinewidth": 0,
             "ticks": ""
            },
            "type": "mesh3d"
           }
          ],
          "parcoords": [
           {
            "line": {
             "colorbar": {
              "outlinewidth": 0,
              "ticks": ""
             }
            },
            "type": "parcoords"
           }
          ],
          "pie": [
           {
            "automargin": true,
            "type": "pie"
           }
          ],
          "scatter": [
           {
            "fillpattern": {
             "fillmode": "overlay",
             "size": 10,
             "solidity": 0.2
            },
            "type": "scatter"
           }
          ],
          "scatter3d": [
           {
            "line": {
             "colorbar": {
              "outlinewidth": 0,
              "ticks": ""
             }
            },
            "marker": {
             "colorbar": {
              "outlinewidth": 0,
              "ticks": ""
             }
            },
            "type": "scatter3d"
           }
          ],
          "scattercarpet": [
           {
            "marker": {
             "colorbar": {
              "outlinewidth": 0,
              "ticks": ""
             }
            },
            "type": "scattercarpet"
           }
          ],
          "scattergeo": [
           {
            "marker": {
             "colorbar": {
              "outlinewidth": 0,
              "ticks": ""
             }
            },
            "type": "scattergeo"
           }
          ],
          "scattergl": [
           {
            "marker": {
             "colorbar": {
              "outlinewidth": 0,
              "ticks": ""
             }
            },
            "type": "scattergl"
           }
          ],
          "scattermapbox": [
           {
            "marker": {
             "colorbar": {
              "outlinewidth": 0,
              "ticks": ""
             }
            },
            "type": "scattermapbox"
           }
          ],
          "scatterpolar": [
           {
            "marker": {
             "colorbar": {
              "outlinewidth": 0,
              "ticks": ""
             }
            },
            "type": "scatterpolar"
           }
          ],
          "scatterpolargl": [
           {
            "marker": {
             "colorbar": {
              "outlinewidth": 0,
              "ticks": ""
             }
            },
            "type": "scatterpolargl"
           }
          ],
          "scatterternary": [
           {
            "marker": {
             "colorbar": {
              "outlinewidth": 0,
              "ticks": ""
             }
            },
            "type": "scatterternary"
           }
          ],
          "surface": [
           {
            "colorbar": {
             "outlinewidth": 0,
             "ticks": ""
            },
            "colorscale": [
             [
              0,
              "#0d0887"
             ],
             [
              0.1111111111111111,
              "#46039f"
             ],
             [
              0.2222222222222222,
              "#7201a8"
             ],
             [
              0.3333333333333333,
              "#9c179e"
             ],
             [
              0.4444444444444444,
              "#bd3786"
             ],
             [
              0.5555555555555556,
              "#d8576b"
             ],
             [
              0.6666666666666666,
              "#ed7953"
             ],
             [
              0.7777777777777778,
              "#fb9f3a"
             ],
             [
              0.8888888888888888,
              "#fdca26"
             ],
             [
              1,
              "#f0f921"
             ]
            ],
            "type": "surface"
           }
          ],
          "table": [
           {
            "cells": {
             "fill": {
              "color": "#EBF0F8"
             },
             "line": {
              "color": "white"
             }
            },
            "header": {
             "fill": {
              "color": "#C8D4E3"
             },
             "line": {
              "color": "white"
             }
            },
            "type": "table"
           }
          ]
         },
         "layout": {
          "annotationdefaults": {
           "arrowcolor": "#2a3f5f",
           "arrowhead": 0,
           "arrowwidth": 1
          },
          "autotypenumbers": "strict",
          "coloraxis": {
           "colorbar": {
            "outlinewidth": 0,
            "ticks": ""
           }
          },
          "colorscale": {
           "diverging": [
            [
             0,
             "#8e0152"
            ],
            [
             0.1,
             "#c51b7d"
            ],
            [
             0.2,
             "#de77ae"
            ],
            [
             0.3,
             "#f1b6da"
            ],
            [
             0.4,
             "#fde0ef"
            ],
            [
             0.5,
             "#f7f7f7"
            ],
            [
             0.6,
             "#e6f5d0"
            ],
            [
             0.7,
             "#b8e186"
            ],
            [
             0.8,
             "#7fbc41"
            ],
            [
             0.9,
             "#4d9221"
            ],
            [
             1,
             "#276419"
            ]
           ],
           "sequential": [
            [
             0,
             "#0d0887"
            ],
            [
             0.1111111111111111,
             "#46039f"
            ],
            [
             0.2222222222222222,
             "#7201a8"
            ],
            [
             0.3333333333333333,
             "#9c179e"
            ],
            [
             0.4444444444444444,
             "#bd3786"
            ],
            [
             0.5555555555555556,
             "#d8576b"
            ],
            [
             0.6666666666666666,
             "#ed7953"
            ],
            [
             0.7777777777777778,
             "#fb9f3a"
            ],
            [
             0.8888888888888888,
             "#fdca26"
            ],
            [
             1,
             "#f0f921"
            ]
           ],
           "sequentialminus": [
            [
             0,
             "#0d0887"
            ],
            [
             0.1111111111111111,
             "#46039f"
            ],
            [
             0.2222222222222222,
             "#7201a8"
            ],
            [
             0.3333333333333333,
             "#9c179e"
            ],
            [
             0.4444444444444444,
             "#bd3786"
            ],
            [
             0.5555555555555556,
             "#d8576b"
            ],
            [
             0.6666666666666666,
             "#ed7953"
            ],
            [
             0.7777777777777778,
             "#fb9f3a"
            ],
            [
             0.8888888888888888,
             "#fdca26"
            ],
            [
             1,
             "#f0f921"
            ]
           ]
          },
          "colorway": [
           "#636efa",
           "#EF553B",
           "#00cc96",
           "#ab63fa",
           "#FFA15A",
           "#19d3f3",
           "#FF6692",
           "#B6E880",
           "#FF97FF",
           "#FECB52"
          ],
          "font": {
           "color": "#2a3f5f"
          },
          "geo": {
           "bgcolor": "white",
           "lakecolor": "white",
           "landcolor": "#E5ECF6",
           "showlakes": true,
           "showland": true,
           "subunitcolor": "white"
          },
          "hoverlabel": {
           "align": "left"
          },
          "hovermode": "closest",
          "mapbox": {
           "style": "light"
          },
          "paper_bgcolor": "white",
          "plot_bgcolor": "#E5ECF6",
          "polar": {
           "angularaxis": {
            "gridcolor": "white",
            "linecolor": "white",
            "ticks": ""
           },
           "bgcolor": "#E5ECF6",
           "radialaxis": {
            "gridcolor": "white",
            "linecolor": "white",
            "ticks": ""
           }
          },
          "scene": {
           "xaxis": {
            "backgroundcolor": "#E5ECF6",
            "gridcolor": "white",
            "gridwidth": 2,
            "linecolor": "white",
            "showbackground": true,
            "ticks": "",
            "zerolinecolor": "white"
           },
           "yaxis": {
            "backgroundcolor": "#E5ECF6",
            "gridcolor": "white",
            "gridwidth": 2,
            "linecolor": "white",
            "showbackground": true,
            "ticks": "",
            "zerolinecolor": "white"
           },
           "zaxis": {
            "backgroundcolor": "#E5ECF6",
            "gridcolor": "white",
            "gridwidth": 2,
            "linecolor": "white",
            "showbackground": true,
            "ticks": "",
            "zerolinecolor": "white"
           }
          },
          "shapedefaults": {
           "line": {
            "color": "#2a3f5f"
           }
          },
          "ternary": {
           "aaxis": {
            "gridcolor": "white",
            "linecolor": "white",
            "ticks": ""
           },
           "baxis": {
            "gridcolor": "white",
            "linecolor": "white",
            "ticks": ""
           },
           "bgcolor": "#E5ECF6",
           "caxis": {
            "gridcolor": "white",
            "linecolor": "white",
            "ticks": ""
           }
          },
          "title": {
           "x": 0.05
          },
          "xaxis": {
           "automargin": true,
           "gridcolor": "white",
           "linecolor": "white",
           "ticks": "",
           "title": {
            "standoff": 15
           },
           "zerolinecolor": "white",
           "zerolinewidth": 2
          },
          "yaxis": {
           "automargin": true,
           "gridcolor": "white",
           "linecolor": "white",
           "ticks": "",
           "title": {
            "standoff": 15
           },
           "zerolinecolor": "white",
           "zerolinewidth": 2
          }
         }
        },
        "title": {
         "text": "Class 1 Logit Distribution"
        },
        "xaxis": {
         "anchor": "y",
         "domain": [
          0,
          1
         ],
         "range": [
          -18.484186551623875,
          18.539391077081973
         ],
         "title": {
          "text": "Logit Value"
         }
        },
        "yaxis": {
         "anchor": "x",
         "domain": [
          0,
          1
         ],
         "title": {
          "text": "Count"
         }
        }
       }
      },
      "text/html": [
       "<div>                            <div id=\"0d4d91ed-7f7b-460e-bf7c-17a04220ecd1\" class=\"plotly-graph-div\" style=\"height:525px; width:100%;\"></div>            <script type=\"text/javascript\">                require([\"plotly\"], function(Plotly) {                    window.PLOTLYENV=window.PLOTLYENV || {};                                    if (document.getElementById(\"0d4d91ed-7f7b-460e-bf7c-17a04220ecd1\")) {                    Plotly.newPlot(                        \"0d4d91ed-7f7b-460e-bf7c-17a04220ecd1\",                        [{\"alignmentgroup\":\"True\",\"bingroup\":\"x\",\"hovertemplate\":\"color=1<br>value=%{x}<br>count=%{y}<extra></extra>\",\"legendgroup\":\"1\",\"marker\":{\"color\":\"Blue\",\"pattern\":{\"shape\":\"\"}},\"name\":\"1\",\"offsetgroup\":\"1\",\"orientation\":\"v\",\"showlegend\":true,\"x\":[0.8571093425512577,1.135006615238115,0.4307563778727749,2.549298541756751,0.8571093425512578,0.8543176496023818,0.8897113044220969,0.6296834569988524,1.113696202081699,0.6951431434896252,0.9452428682306253,0.9477762721378252,0.4823971482419104,2.2026169253159096,1.843734352809486,2.335744061481624,0.9258675226139026,1.032553459540276,1.8182359732581705,0.4987496264729595,0.381566693989365,1.843734352809487,0.7626515894659462,0.7967718623342824,2.085749535202997,0.47552659529946273,0.8508435628961336,0.7793038977352346,1.1495853880660447,0.8571093425512577,1.137370838847549,1.818235973258171,0.6311345122585487,0.8571093425512578,1.894699637697881,0.41660653914257034,0.7151613580897995,0.8037144650569819,0.5160249494779797,0.6358372391023432,2.8357876109247324,0.4107321805934779,2.3950383919350906,1.843734352809486,0.5023839142072608,0.4276260053247518,1.326554219126213,0.4543073096148298,1.9204859995469838,1.818235973258171,0.5127759857401899,0.7179932166416194,0.8301068280996233,1.822385182128706,0.47822554903876774,1.2032040481996993,1.135006615238115,1.396582513842336,0.5385768414477456,0.19930364425526825,1.843734352809486,1.8437343528094865,0.7217857533917025,1.8358402276047756,2.3968145549571913,1.1495853880660447,1.8182359732581705,1.144562661538555,0.42278642766544167,0.4932107935737206,1.500056032843132,0.796340059712378,1.818235973258171,0.755346015845906,1.1495853880660447,1.8358402276047756,-6.9785783710305775,1.5633423846804941,0.5421157146106179,1.113696202081699,0.7535309334122248,0.7892388427699039,0.6770925795403611,0.4113292289113696,1.8182359732581705,0.5374269523449846,1.5274423972345414,1.1495853880660447,2.6167627782799037,0.44282358006929073,0.7892388427699039,0.6311345122585486,1.595730017832649,0.7593048475410683,0.4878936349502774,0.379261309522472,0.3530644743926693,0.7892388427699039,1.894699637697881,2.7281367791584974,0.6311345122585488,0.7892388427699039,1.5668354616929896,1.3507244229456,1.5668354616929896,0.7151613580897995,0.4624956331953529,0.6311345122585486,0.7121067942738442,1.1187189286091885,3.207879056752643,0.6074531224035378,1.1529787039535018,2.791532841244712,1.2666057174534797,3.3501387790728088,0.4392479236094541,0.614452078506629,0.6770925795403611,3.0971288869749904,1.5017882909511864,0.7561605163532004,0.6074531224035378,0.6107998643284158,1.5040599722032102],\"xaxis\":\"x\",\"yaxis\":\"y\",\"type\":\"histogram\"},{\"alignmentgroup\":\"True\",\"bingroup\":\"x\",\"hovertemplate\":\"color=0<br>value=%{x}<br>count=%{y}<extra></extra>\",\"legendgroup\":\"0\",\"marker\":{\"color\":\"Red\",\"pattern\":{\"shape\":\"\"}},\"name\":\"0\",\"offsetgroup\":\"0\",\"orientation\":\"v\",\"showlegend\":true,\"x\":[-0.861084715621969,-2.580368871329304,-2.22462975859618,0.8020761828710439,-16.484186551623875,-1.4378128482838881,-10.162448250630788,-4.819673734825389,0.7241738867893648,0.7401027166084996,0.7924027614452966,-6.485226259536237,0.7123294995379797,-6.3706997848151055,0.7377534357663713,-1.831017397225719,0.49805949438868763,0.3792613095224721,-8.961627964822004,0.3523044895212586,-0.7225797054522343,0.26812732821767116,0.8234494372160538,0.6117675569608918,0.4935793720568143,2.556765847043703,-2.961373412020987,0.40545814465227475,1.2106697210721475,0.014717394917079796,-1.1872218164376012,0.24340491484205462,-0.7923057245953249,0.39841474250008024,-4.340480452029438,0.8307275588067126,-2.563278513085156,-4.310565916837481,-1.8335135995325174,1.3539622367056805,0.18414945750171013,-1.1803207236845576,-4.673749798458558,-4.50662593791372,-10.311029039918878,-5.999698817172032,0.5849006788058642,0.3532052585075313,-7.1205372809080405,-9.871586831329681,-9.880282054591166,-2.0157158390202126,-4.078939695576578,-2.5330849197622025,-1.274286690422532,-2.5044332179823288,-3.169249216092197,0.5214346321845874,-8.600281098040162,-0.03280620849624555,1.2370776879712482,-7.667233015402804,-0.3882272196699419],\"xaxis\":\"x\",\"yaxis\":\"y\",\"type\":\"histogram\"}],                        {\"template\":{\"data\":{\"histogram2dcontour\":[{\"type\":\"histogram2dcontour\",\"colorbar\":{\"outlinewidth\":0,\"ticks\":\"\"},\"colorscale\":[[0.0,\"#0d0887\"],[0.1111111111111111,\"#46039f\"],[0.2222222222222222,\"#7201a8\"],[0.3333333333333333,\"#9c179e\"],[0.4444444444444444,\"#bd3786\"],[0.5555555555555556,\"#d8576b\"],[0.6666666666666666,\"#ed7953\"],[0.7777777777777778,\"#fb9f3a\"],[0.8888888888888888,\"#fdca26\"],[1.0,\"#f0f921\"]]}],\"choropleth\":[{\"type\":\"choropleth\",\"colorbar\":{\"outlinewidth\":0,\"ticks\":\"\"}}],\"histogram2d\":[{\"type\":\"histogram2d\",\"colorbar\":{\"outlinewidth\":0,\"ticks\":\"\"},\"colorscale\":[[0.0,\"#0d0887\"],[0.1111111111111111,\"#46039f\"],[0.2222222222222222,\"#7201a8\"],[0.3333333333333333,\"#9c179e\"],[0.4444444444444444,\"#bd3786\"],[0.5555555555555556,\"#d8576b\"],[0.6666666666666666,\"#ed7953\"],[0.7777777777777778,\"#fb9f3a\"],[0.8888888888888888,\"#fdca26\"],[1.0,\"#f0f921\"]]}],\"heatmap\":[{\"type\":\"heatmap\",\"colorbar\":{\"outlinewidth\":0,\"ticks\":\"\"},\"colorscale\":[[0.0,\"#0d0887\"],[0.1111111111111111,\"#46039f\"],[0.2222222222222222,\"#7201a8\"],[0.3333333333333333,\"#9c179e\"],[0.4444444444444444,\"#bd3786\"],[0.5555555555555556,\"#d8576b\"],[0.6666666666666666,\"#ed7953\"],[0.7777777777777778,\"#fb9f3a\"],[0.8888888888888888,\"#fdca26\"],[1.0,\"#f0f921\"]]}],\"heatmapgl\":[{\"type\":\"heatmapgl\",\"colorbar\":{\"outlinewidth\":0,\"ticks\":\"\"},\"colorscale\":[[0.0,\"#0d0887\"],[0.1111111111111111,\"#46039f\"],[0.2222222222222222,\"#7201a8\"],[0.3333333333333333,\"#9c179e\"],[0.4444444444444444,\"#bd3786\"],[0.5555555555555556,\"#d8576b\"],[0.6666666666666666,\"#ed7953\"],[0.7777777777777778,\"#fb9f3a\"],[0.8888888888888888,\"#fdca26\"],[1.0,\"#f0f921\"]]}],\"contourcarpet\":[{\"type\":\"contourcarpet\",\"colorbar\":{\"outlinewidth\":0,\"ticks\":\"\"}}],\"contour\":[{\"type\":\"contour\",\"colorbar\":{\"outlinewidth\":0,\"ticks\":\"\"},\"colorscale\":[[0.0,\"#0d0887\"],[0.1111111111111111,\"#46039f\"],[0.2222222222222222,\"#7201a8\"],[0.3333333333333333,\"#9c179e\"],[0.4444444444444444,\"#bd3786\"],[0.5555555555555556,\"#d8576b\"],[0.6666666666666666,\"#ed7953\"],[0.7777777777777778,\"#fb9f3a\"],[0.8888888888888888,\"#fdca26\"],[1.0,\"#f0f921\"]]}],\"surface\":[{\"type\":\"surface\",\"colorbar\":{\"outlinewidth\":0,\"ticks\":\"\"},\"colorscale\":[[0.0,\"#0d0887\"],[0.1111111111111111,\"#46039f\"],[0.2222222222222222,\"#7201a8\"],[0.3333333333333333,\"#9c179e\"],[0.4444444444444444,\"#bd3786\"],[0.5555555555555556,\"#d8576b\"],[0.6666666666666666,\"#ed7953\"],[0.7777777777777778,\"#fb9f3a\"],[0.8888888888888888,\"#fdca26\"],[1.0,\"#f0f921\"]]}],\"mesh3d\":[{\"type\":\"mesh3d\",\"colorbar\":{\"outlinewidth\":0,\"ticks\":\"\"}}],\"scatter\":[{\"fillpattern\":{\"fillmode\":\"overlay\",\"size\":10,\"solidity\":0.2},\"type\":\"scatter\"}],\"parcoords\":[{\"type\":\"parcoords\",\"line\":{\"colorbar\":{\"outlinewidth\":0,\"ticks\":\"\"}}}],\"scatterpolargl\":[{\"type\":\"scatterpolargl\",\"marker\":{\"colorbar\":{\"outlinewidth\":0,\"ticks\":\"\"}}}],\"bar\":[{\"error_x\":{\"color\":\"#2a3f5f\"},\"error_y\":{\"color\":\"#2a3f5f\"},\"marker\":{\"line\":{\"color\":\"#E5ECF6\",\"width\":0.5},\"pattern\":{\"fillmode\":\"overlay\",\"size\":10,\"solidity\":0.2}},\"type\":\"bar\"}],\"scattergeo\":[{\"type\":\"scattergeo\",\"marker\":{\"colorbar\":{\"outlinewidth\":0,\"ticks\":\"\"}}}],\"scatterpolar\":[{\"type\":\"scatterpolar\",\"marker\":{\"colorbar\":{\"outlinewidth\":0,\"ticks\":\"\"}}}],\"histogram\":[{\"marker\":{\"pattern\":{\"fillmode\":\"overlay\",\"size\":10,\"solidity\":0.2}},\"type\":\"histogram\"}],\"scattergl\":[{\"type\":\"scattergl\",\"marker\":{\"colorbar\":{\"outlinewidth\":0,\"ticks\":\"\"}}}],\"scatter3d\":[{\"type\":\"scatter3d\",\"line\":{\"colorbar\":{\"outlinewidth\":0,\"ticks\":\"\"}},\"marker\":{\"colorbar\":{\"outlinewidth\":0,\"ticks\":\"\"}}}],\"scattermapbox\":[{\"type\":\"scattermapbox\",\"marker\":{\"colorbar\":{\"outlinewidth\":0,\"ticks\":\"\"}}}],\"scatterternary\":[{\"type\":\"scatterternary\",\"marker\":{\"colorbar\":{\"outlinewidth\":0,\"ticks\":\"\"}}}],\"scattercarpet\":[{\"type\":\"scattercarpet\",\"marker\":{\"colorbar\":{\"outlinewidth\":0,\"ticks\":\"\"}}}],\"carpet\":[{\"aaxis\":{\"endlinecolor\":\"#2a3f5f\",\"gridcolor\":\"white\",\"linecolor\":\"white\",\"minorgridcolor\":\"white\",\"startlinecolor\":\"#2a3f5f\"},\"baxis\":{\"endlinecolor\":\"#2a3f5f\",\"gridcolor\":\"white\",\"linecolor\":\"white\",\"minorgridcolor\":\"white\",\"startlinecolor\":\"#2a3f5f\"},\"type\":\"carpet\"}],\"table\":[{\"cells\":{\"fill\":{\"color\":\"#EBF0F8\"},\"line\":{\"color\":\"white\"}},\"header\":{\"fill\":{\"color\":\"#C8D4E3\"},\"line\":{\"color\":\"white\"}},\"type\":\"table\"}],\"barpolar\":[{\"marker\":{\"line\":{\"color\":\"#E5ECF6\",\"width\":0.5},\"pattern\":{\"fillmode\":\"overlay\",\"size\":10,\"solidity\":0.2}},\"type\":\"barpolar\"}],\"pie\":[{\"automargin\":true,\"type\":\"pie\"}]},\"layout\":{\"autotypenumbers\":\"strict\",\"colorway\":[\"#636efa\",\"#EF553B\",\"#00cc96\",\"#ab63fa\",\"#FFA15A\",\"#19d3f3\",\"#FF6692\",\"#B6E880\",\"#FF97FF\",\"#FECB52\"],\"font\":{\"color\":\"#2a3f5f\"},\"hovermode\":\"closest\",\"hoverlabel\":{\"align\":\"left\"},\"paper_bgcolor\":\"white\",\"plot_bgcolor\":\"#E5ECF6\",\"polar\":{\"bgcolor\":\"#E5ECF6\",\"angularaxis\":{\"gridcolor\":\"white\",\"linecolor\":\"white\",\"ticks\":\"\"},\"radialaxis\":{\"gridcolor\":\"white\",\"linecolor\":\"white\",\"ticks\":\"\"}},\"ternary\":{\"bgcolor\":\"#E5ECF6\",\"aaxis\":{\"gridcolor\":\"white\",\"linecolor\":\"white\",\"ticks\":\"\"},\"baxis\":{\"gridcolor\":\"white\",\"linecolor\":\"white\",\"ticks\":\"\"},\"caxis\":{\"gridcolor\":\"white\",\"linecolor\":\"white\",\"ticks\":\"\"}},\"coloraxis\":{\"colorbar\":{\"outlinewidth\":0,\"ticks\":\"\"}},\"colorscale\":{\"sequential\":[[0.0,\"#0d0887\"],[0.1111111111111111,\"#46039f\"],[0.2222222222222222,\"#7201a8\"],[0.3333333333333333,\"#9c179e\"],[0.4444444444444444,\"#bd3786\"],[0.5555555555555556,\"#d8576b\"],[0.6666666666666666,\"#ed7953\"],[0.7777777777777778,\"#fb9f3a\"],[0.8888888888888888,\"#fdca26\"],[1.0,\"#f0f921\"]],\"sequentialminus\":[[0.0,\"#0d0887\"],[0.1111111111111111,\"#46039f\"],[0.2222222222222222,\"#7201a8\"],[0.3333333333333333,\"#9c179e\"],[0.4444444444444444,\"#bd3786\"],[0.5555555555555556,\"#d8576b\"],[0.6666666666666666,\"#ed7953\"],[0.7777777777777778,\"#fb9f3a\"],[0.8888888888888888,\"#fdca26\"],[1.0,\"#f0f921\"]],\"diverging\":[[0,\"#8e0152\"],[0.1,\"#c51b7d\"],[0.2,\"#de77ae\"],[0.3,\"#f1b6da\"],[0.4,\"#fde0ef\"],[0.5,\"#f7f7f7\"],[0.6,\"#e6f5d0\"],[0.7,\"#b8e186\"],[0.8,\"#7fbc41\"],[0.9,\"#4d9221\"],[1,\"#276419\"]]},\"xaxis\":{\"gridcolor\":\"white\",\"linecolor\":\"white\",\"ticks\":\"\",\"title\":{\"standoff\":15},\"zerolinecolor\":\"white\",\"automargin\":true,\"zerolinewidth\":2},\"yaxis\":{\"gridcolor\":\"white\",\"linecolor\":\"white\",\"ticks\":\"\",\"title\":{\"standoff\":15},\"zerolinecolor\":\"white\",\"automargin\":true,\"zerolinewidth\":2},\"scene\":{\"xaxis\":{\"backgroundcolor\":\"#E5ECF6\",\"gridcolor\":\"white\",\"linecolor\":\"white\",\"showbackground\":true,\"ticks\":\"\",\"zerolinecolor\":\"white\",\"gridwidth\":2},\"yaxis\":{\"backgroundcolor\":\"#E5ECF6\",\"gridcolor\":\"white\",\"linecolor\":\"white\",\"showbackground\":true,\"ticks\":\"\",\"zerolinecolor\":\"white\",\"gridwidth\":2},\"zaxis\":{\"backgroundcolor\":\"#E5ECF6\",\"gridcolor\":\"white\",\"linecolor\":\"white\",\"showbackground\":true,\"ticks\":\"\",\"zerolinecolor\":\"white\",\"gridwidth\":2}},\"shapedefaults\":{\"line\":{\"color\":\"#2a3f5f\"}},\"annotationdefaults\":{\"arrowcolor\":\"#2a3f5f\",\"arrowhead\":0,\"arrowwidth\":1},\"geo\":{\"bgcolor\":\"white\",\"landcolor\":\"#E5ECF6\",\"subunitcolor\":\"white\",\"showland\":true,\"showlakes\":true,\"lakecolor\":\"white\"},\"title\":{\"x\":0.05},\"mapbox\":{\"style\":\"light\"}}},\"xaxis\":{\"anchor\":\"y\",\"domain\":[0.0,1.0],\"title\":{\"text\":\"Logit Value\"},\"range\":[-18.484186551623875,18.539391077081973]},\"yaxis\":{\"anchor\":\"x\",\"domain\":[0.0,1.0],\"title\":{\"text\":\"Count\"}},\"legend\":{\"title\":{\"text\":\"color\"},\"tracegroupgap\":0},\"title\":{\"text\":\"Class 1 Logit Distribution\"},\"barmode\":\"relative\",\"annotations\":[{\"arrowhead\":2,\"ax\":0,\"font\":{\"size\":14},\"showarrow\":true,\"text\":\"Explanation Value\",\"x\":16.539391077081973,\"y\":0}]},                        {\"responsive\": true}                    ).then(function(){\n",
       "                            \n",
       "var gd = document.getElementById('0d4d91ed-7f7b-460e-bf7c-17a04220ecd1');\n",
       "var x = new MutationObserver(function (mutations, observer) {{\n",
       "        var display = window.getComputedStyle(gd).display;\n",
       "        if (!display || display === 'none') {{\n",
       "            console.log([gd, 'removed!']);\n",
       "            Plotly.purge(gd);\n",
       "            observer.disconnect();\n",
       "        }}\n",
       "}});\n",
       "\n",
       "// Listen for the removal of the full notebook cells\n",
       "var notebookContainer = gd.closest('#notebook-container');\n",
       "if (notebookContainer) {{\n",
       "    x.observe(notebookContainer, {childList: true});\n",
       "}}\n",
       "\n",
       "// Listen for the clearing of the current output cell\n",
       "var outputEl = gd.closest('.output');\n",
       "if (outputEl) {{\n",
       "    x.observe(outputEl, {childList: true});\n",
       "}}\n",
       "\n",
       "                        })                };                });            </script>        </div>"
      ]
     },
     "metadata": {},
     "output_type": "display_data"
    }
   ],
   "source": [
    "all_outputs = []\n",
    "max_output_value, min_output_value = None, None\n",
    "max_activation_value = -float(\"inf\")\n",
    "num_nodes = []\n",
    "for i, data in enumerate(dataset):\n",
    "    data.x = data.x.double()\n",
    "    outputs = nn(data).detach().numpy()\n",
    "    if outputs[0][0] < -15: print(i)\n",
    "    all_outputs.append(outputs)\n",
    "    if max_output_value is None: max_output_value, min_output_value = -float(\"inf\")*np.ones_like(outputs), float(\"inf\")*np.ones_like(outputs)\n",
    "    max_output_value = np.max(np.stack([max_output_value, outputs]),axis=0)\n",
    "    min_output_value = np.min(np.stack([min_output_value, outputs]),axis=0)\n",
    "\n",
    "    all_layer_outputs = nn.get_all_layer_outputs(data)\n",
    "    embedding = dict(all_layer_outputs)[]\n",
    "\n",
    "    all_activations = [output for _, output in all_layer_outputs]\n",
    "    max_activation_value = max(max_activation_value, max(float(torch.max(torch.abs(activation))) for activation in all_activations))\n",
    "    num_nodes.append(data.num_nodes)\n",
    "print(\"Max Absolute Activation Value:\", max_activation_value)\n",
    "print(\"Min Class Output Value:\", min_output_value)\n",
    "print(\"Max Class Output Value:\", max_output_value)\n",
    "px.histogram(num_nodes, title=\"Number of Nodes\").show()\n",
    "\n",
    "\n",
    "all_outputs = np.concatenate(all_outputs, axis=0)\n",
    "px.scatter(x=list(all_outputs[:, 0])+[exp_output[0]], y=list(all_outputs[:, 1])+[exp_output[1]], color=[str(int(d.y)) for d in dataset]+[\"2\"], color_discrete_map={\"0\": \"Red\", \"1\": \"Blue\", \"2\": \"Green\"}).show()\n",
    "for i in range(all_outputs.shape[-1]):\n",
    "    fig = px.histogram(all_outputs[:, i], title=f\"Class {i} Logit Distribution\", color=[int(d.y) for d in dataset], color_discrete_map={0: \"Red\", 1: \"Blue\"})\n",
    "\n",
    "    fig.add_annotation(\n",
    "        text=\"Explanation Value\",\n",
    "        x=exp_output[i],\n",
    "        y=0,  # Adjust the y-coordinate as needed\n",
    "        showarrow=True,\n",
    "        arrowhead=2,\n",
    "        ax=0,  # Adjust the text label's position relative to the point\n",
    "        font=dict(\n",
    "            size=14,\n",
    "        )\n",
    "    )\n",
    "\n",
    "    fig.update_layout(\n",
    "        xaxis_title=\"Logit Value\",\n",
    "        yaxis_title=\"Count\",\n",
    "    )\n",
    "\n",
    "    fig.update_xaxes(\n",
    "        range=[min(min(all_outputs[:, i]), exp_output[i])-2, max(max(all_outputs[:, i]), exp_output[i])+2]\n",
    "    )    \n",
    "\n",
    "    fig.show()"
   ]
  },
  {
   "cell_type": "code",
   "execution_count": null,
   "metadata": {},
   "outputs": [],
   "source": []
  },
  {
   "cell_type": "code",
   "execution_count": 28,
   "metadata": {},
   "outputs": [
    {
     "name": "stderr",
     "output_type": "stream",
     "text": [
      "ffmpeg version 2.8.17-0ubuntu0.1 Copyright (c) 2000-2020 the FFmpeg developers\n",
      "  built with gcc 5.4.0 (Ubuntu 5.4.0-6ubuntu1~16.04.12) 20160609\n",
      "  configuration: --prefix=/usr --extra-version=0ubuntu0.1 --build-suffix=-ffmpeg --toolchain=hardened --libdir=/usr/lib/x86_64-linux-gnu --incdir=/usr/include/x86_64-linux-gnu --cc=cc --cxx=g++ --enable-gpl --enable-shared --disable-stripping --disable-decoder=libopenjpeg --disable-decoder=libschroedinger --enable-avresample --enable-avisynth --enable-gnutls --enable-ladspa --enable-libass --enable-libbluray --enable-libbs2b --enable-libcaca --enable-libcdio --enable-libflite --enable-libfontconfig --enable-libfreetype --enable-libfribidi --enable-libgme --enable-libgsm --enable-libmodplug --enable-libmp3lame --enable-libopenjpeg --enable-libopus --enable-libpulse --enable-librtmp --enable-libschroedinger --enable-libshine --enable-libsnappy --enable-libsoxr --enable-libspeex --enable-libssh --enable-libtheora --enable-libtwolame --enable-libvorbis --enable-libvpx --enable-libwavpack --enable-libwebp --enable-libx265 --enable-libxvid --enable-libzvbi --enable-openal --enable-opengl --enable-x11grab --enable-libdc1394 --enable-libiec61883 --enable-libzmq --enable-frei0r --enable-libx264 --enable-libopencv\n",
      "  libavutil      54. 31.100 / 54. 31.100\n",
      "  libavcodec     56. 60.100 / 56. 60.100\n",
      "  libavformat    56. 40.101 / 56. 40.101\n",
      "  libavdevice    56.  4.100 / 56.  4.100\n",
      "  libavfilter     5. 40.101 /  5. 40.101\n",
      "  libavresample   2.  1.  0 /  2.  1.  0\n",
      "  libswscale      3.  1.101 /  3.  1.101\n",
      "  libswresample   1.  2.101 /  1.  2.101\n",
      "  libpostproc    53.  3.100 / 53.  3.100\n",
      "Input #0, image2, from 'file%02d.png':\n",
      "  Duration: 00:00:05.25, start: 0.000000, bitrate: N/A\n",
      "    Stream #0:0: Video: png, rgba(pc), 640x480 [SAR 3937:3937 DAR 4:3], 4 fps, 4 tbr, 4 tbn, 4 tbc\n",
      "[libx264 @ 0x18d9b60] using SAR=1/1\n",
      "[libx264 @ 0x18d9b60] using cpu capabilities: MMX2 SSE2Fast SSSE3 SSE4.2 AVX FMA3 AVX2 LZCNT BMI2\n",
      "[libx264 @ 0x18d9b60] profile High, level 3.0\n",
      "[libx264 @ 0x18d9b60] 264 - core 148 r2643 5c65704 - H.264/MPEG-4 AVC codec - Copyleft 2003-2015 - http://www.videolan.org/x264.html - options: cabac=1 ref=3 deblock=1:0:0 analyse=0x3:0x113 me=hex subme=7 psy=1 psy_rd=1.00:0.00 mixed_ref=1 me_range=16 chroma_me=1 trellis=1 8x8dct=1 cqm=0 deadzone=21,11 fast_pskip=1 chroma_qp_offset=-2 threads=15 lookahead_threads=2 sliced_threads=0 nr=0 decimate=1 interlaced=0 bluray_compat=0 constrained_intra=0 bframes=3 b_pyramid=2 b_adapt=1 b_bias=0 direct=1 weightb=1 open_gop=0 weightp=2 keyint=250 keyint_min=25 scenecut=40 intra_refresh=0 rc_lookahead=40 rc=crf mbtree=1 crf=23.0 qcomp=0.60 qpmin=0 qpmax=69 qpstep=4 ip_ratio=1.40 aq=1:1.00\n",
      "Output #0, mp4, to 'graph_steps.mp4':\n",
      "  Metadata:\n",
      "    encoder         : Lavf56.40.101\n",
      "    Stream #0:0: Video: h264 (libx264) ([33][0][0][0] / 0x0021), yuv420p, 640x480 [SAR 1:1 DAR 4:3], q=-1--1, 30 fps, 15360 tbn, 30 tbc\n",
      "    Metadata:\n",
      "      encoder         : Lavc56.60.100 libx264\n",
      "Stream mapping:\n",
      "  Stream #0:0 -> #0:0 (png (native) -> h264 (libx264))\n",
      "Press [q] to stop, [?] for help\n",
      "Past duration 0.999992 too large\n",
      "    Last message repeated 9 times\n",
      "frame=  158 fps=0.0 q=-1.0 Lsize=      72kB time=00:00:05.20 bitrate= 113.9kbits/s dup=137 drop=0    \n",
      "video:70kB audio:0kB subtitle:0kB other streams:0kB global headers:0kB muxing overhead: 3.820316%\n",
      "[libx264 @ 0x18d9b60] frame I:1     Avg QP:19.32  size:  9661\n",
      "[libx264 @ 0x18d9b60] frame P:50    Avg QP:17.59  size:  1097\n",
      "[libx264 @ 0x18d9b60] frame B:107   Avg QP:13.79  size:    57\n",
      "[libx264 @ 0x18d9b60] consecutive B-frames:  7.0%  5.1%  9.5% 78.5%\n",
      "[libx264 @ 0x18d9b60] mb I  I16..4: 38.2% 45.7% 16.2%\n",
      "[libx264 @ 0x18d9b60] mb P  I16..4:  0.1%  1.2%  1.1%  P16..4:  1.2%  0.5%  0.4%  0.0%  0.0%    skip:95.5%\n",
      "[libx264 @ 0x18d9b60] mb B  I16..4:  0.0%  0.0%  0.0%  B16..8:  2.6%  0.0%  0.0%  direct: 0.0%  skip:97.4%  L0:58.7% L1:41.2% BI: 0.0%\n",
      "[libx264 @ 0x18d9b60] 8x8 transform intra:47.4% inter:10.9%\n",
      "[libx264 @ 0x18d9b60] coded y,uvDC,uvAC intra: 20.2% 22.6% 22.4% inter: 0.2% 0.2% 0.2%\n",
      "[libx264 @ 0x18d9b60] i16 v,h,dc,p: 69% 22%  9%  0%\n",
      "[libx264 @ 0x18d9b60] i8 v,h,dc,ddl,ddr,vr,hd,vl,hu: 24% 23% 53%  0%  0%  0%  0%  0%  0%\n",
      "[libx264 @ 0x18d9b60] i4 v,h,dc,ddl,ddr,vr,hd,vl,hu: 27% 19% 27%  4%  5%  5%  6%  4%  4%\n",
      "[libx264 @ 0x18d9b60] i8c dc,h,v,p: 82%  8%  8%  2%\n",
      "[libx264 @ 0x18d9b60] Weighted P-Frames: Y:0.0% UV:0.0%\n",
      "[libx264 @ 0x18d9b60] ref P L0: 84.7%  5.4%  8.8%  1.1%\n",
      "[libx264 @ 0x18d9b60] ref B L0: 50.8% 44.8%  4.4%\n",
      "[libx264 @ 0x18d9b60] ref B L1: 99.6%  0.4%\n",
      "[libx264 @ 0x18d9b60] kb/s:107.26\n"
     ]
    }
   ],
   "source": [
    "folder = \"figures\"\n",
    "# for i in range(14):\n",
    "#     A = np.load(f\"./solutions/A_{i}.npy\")\n",
    "#     X = np.load(f\"./solutions/X_{i}.npy\")\n",
    "for i, sol in enumerate(solutions):\n",
    "    A = sol[\"A\"]\n",
    "    X = sol[\"X\"]\n",
    "\n",
    "    fig, _ = draw_graph(A, X, label_dict=(atom_indices if molecules else None), color_dict=(atom_colors if molecules else None))\n",
    "    \n",
    "    plt.savefig(folder + \"/file%02d.png\" % i)\n",
    "    plt.close()\n",
    "\n",
    "import subprocess\n",
    "import glob\n",
    "os.chdir(folder)\n",
    "subprocess.call([\n",
    "    'ffmpeg', '-framerate', '4', '-i', 'file%02d.png', '-r', '30', '-pix_fmt', 'yuv420p', '-y',\n",
    "    'graph_steps.mp4'\n",
    "])\n",
    "for file_name in glob.glob(\"*.png\"):\n",
    "    os.remove(file_name)\n",
    "os.chdir(\"..\")"
   ]
  }
 ],
 "metadata": {
  "kernelspec": {
   "display_name": "gurobi",
   "language": "python",
   "name": "python3"
  },
  "language_info": {
   "codemirror_mode": {
    "name": "ipython",
    "version": 3
   },
   "file_extension": ".py",
   "mimetype": "text/x-python",
   "name": "python",
   "nbconvert_exporter": "python",
   "pygments_lexer": "ipython3",
   "version": "3.8.16"
  },
  "orig_nbformat": 4
 },
 "nbformat": 4,
 "nbformat_minor": 2
}
