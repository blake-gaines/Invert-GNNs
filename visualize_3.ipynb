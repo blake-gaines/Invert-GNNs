{
 "cells": [
  {
   "cell_type": "code",
   "execution_count": 1,
   "metadata": {},
   "outputs": [],
   "source": [
    "import pickle\n",
    "import os\n",
    "import pandas as pd\n",
    "import numbers\n",
    "import networkx as nx\n",
    "import numpy as np\n",
    "from tqdm.auto import tqdm\n",
    "import plotly.express as px\n",
    "import plotly.io as pio\n",
    "from datasets import get_dataset\n",
    "\n",
    "pio.templates.default = \"plotly_white\""
   ]
  },
  {
   "cell_type": "code",
   "execution_count": 2,
   "metadata": {},
   "outputs": [],
   "source": [
    "datasets = {dataset_name: get_dataset(dataset_name) for dataset_name in [\"Is_Acyclic_Ones\", \"MUTAG\", \"Shapes_Ones\"]}\n",
    "dataset_name = \"Is_Acyclic\""
   ]
  },
  {
   "cell_type": "code",
   "execution_count": 3,
   "metadata": {},
   "outputs": [],
   "source": [
    "def create_graph(adjacency_matrix, node_features):\n",
    "    \"\"\"\n",
    "    Create a NetworkX graph from a numpy adjacency matrix and node feature matrix.\n",
    "\n",
    "    Parameters:\n",
    "    - adjacency_matrix (numpy.ndarray): The adjacency matrix of the graph.\n",
    "    - node_features (numpy.ndarray): The matrix of node features.\n",
    "\n",
    "    Returns:\n",
    "    - nx.Graph: The created NetworkX graph.\n",
    "    \"\"\"\n",
    "\n",
    "    # Create an empty graph\n",
    "    G = nx.Graph()\n",
    "\n",
    "    # Get the number of nodes in the graph\n",
    "    num_nodes = adjacency_matrix.shape[0]\n",
    "\n",
    "    # Add nodes to the graph with corresponding features\n",
    "    for i in range(num_nodes):\n",
    "        G.add_node(i, label=node_features[i])\n",
    "\n",
    "    # Add edges to the graph based on the adjacency matrix\n",
    "    for i in range(num_nodes):\n",
    "        for j in range(i + 1, num_nodes):\n",
    "            if adjacency_matrix[i, j] != 0:\n",
    "                G.add_edge(i, j)\n",
    "\n",
    "    return G\n",
    "\n",
    "def average_edit_distance(Gs):\n",
    "    # Get the average edit distance between all pairs of graphs\n",
    "    edit_distances = []\n",
    "    for i in range(1,len(Gs)):\n",
    "        for j in range(i):\n",
    "            edit_distances.append(nx.graph_edit_distance(Gs[i], Gs[j], node_match=lambda x, y: np.isclose(x['label'], y['label']).all()))\n",
    "    return np.mean(edit_distances)"
   ]
  },
  {
   "cell_type": "code",
   "execution_count": 18,
   "metadata": {},
   "outputs": [
    {
     "name": "stderr",
     "output_type": "stream",
     "text": [
      "/tmp/ipykernel_348463/2886695279.py:1: UserWarning: This figure was saved with matplotlib version 3.8.0 and is unlikely to function correctly.\n",
      "  pickle.load(open(\"results/runs_Is_Acyclic/n9r0e41k.pkl\",\"rb\"), fix_imports=True, encoding=\"latin1\", errors=\"none\")\n"
     ]
    },
    {
     "ename": "TypeError",
     "evalue": "'int' object is not an iterator",
     "output_type": "error",
     "traceback": [
      "\u001b[0;31m---------------------------------------------------------------------------\u001b[0m",
      "\u001b[0;31mTypeError\u001b[0m                                 Traceback (most recent call last)",
      "Cell \u001b[0;32mIn[18], line 1\u001b[0m\n\u001b[0;32m----> 1\u001b[0m \u001b[43mpickle\u001b[49m\u001b[38;5;241;43m.\u001b[39;49m\u001b[43mload\u001b[49m\u001b[43m(\u001b[49m\u001b[38;5;28;43mopen\u001b[39;49m\u001b[43m(\u001b[49m\u001b[38;5;124;43m\"\u001b[39;49m\u001b[38;5;124;43mresults/runs_Is_Acyclic/n9r0e41k.pkl\u001b[39;49m\u001b[38;5;124;43m\"\u001b[39;49m\u001b[43m,\u001b[49m\u001b[38;5;124;43m\"\u001b[39;49m\u001b[38;5;124;43mrb\u001b[39;49m\u001b[38;5;124;43m\"\u001b[39;49m\u001b[43m)\u001b[49m\u001b[43m,\u001b[49m\u001b[43m \u001b[49m\u001b[43mfix_imports\u001b[49m\u001b[38;5;241;43m=\u001b[39;49m\u001b[38;5;28;43;01mTrue\u001b[39;49;00m\u001b[43m,\u001b[49m\u001b[43m \u001b[49m\u001b[43mencoding\u001b[49m\u001b[38;5;241;43m=\u001b[39;49m\u001b[38;5;124;43m\"\u001b[39;49m\u001b[38;5;124;43mlatin1\u001b[39;49m\u001b[38;5;124;43m\"\u001b[39;49m\u001b[43m,\u001b[49m\u001b[43m \u001b[49m\u001b[43merrors\u001b[49m\u001b[38;5;241;43m=\u001b[39;49m\u001b[38;5;124;43m\"\u001b[39;49m\u001b[38;5;124;43mnone\u001b[39;49m\u001b[38;5;124;43m\"\u001b[39;49m\u001b[43m)\u001b[49m\n",
      "File \u001b[0;32m/opt/anaconda3/envs/InvertGNNs/lib/python3.10/site-packages/matplotlib/figure.py:3139\u001b[0m, in \u001b[0;36mFigure.__setstate__\u001b[0;34m(self, state)\u001b[0m\n\u001b[1;32m   3137\u001b[0m num \u001b[38;5;241m=\u001b[39m \u001b[38;5;28mmax\u001b[39m(allnums) \u001b[38;5;241m+\u001b[39m \u001b[38;5;241m1\u001b[39m \u001b[38;5;28;01mif\u001b[39;00m allnums \u001b[38;5;28;01melse\u001b[39;00m \u001b[38;5;241m1\u001b[39m\n\u001b[1;32m   3138\u001b[0m backend \u001b[38;5;241m=\u001b[39m plt\u001b[38;5;241m.\u001b[39m_get_backend_mod()\n\u001b[0;32m-> 3139\u001b[0m mgr \u001b[38;5;241m=\u001b[39m \u001b[43mbackend\u001b[49m\u001b[38;5;241;43m.\u001b[39;49m\u001b[43mnew_figure_manager_given_figure\u001b[49m\u001b[43m(\u001b[49m\u001b[43mnum\u001b[49m\u001b[43m,\u001b[49m\u001b[43m \u001b[49m\u001b[38;5;28;43mself\u001b[39;49m\u001b[43m)\u001b[49m\n\u001b[1;32m   3140\u001b[0m pylab_helpers\u001b[38;5;241m.\u001b[39mGcf\u001b[38;5;241m.\u001b[39m_set_new_active_manager(mgr)\n\u001b[1;32m   3141\u001b[0m plt\u001b[38;5;241m.\u001b[39mdraw_if_interactive()\n",
      "File \u001b[0;32m/opt/anaconda3/envs/InvertGNNs/lib/python3.10/site-packages/matplotlib_inline/backend_inline.py:36\u001b[0m, in \u001b[0;36mnew_figure_manager_given_figure\u001b[0;34m(num, figure)\u001b[0m\n\u001b[1;32m     30\u001b[0m \u001b[38;5;28;01mdef\u001b[39;00m \u001b[38;5;21mnew_figure_manager_given_figure\u001b[39m(num, figure):\n\u001b[1;32m     31\u001b[0m \u001b[38;5;250m    \u001b[39m\u001b[38;5;124;03m\"\"\"\u001b[39;00m\n\u001b[1;32m     32\u001b[0m \u001b[38;5;124;03m    Return a new figure manager for a given figure instance.\u001b[39;00m\n\u001b[1;32m     33\u001b[0m \n\u001b[1;32m     34\u001b[0m \u001b[38;5;124;03m    This function is part of the API expected by Matplotlib backends.\u001b[39;00m\n\u001b[1;32m     35\u001b[0m \u001b[38;5;124;03m    \"\"\"\u001b[39;00m\n\u001b[0;32m---> 36\u001b[0m     manager \u001b[38;5;241m=\u001b[39m \u001b[43mbackend_agg\u001b[49m\u001b[38;5;241;43m.\u001b[39;49m\u001b[43mnew_figure_manager_given_figure\u001b[49m\u001b[43m(\u001b[49m\u001b[43mnum\u001b[49m\u001b[43m,\u001b[49m\u001b[43m \u001b[49m\u001b[43mfigure\u001b[49m\u001b[43m)\u001b[49m\n\u001b[1;32m     38\u001b[0m     \u001b[38;5;66;03m# Hack: matplotlib FigureManager objects in interacive backends (at least\u001b[39;00m\n\u001b[1;32m     39\u001b[0m     \u001b[38;5;66;03m# in some of them) monkeypatch the figure object and add a .show() method\u001b[39;00m\n\u001b[1;32m     40\u001b[0m     \u001b[38;5;66;03m# to it.  This applies the same monkeypatch in order to support user code\u001b[39;00m\n\u001b[0;32m   (...)\u001b[0m\n\u001b[1;32m     43\u001b[0m     \u001b[38;5;66;03m# https://github.com/ipython/ipython/issues/1612\u001b[39;00m\n\u001b[1;32m     44\u001b[0m     \u001b[38;5;66;03m# https://github.com/matplotlib/matplotlib/issues/835\u001b[39;00m\n\u001b[1;32m     46\u001b[0m     \u001b[38;5;28;01mif\u001b[39;00m \u001b[38;5;129;01mnot\u001b[39;00m \u001b[38;5;28mhasattr\u001b[39m(figure, \u001b[38;5;124m'\u001b[39m\u001b[38;5;124mshow\u001b[39m\u001b[38;5;124m'\u001b[39m):\n\u001b[1;32m     47\u001b[0m         \u001b[38;5;66;03m# Queue up `figure` for display\u001b[39;00m\n",
      "File \u001b[0;32m/opt/anaconda3/envs/InvertGNNs/lib/python3.10/site-packages/matplotlib/backend_bases.py:3510\u001b[0m, in \u001b[0;36m_Backend.new_figure_manager_given_figure\u001b[0;34m(cls, num, figure)\u001b[0m\n\u001b[1;32m   3507\u001b[0m \u001b[38;5;129m@classmethod\u001b[39m\n\u001b[1;32m   3508\u001b[0m \u001b[38;5;28;01mdef\u001b[39;00m \u001b[38;5;21mnew_figure_manager_given_figure\u001b[39m(\u001b[38;5;28mcls\u001b[39m, num, figure):\n\u001b[1;32m   3509\u001b[0m \u001b[38;5;250m    \u001b[39m\u001b[38;5;124;03m\"\"\"Create a new figure manager instance for the given figure.\"\"\"\u001b[39;00m\n\u001b[0;32m-> 3510\u001b[0m     \u001b[38;5;28;01mreturn\u001b[39;00m \u001b[38;5;28;43mcls\u001b[39;49m\u001b[38;5;241;43m.\u001b[39;49m\u001b[43mFigureCanvas\u001b[49m\u001b[38;5;241;43m.\u001b[39;49m\u001b[43mnew_manager\u001b[49m\u001b[43m(\u001b[49m\u001b[43mfigure\u001b[49m\u001b[43m,\u001b[49m\u001b[43m \u001b[49m\u001b[43mnum\u001b[49m\u001b[43m)\u001b[49m\n",
      "File \u001b[0;32m/opt/anaconda3/envs/InvertGNNs/lib/python3.10/site-packages/matplotlib/backend_bases.py:1703\u001b[0m, in \u001b[0;36mFigureCanvasBase.new_manager\u001b[0;34m(cls, figure, num)\u001b[0m\n\u001b[1;32m   1692\u001b[0m \u001b[38;5;129m@classmethod\u001b[39m\n\u001b[1;32m   1693\u001b[0m \u001b[38;5;28;01mdef\u001b[39;00m \u001b[38;5;21mnew_manager\u001b[39m(\u001b[38;5;28mcls\u001b[39m, figure, num):\n\u001b[1;32m   1694\u001b[0m \u001b[38;5;250m    \u001b[39m\u001b[38;5;124;03m\"\"\"\u001b[39;00m\n\u001b[1;32m   1695\u001b[0m \u001b[38;5;124;03m    Create a new figure manager for *figure*, using this canvas class.\u001b[39;00m\n\u001b[1;32m   1696\u001b[0m \n\u001b[0;32m   (...)\u001b[0m\n\u001b[1;32m   1701\u001b[0m \u001b[38;5;124;03m    ``FigureManager.create_with_canvas``.\u001b[39;00m\n\u001b[1;32m   1702\u001b[0m \u001b[38;5;124;03m    \"\"\"\u001b[39;00m\n\u001b[0;32m-> 1703\u001b[0m     \u001b[38;5;28;01mreturn\u001b[39;00m \u001b[38;5;28;43mcls\u001b[39;49m\u001b[38;5;241;43m.\u001b[39;49m\u001b[43mmanager_class\u001b[49m\u001b[38;5;241;43m.\u001b[39;49m\u001b[43mcreate_with_canvas\u001b[49m\u001b[43m(\u001b[49m\u001b[38;5;28;43mcls\u001b[39;49m\u001b[43m,\u001b[49m\u001b[43m \u001b[49m\u001b[43mfigure\u001b[49m\u001b[43m,\u001b[49m\u001b[43m \u001b[49m\u001b[43mnum\u001b[49m\u001b[43m)\u001b[49m\n",
      "File \u001b[0;32m/opt/anaconda3/envs/InvertGNNs/lib/python3.10/site-packages/matplotlib/backend_bases.py:2822\u001b[0m, in \u001b[0;36mFigureManagerBase.create_with_canvas\u001b[0;34m(cls, canvas_class, figure, num)\u001b[0m\n\u001b[1;32m   2814\u001b[0m \u001b[38;5;129m@classmethod\u001b[39m\n\u001b[1;32m   2815\u001b[0m \u001b[38;5;28;01mdef\u001b[39;00m \u001b[38;5;21mcreate_with_canvas\u001b[39m(\u001b[38;5;28mcls\u001b[39m, canvas_class, figure, num):\n\u001b[1;32m   2816\u001b[0m \u001b[38;5;250m    \u001b[39m\u001b[38;5;124;03m\"\"\"\u001b[39;00m\n\u001b[1;32m   2817\u001b[0m \u001b[38;5;124;03m    Create a manager for a given *figure* using a specific *canvas_class*.\u001b[39;00m\n\u001b[1;32m   2818\u001b[0m \n\u001b[1;32m   2819\u001b[0m \u001b[38;5;124;03m    Backends should override this method if they have specific needs for\u001b[39;00m\n\u001b[1;32m   2820\u001b[0m \u001b[38;5;124;03m    setting up the canvas or the manager.\u001b[39;00m\n\u001b[1;32m   2821\u001b[0m \u001b[38;5;124;03m    \"\"\"\u001b[39;00m\n\u001b[0;32m-> 2822\u001b[0m     \u001b[38;5;28;01mreturn\u001b[39;00m \u001b[38;5;28;43mcls\u001b[39;49m\u001b[43m(\u001b[49m\u001b[43mcanvas_class\u001b[49m\u001b[43m(\u001b[49m\u001b[43mfigure\u001b[49m\u001b[43m)\u001b[49m\u001b[43m,\u001b[49m\u001b[43m \u001b[49m\u001b[43mnum\u001b[49m\u001b[43m)\u001b[49m\n",
      "File \u001b[0;32m/opt/anaconda3/envs/InvertGNNs/lib/python3.10/site-packages/matplotlib/backend_bases.py:2786\u001b[0m, in \u001b[0;36mFigureManagerBase.__init__\u001b[0;34m(self, canvas, num)\u001b[0m\n\u001b[1;32m   2784\u001b[0m \u001b[38;5;28mself\u001b[39m\u001b[38;5;241m.\u001b[39mbutton_press_handler_id \u001b[38;5;241m=\u001b[39m \u001b[38;5;28;01mNone\u001b[39;00m\n\u001b[1;32m   2785\u001b[0m \u001b[38;5;28;01mif\u001b[39;00m rcParams[\u001b[38;5;124m'\u001b[39m\u001b[38;5;124mtoolbar\u001b[39m\u001b[38;5;124m'\u001b[39m] \u001b[38;5;241m!=\u001b[39m \u001b[38;5;124m'\u001b[39m\u001b[38;5;124mtoolmanager\u001b[39m\u001b[38;5;124m'\u001b[39m:\n\u001b[0;32m-> 2786\u001b[0m     \u001b[38;5;28mself\u001b[39m\u001b[38;5;241m.\u001b[39mkey_press_handler_id \u001b[38;5;241m=\u001b[39m \u001b[38;5;28;43mself\u001b[39;49m\u001b[38;5;241;43m.\u001b[39;49m\u001b[43mcanvas\u001b[49m\u001b[38;5;241;43m.\u001b[39;49m\u001b[43mmpl_connect\u001b[49m\u001b[43m(\u001b[49m\n\u001b[1;32m   2787\u001b[0m \u001b[43m        \u001b[49m\u001b[38;5;124;43m'\u001b[39;49m\u001b[38;5;124;43mkey_press_event\u001b[39;49m\u001b[38;5;124;43m'\u001b[39;49m\u001b[43m,\u001b[49m\u001b[43m \u001b[49m\u001b[43mkey_press_handler\u001b[49m\u001b[43m)\u001b[49m\n\u001b[1;32m   2788\u001b[0m     \u001b[38;5;28mself\u001b[39m\u001b[38;5;241m.\u001b[39mbutton_press_handler_id \u001b[38;5;241m=\u001b[39m \u001b[38;5;28mself\u001b[39m\u001b[38;5;241m.\u001b[39mcanvas\u001b[38;5;241m.\u001b[39mmpl_connect(\n\u001b[1;32m   2789\u001b[0m         \u001b[38;5;124m'\u001b[39m\u001b[38;5;124mbutton_press_event\u001b[39m\u001b[38;5;124m'\u001b[39m, button_press_handler)\n\u001b[1;32m   2791\u001b[0m \u001b[38;5;28mself\u001b[39m\u001b[38;5;241m.\u001b[39mtoolmanager \u001b[38;5;241m=\u001b[39m (ToolManager(canvas\u001b[38;5;241m.\u001b[39mfigure)\n\u001b[1;32m   2792\u001b[0m                     \u001b[38;5;28;01mif\u001b[39;00m mpl\u001b[38;5;241m.\u001b[39mrcParams[\u001b[38;5;124m'\u001b[39m\u001b[38;5;124mtoolbar\u001b[39m\u001b[38;5;124m'\u001b[39m] \u001b[38;5;241m==\u001b[39m \u001b[38;5;124m'\u001b[39m\u001b[38;5;124mtoolmanager\u001b[39m\u001b[38;5;124m'\u001b[39m\n\u001b[1;32m   2793\u001b[0m                     \u001b[38;5;28;01melse\u001b[39;00m \u001b[38;5;28;01mNone\u001b[39;00m)\n",
      "File \u001b[0;32m/opt/anaconda3/envs/InvertGNNs/lib/python3.10/site-packages/matplotlib/backend_bases.py:2440\u001b[0m, in \u001b[0;36mFigureCanvasBase.mpl_connect\u001b[0;34m(self, s, func)\u001b[0m\n\u001b[1;32m   2387\u001b[0m \u001b[38;5;28;01mdef\u001b[39;00m \u001b[38;5;21mmpl_connect\u001b[39m(\u001b[38;5;28mself\u001b[39m, s, func):\n\u001b[1;32m   2388\u001b[0m \u001b[38;5;250m    \u001b[39m\u001b[38;5;124;03m\"\"\"\u001b[39;00m\n\u001b[1;32m   2389\u001b[0m \u001b[38;5;124;03m    Bind function *func* to event *s*.\u001b[39;00m\n\u001b[1;32m   2390\u001b[0m \n\u001b[0;32m   (...)\u001b[0m\n\u001b[1;32m   2437\u001b[0m \u001b[38;5;124;03m        cid = canvas.mpl_connect('button_press_event', on_press)\u001b[39;00m\n\u001b[1;32m   2438\u001b[0m \u001b[38;5;124;03m    \"\"\"\u001b[39;00m\n\u001b[0;32m-> 2440\u001b[0m     \u001b[38;5;28;01mreturn\u001b[39;00m \u001b[38;5;28;43mself\u001b[39;49m\u001b[38;5;241;43m.\u001b[39;49m\u001b[43mcallbacks\u001b[49m\u001b[38;5;241;43m.\u001b[39;49m\u001b[43mconnect\u001b[49m\u001b[43m(\u001b[49m\u001b[43ms\u001b[49m\u001b[43m,\u001b[49m\u001b[43m \u001b[49m\u001b[43mfunc\u001b[49m\u001b[43m)\u001b[49m\n",
      "File \u001b[0;32m/opt/anaconda3/envs/InvertGNNs/lib/python3.10/site-packages/matplotlib/cbook/__init__.py:232\u001b[0m, in \u001b[0;36mCallbackRegistry.connect\u001b[0;34m(self, signal, func)\u001b[0m\n\u001b[1;32m    230\u001b[0m \u001b[38;5;28;01mif\u001b[39;00m proxy \u001b[38;5;129;01min\u001b[39;00m \u001b[38;5;28mself\u001b[39m\u001b[38;5;241m.\u001b[39m_func_cid_map[signal]:\n\u001b[1;32m    231\u001b[0m     \u001b[38;5;28;01mreturn\u001b[39;00m \u001b[38;5;28mself\u001b[39m\u001b[38;5;241m.\u001b[39m_func_cid_map[signal][proxy]\n\u001b[0;32m--> 232\u001b[0m cid \u001b[38;5;241m=\u001b[39m \u001b[38;5;28;43mnext\u001b[39;49m\u001b[43m(\u001b[49m\u001b[38;5;28;43mself\u001b[39;49m\u001b[38;5;241;43m.\u001b[39;49m\u001b[43m_cid_gen\u001b[49m\u001b[43m)\u001b[49m\n\u001b[1;32m    233\u001b[0m \u001b[38;5;28mself\u001b[39m\u001b[38;5;241m.\u001b[39m_func_cid_map[signal][proxy] \u001b[38;5;241m=\u001b[39m cid\n\u001b[1;32m    234\u001b[0m \u001b[38;5;28mself\u001b[39m\u001b[38;5;241m.\u001b[39mcallbacks\u001b[38;5;241m.\u001b[39msetdefault(signal, {})\n",
      "\u001b[0;31mTypeError\u001b[0m: 'int' object is not an iterator"
     ]
    }
   ],
   "source": [
    "pickle.load(open(\"results/runs_Is_Acyclic/n9r0e41k.pkl\",\"rb\"), fix_imports=True, encoding=\"latin1\", errors=\"none\")"
   ]
  },
  {
   "cell_type": "code",
   "execution_count": 7,
   "metadata": {},
   "outputs": [
    {
     "name": "stderr",
     "output_type": "stream",
     "text": [
      "/tmp/ipykernel_348463/3537804299.py:7: UserWarning: This figure was saved with matplotlib version 3.8.0 and is unlikely to function correctly.\n",
      "  d = pickle.load(open(gdir+filename, \"rb\"))\n"
     ]
    },
    {
     "name": "stdout",
     "output_type": "stream",
     "text": [
      "'int' object is not an iterator\n",
      "'int' object is not an iterator\n",
      "'int' object is not an iterator\n",
      "'int' object is not an iterator\n",
      "'int' object is not an iterator\n",
      "'int' object is not an iterator\n",
      "'int' object is not an iterator\n",
      "'int' object is not an iterator\n",
      "'int' object is not an iterator\n",
      "'int' object is not an iterator\n",
      "'int' object is not an iterator\n",
      "'int' object is not an iterator\n",
      "'int' object is not an iterator\n",
      "'int' object is not an iterator\n",
      "'int' object is not an iterator\n",
      "'int' object is not an iterator\n",
      "'int' object is not an iterator\n",
      "'int' object is not an iterator\n",
      "'int' object is not an iterator\n",
      "'int' object is not an iterator\n",
      "'int' object is not an iterator\n",
      "'int' object is not an iterator\n",
      "'int' object is not an iterator\n",
      "'int' object is not an iterator\n",
      "'int' object is not an iterator\n",
      "'int' object is not an iterator\n",
      "'int' object is not an iterator\n",
      "'int' object is not an iterator\n",
      "'int' object is not an iterator\n",
      "'int' object is not an iterator\n",
      "'int' object is not an iterator\n",
      "'int' object is not an iterator\n",
      "'int' object is not an iterator\n",
      "'int' object is not an iterator\n",
      "'int' object is not an iterator\n",
      "'int' object is not an iterator\n",
      "'int' object is not an iterator\n",
      "'int' object is not an iterator\n"
     ]
    }
   ],
   "source": [
    "# %%capture\n",
    "\n",
    "gdir = f\"./results/runs_{dataset_name}/\"\n",
    "d_list = []\n",
    "for filename in os.listdir(gdir):\n",
    "    try:\n",
    "        d = pickle.load(open(gdir+filename, \"rb\"))\n",
    "        if d[\"dataset_name\"] != dataset_name:\n",
    "            continue\n",
    "        d[\"run_id\"] = filename.split(\".\")[0]\n",
    "        d[\"max_class_name\"] = datasets[d[\"dataset_name\"]].GRAPH_CLS[d[\"max_class\"]]\n",
    "        d_list.append(d)\n",
    "    except Exception as e:\n",
    "        print(e)\n",
    "        continue"
   ]
  },
  {
   "cell_type": "code",
   "execution_count": 5,
   "metadata": {},
   "outputs": [
    {
     "ename": "IndexError",
     "evalue": "list index out of range",
     "output_type": "error",
     "traceback": [
      "\u001b[0;31m---------------------------------------------------------------------------\u001b[0m",
      "\u001b[0;31mIndexError\u001b[0m                                Traceback (most recent call last)",
      "Cell \u001b[0;32mIn[5], line 1\u001b[0m\n\u001b[0;32m----> 1\u001b[0m pd\u001b[38;5;241m.\u001b[39mDataFrame(\u001b[43md_list\u001b[49m\u001b[43m[\u001b[49m\u001b[38;5;241;43m1\u001b[39;49m\u001b[43m]\u001b[49m[\u001b[38;5;124m\"\u001b[39m\u001b[38;5;124mmip_information\u001b[39m\u001b[38;5;124m\"\u001b[39m])\n",
      "\u001b[0;31mIndexError\u001b[0m: list index out of range"
     ]
    }
   ],
   "source": [
    "pd.DataFrame(d_list[1][\"mip_information\"])"
   ]
  },
  {
   "cell_type": "code",
   "execution_count": null,
   "metadata": {},
   "outputs": [
    {
     "data": {
      "text/plain": [
       "(['# Model Parameter',\n",
       "  'Highest Upper Bound',\n",
       "  'Lowest Lower Bound',\n",
       "  'Max Non-Target Class Output',\n",
       "  'Min ABS Bound',\n",
       "  'Model Status',\n",
       "  'Objective Value',\n",
       "  'Output',\n",
       "  'Output Logit 0',\n",
       "  'Output Logit 1',\n",
       "  'Output Logit 2',\n",
       "  'Output Logit 3',\n",
       "  'Output Logit 4',\n",
       "  'Target Class Output',\n",
       "  'Upper Bound',\n",
       "  'X',\n",
       "  '_runtime',\n",
       "  '_step',\n",
       "  '_timestamp',\n",
       "  'architecture',\n",
       "  'dataset_name',\n",
       "  'init_index',\n",
       "  'init_with_data',\n",
       "  'initialization',\n",
       "  'initialization_output',\n",
       "  'log',\n",
       "  'max_class',\n",
       "  'max_class_name',\n",
       "  'mip_information',\n",
       "  'model_path',\n",
       "  'num_nodes',\n",
       "  'output_file',\n",
       "  'param_file',\n",
       "  'regularizer_weights',\n",
       "  'regularizers',\n",
       "  'run_id',\n",
       "  'runtime',\n",
       "  'solution',\n",
       "  'solution_output',\n",
       "  'solutions',\n",
       "  'trim_unneeded_outputs'],\n",
       " {'X': array([[1.],\n",
       "         [1.],\n",
       "         [1.],\n",
       "         [1.],\n",
       "         [1.],\n",
       "         [1.]]),\n",
       "  'A': array([[ 0.,  1., -0., -0., -0., -0.],\n",
       "         [ 1.,  0.,  1., -0., -0., -0.],\n",
       "         [ 0.,  1.,  0.,  1., -0.,  1.],\n",
       "         [ 0.,  0.,  1.,  0.,  1.,  1.],\n",
       "         [ 0.,  0.,  0.,  1.,  0.,  1.],\n",
       "         [ 0.,  0.,  1.,  1.,  1.,  0.]]),\n",
       "  'Target Class Output': array(8.19393641),\n",
       "  'Max Non-Target Class Output': 2.092019647263204,\n",
       "  'Output': array([[  8.19393645, -22.29612923,  -6.0792543 , -14.05743582,\n",
       "            2.09202024]]),\n",
       "  'Objective Value': 6.101916758829896,\n",
       "  'Upper Bound': 10.826644198066424},\n",
       " {'ObjBound': -0.5438207509351587,\n",
       "  'BestBound': 151.14724929697059,\n",
       "  'NodeCount': 0.0,\n",
       "  'ExploredNodeCount': 0.0,\n",
       "  'UnexploredNodeCount': 0.0,\n",
       "  'CutCount': 0,\n",
       "  'Runtime': 0.7260148525238037,\n",
       "  'WorkUnits': 0.02414105049195997})"
      ]
     },
     "execution_count": 16,
     "metadata": {},
     "output_type": "execute_result"
    }
   ],
   "source": [
    "sorted(d_list[0].keys()), d_list[0][\"solutions\"][-1], d_list[0][\"mip_information\"][0]"
   ]
  },
  {
   "cell_type": "code",
   "execution_count": null,
   "metadata": {},
   "outputs": [],
   "source": [
    "mip_info = None\n",
    "for d in d_list:\n",
    "    if not d[\"num_nodes\"] == 7 or not d[\"max_class\"] == 0:\n",
    "        continue\n",
    "    print(\"Ah\")\n",
    "    m= pd.DataFrame(d[\"mip_information\"][::len(d[\"mip_information\"])//1000])\n",
    "    m[\"run_id\"] = d[\"run_id\"]\n",
    "    if mip_info is None:\n",
    "        mip_info = m\n",
    "    else:\n",
    "        mip_info = pd.concat([mip_info, m], axis=0)\n",
    "\n",
    "mip_info.rename(columns={\"BestBound\": \"Best Bound\", \"ObjBound\": \"Objective Bound\", \"WorkUnits\": \"Work Units\", \"ExploredNodeCount\": \"Explored Node Count\", \"UnexploredNodeCount\": \"Unexplored Node Count\"}, inplace=True)\n",
    "fig = px.line(mip_info,\n",
    "x=\"Work Units\", \n",
    "y=[\"Best Bound\", \"Objective Bound\"], \n",
    "title=\"Convergence of Objective Bounds\", \n",
    "# width=1000, \n",
    "# height=1000,\n",
    "log_y = True,\n",
    "facet_row=\"run_id\")\n",
    "fig.update_layout(\n",
    "    font=dict(\n",
    "        family= \"Roman Modern\",\n",
    "        size=18,\n",
    "        color='rgb(82, 82, 82)',\n",
    "    ),\n",
    "# legend=dict(\n",
    "#     visible=False\n",
    "# ),\n",
    "showlegend=False,\n",
    "autosize=False,\n",
    "margin=dict(\n",
    "    autoexpand=True,\n",
    "    l=100,\n",
    "    r=20,\n",
    "    t=110,\n",
    "),\n",
    ")   \n",
    "fig.update_xaxes(\n",
    "    ticks='outside',\n",
    "    tickfont=dict(\n",
    "        size=18,\n",
    "        color='rgb(82, 82, 82)',\n",
    "),)\n",
    "fig.update_yaxes(\n",
    "    title=\"\",\n",
    "    tickfont=dict(\n",
    "        size=18,\n",
    "        color='rgb(82, 82, 82)',\n",
    "),)\n",
    "# Save figure\n",
    "# fig.write_image(f\"./results/figures/convergence_{d['dataset']}_class_{d['max_class']}_n_{d['num_nodes']}_id_{d['run_id']}.png\")\n",
    "# fig.write_html(\"./results/figures/convergence_{d['dataset']}_class_{d['max_class']}_n_{d['num_nodes']}_id_{d['run_id']}.html\") \n",
    "fig.for_each_annotation(lambda a: a.update(text=\"\"))\n",
    "fig.for_each_yaxis(lambda y: y.update(title = ''))\n",
    "# and:\n",
    "fig.add_annotation(x=0,y=0.5,\n",
    "                   text=\"Objective Value\", textangle=-90,\n",
    "                    xref=\"paper\", yref=\"paper\")\n",
    "fig.show()\n",
    "\n",
    "\n",
    "# fig = px.line(mip_info, \n",
    "# x=\"Work Units\", \n",
    "# y=[\"Explored Node Count\", \"Unexplored Node Count\"], \n",
    "# title=\"Node Counts\", \n",
    "# width=1000, \n",
    "# height=800,\n",
    "# log_y = True,\n",
    "# facet_row=\"run_id\")\n",
    "# fig.update_layout(\n",
    "#     font=dict(\n",
    "#         family= \"Roman Modern\",\n",
    "#         size=18,\n",
    "#         color='rgb(82, 82, 82)',\n",
    "#     ),\n",
    "# xaxis=dict(\n",
    "#     ticks='outside',\n",
    "#     tickfont=dict(\n",
    "#         size=18,\n",
    "#         color='rgb(82, 82, 82)',\n",
    "#     ),\n",
    "# ),\n",
    "# yaxis=dict(\n",
    "#     title=\"\",\n",
    "#     tickfont=dict(\n",
    "#         size=18,\n",
    "#         color='rgb(82, 82, 82)',\n",
    "#     ),\n",
    "# ),\n",
    "# showlegend=False,\n",
    "# autosize=False,\n",
    "# margin=dict(\n",
    "#     autoexpand=True,\n",
    "#     l=100,\n",
    "#     r=20,\n",
    "#     t=110,\n",
    "# ),\n",
    "# )   \n",
    "# fig.add_annotation(x=0,y=0.5,\n",
    "#                    text=\"Number of Nodes\", textangle=-90,\n",
    "#                     xref=\"paper\", yref=\"paper\")\n",
    "# # fig.write_image(f\"./results/figures/node_counts_{d['dataset']}_class_{d['max_class']}_n_{d['num_nodes']}_id_{d['run_id']}.png\")\n",
    "# fig.for_each_annotation(lambda a: a.update(text=\"\"))\n",
    "# fig.for_each_yaxis(lambda y: y.update(title = ''))\n",
    "# fig.show()\n"
   ]
  },
  {
   "cell_type": "code",
   "execution_count": null,
   "metadata": {},
   "outputs": [],
   "source": [
    "mipexplainer_df = pd.DataFrame([{key: value for key, value in d.items() if isinstance(value, numbers.Number) or key in {\"run_id\", \"dataset_name\"}} for d in d_list])\n",
    "\n",
    "mipexplainer_df[\"G\"] = [create_graph(d[\"solutions\"][-1][\"A\"], d[\"solutions\"][-1][\"X\"]) for d in d_list]\n",
    "mipexplainer_df[\"init_G\"] = [create_graph(d[\"solutions\"][0][\"A\"], d[\"solutions\"][0][\"X\"]) for d in d_list]\n",
    "mipexplainer_df[\"method\"] = \"MIPExplainer\"\n",
    "\n",
    "mipexplainer_df = mipexplainer_df[mipexplainer_df[\"dataset_name\"]==dataset_name]"
   ]
  },
  {
   "cell_type": "code",
   "execution_count": null,
   "metadata": {},
   "outputs": [],
   "source": [
    "gnninterpreter_df = pd.DataFrame(pickle.load(open(f\"results/gnninterpreter_{dataset_name}.pkl\", \"rb\")))\n",
    "xgnn_df = pd.DataFrame(pickle.load(open(f\"results/xgnn_{dataset_name}.pkl\", \"rb\")))\n",
    "\n",
    "df = pd.concat([mipexplainer_df, gnninterpreter_df, xgnn_df])\n",
    "index_names = [\"dataset_name\", \"max_class\", \"num_nodes\", \"method\"] \n",
    "\n",
    "df = df[df[\"max_class\"] != 4]\n",
    "\n",
    "df = df.set_index(index_names).sort_index()"
   ]
  },
  {
   "cell_type": "code",
   "execution_count": null,
   "metadata": {},
   "outputs": [],
   "source": [
    "a = df[[f\"Output Logit {i}\" for i in range(4)]].copy() # df[[c for c in df.columns if \"Output Logit\" in c]]\n",
    "a.rename(columns={f\"Output Logit {i}\": f\"{datasets[dataset_name].GRAPH_CLS[i]} Output Logit\" for i in range(datasets[dataset_name].num_classes)}, inplace=True)\n",
    "# a = a.div(a.sum(axis=1)**2, axis=0)\n",
    "logit_table = a.groupby(index_names).mean()\n",
    "with open(f\"results/tables/output_logit_{dataset_name}.tex\", \"w\") as f:\n",
    "    f.write(logit_table.to_latex(index=True, float_format=\"{:.3f}\".format).replace(\"_\", \"\\\\_\"))\n",
    "logit_table"
   ]
  },
  {
   "cell_type": "code",
   "execution_count": null,
   "metadata": {},
   "outputs": [],
   "source": [
    "runtime_table = df.groupby(index_names)[\"runtime\"].mean()\n",
    "with open(f\"results/tables/runtime_{dataset_name}.tex\", \"w\") as f:\n",
    "    f.write(runtime_table.to_latex(index=True, float_format=\"{:.3f}\".format).replace(\"_\", \"\\\\_\"))\n",
    "runtime_table"
   ]
  },
  {
   "cell_type": "code",
   "execution_count": null,
   "metadata": {},
   "outputs": [],
   "source": [
    "distances = []\n",
    "for name, group in tqdm(df.groupby(index_names)[\"G\"]):\n",
    "    # Save the average edit distance of the group to a df\n",
    "    group = list(group)\n",
    "    distances.append({\"Consistency\": average_edit_distance(group)} | dict(zip(index_names, name)))\n",
    "distances_df = pd.DataFrame(distances).set_index(index_names).sort_index()"
   ]
  },
  {
   "cell_type": "code",
   "execution_count": null,
   "metadata": {},
   "outputs": [],
   "source": [
    "with open(f\"results/tables/consistency_{dataset_name}.tex\", \"w\") as f:\n",
    "    f.write(distances_df.to_latex(index=True, float_format=\"{:.3f}\".format).replace(\"_\", \"\\\\_\"))\n",
    "runtime_table"
   ]
  },
  {
   "cell_type": "code",
   "execution_count": null,
   "metadata": {},
   "outputs": [],
   "source": [
    "# Average over num_nodes\n",
    "averaged_distances_df = distances_df.groupby([\"dataset_name\", \"max_class\", \"method\"]).mean()\n",
    "with open(f\"results/tables/averaged_consistency_{dataset_name}.tex\", \"w\") as f:\n",
    "    f.write(averaged_distances_df.to_latex(index=True, float_format=\"{:.3f}\".format).replace(\"_\", \"\\\\_\"))"
   ]
  }
 ],
 "metadata": {
  "kernelspec": {
   "display_name": "InvertGNNs",
   "language": "python",
   "name": "python3"
  },
  "language_info": {
   "codemirror_mode": {
    "name": "ipython",
    "version": 3
   },
   "file_extension": ".py",
   "mimetype": "text/x-python",
   "name": "python",
   "nbconvert_exporter": "python",
   "pygments_lexer": "ipython3",
   "version": "3.10.13"
  }
 },
 "nbformat": 4,
 "nbformat_minor": 2
}
